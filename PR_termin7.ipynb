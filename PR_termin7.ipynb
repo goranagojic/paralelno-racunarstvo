{
  "nbformat": 4,
  "nbformat_minor": 0,
  "metadata": {
    "colab": {
      "name": "PR-termin7.ipynb",
      "private_outputs": true,
      "provenance": [],
      "collapsed_sections": [
        "K05l-EnttRC5",
        "KlzQYHrzyFzV"
      ],
      "authorship_tag": "ABX9TyM5+KScWTQkryekcYxy9Imz",
      "include_colab_link": true
    },
    "kernelspec": {
      "name": "python3",
      "display_name": "Python 3"
    }
  },
  "cells": [
    {
      "cell_type": "markdown",
      "metadata": {
        "id": "view-in-github",
        "colab_type": "text"
      },
      "source": [
        "<a href=\"https://colab.research.google.com/github/goranagojic/paralelno-racunarstvo/blob/main/PR_termin7.ipynb\" target=\"_parent\"><img src=\"https://colab.research.google.com/assets/colab-badge.svg\" alt=\"Open In Colab\"/></a>"
      ]
    },
    {
      "cell_type": "markdown",
      "metadata": {
        "id": "nhxOjknowURw"
      },
      "source": [
        "# Paralelno računarstvo - Vežba 7\n",
        "\n",
        "Priprema za Z2.\n",
        "\n",
        "Vežba obuhvata zadatke:\n",
        "*    Zadatak 1 - traženje para najbližih tačaka u ravni"
      ]
    },
    {
      "cell_type": "markdown",
      "metadata": {
        "id": "K05l-EnttRC5"
      },
      "source": [
        "## Preduslovi\n",
        "\n",
        "Pre nego započnete implementaciju zadatka, **obavezno** izvršite kod iz ćelije ispod. Kod će:\n",
        "\n",
        "*   proveriti da li je na sistemu instalirana biblioteka `libgomp` potrebna za izvršavanje OpenMP programa i ako nije instaliraće je,\n",
        "*   napraviti direktorijum u koji će se čuvati sve izvrne i izvršne datoteke\n",
        "*   preuzeti datoteku `hpc_helpers.hpp` i sačuvati je na putanju /home/openmp/"
      ]
    },
    {
      "cell_type": "code",
      "metadata": {
        "id": "WTzffLNOwyTp"
      },
      "source": [
        "%%bash\n",
        "\n",
        "# instaliraj libgomp biblioteku ukoliko vec nije instalirana\n",
        "dpkg -l | grep libgomp1\n",
        "[[ $? -ne 0 ]] && sudo apt-get install libgomp1 || echo \"Biblioteka libgomp1 je već instalirana.\"\n",
        "\n",
        "# napravi radni direktorijum\n",
        "mkdir -p /home/openmp\n",
        "\n",
        "# preuzmi hpc_helper zaglavlje\n",
        "[[ -f hpc_helpers.zip ]] || wget -O hpc_helpers.zip \"https://drive.google.com/u/0/uc?id=1PeEfh8h5SjEcQ5154Z6TpHIlJogQODwM&export=download\"\n",
        "unzip -oqqd /home/openmp/ hpc_helpers.zip\n"
      ],
      "execution_count": null,
      "outputs": []
    },
    {
      "cell_type": "markdown",
      "metadata": {
        "id": "AfMlYVy8zd2V"
      },
      "source": [
        "Po završetku prethodne ćelije možete pokrentui narednu koja proverava da li je hpc_helpers zaglavlje raspakovano na željenu putanju. Ukoliko je sve u redu, naredba će ispisati absolutnu putanju do zaglavlja."
      ]
    },
    {
      "cell_type": "code",
      "metadata": {
        "id": "5mOib2NczyjZ"
      },
      "source": [
        "!ls /home/openmp/hpc_helpers.hpp"
      ],
      "execution_count": null,
      "outputs": []
    },
    {
      "cell_type": "markdown",
      "metadata": {
        "id": "KlzQYHrzyFzV"
      },
      "source": [
        "## Zadatak 1\n",
        "Implementirati rešenje koje za zadati niz planarnih tačaka pronalazi najbliži par tačaka (eng. *closest pair of points problem*). Rastojanje između tačaka je definisano kao Euklidsko rastojanje i za svake dve tačke $p$ i $q$ se može sračunati kao:\n",
        "\n",
        "$$\n",
        "d = \\sqrt{(p_{x} - q_{x})^2 + (p_{y} - q_{y})^2}\n",
        "$$\n",
        "\n",
        "Data je postavka zadatka. Potrebno je:\n",
        "*    Implementirati funkciju `find_closest` tako da sadrži sekvencijalno rešenje problema. Dovoljno je implementirati *brute-force* rešenje za traženje najbližeg para. Obratiti pažnju na vreme izvršavanja.\n",
        "*    Implementirati funkciju `find_closest_parallel` tako da sadrži inicijalno OpenMp rešenje problema. Obratiti pažnju na vreme izvršavnaja i uporediti ga sa vremenom izvršavanja sekvencijalnog rešenja. Varirati broj tačaka pri testiranju.\n",
        "*    Razmisliti o optimizacijama OpenMP rešenja koje ste napisali (npr. isprobati različite režime raspoređivanja posla po nitima). U ćeliju ispod postavke zadatka zapisati modifikacije isprobane nad inicijalnim OpenMP rešenjem i zapažanja kako su modifikacije uticale na tačnost rezultata i vreme izvršavanja. Probajte da objasnite zašto su primenjene modifikacije tako uticale na osnovno rešenje."
      ]
    },
    {
      "cell_type": "code",
      "metadata": {
        "id": "he-21Va2zJyI"
      },
      "source": [
        "%%writefile /home/openmp/closestpointspair.cpp\n",
        "\n",
        "#include <iostream>\n",
        "#include <vector>\n",
        "#include <algorithm>\n",
        "#include <random>\n",
        "#include <cassert>\n",
        "\n",
        "#include \"hpc_helpers.hpp\"\n",
        "\n",
        "\n",
        "#define NOTIMPLEMENTED std::pair<Point, Point>()\n",
        "\n",
        "\n",
        "const uint32_t NUM_POINTS = 100000; // menjati broj tacaka u nizu i posmatrati kako se ponasaju vremena izvrsavanja resenja\n",
        "\n",
        "\n",
        "struct Point {\n",
        "    int32_t x;\n",
        "    int32_t y;\n",
        "\n",
        "    Point() {}\n",
        "    Point(int32_t x_, int32_t y_) : x(x_), y(y_) {}\n",
        "};\n",
        "\n",
        "\n",
        "/**\n",
        " * Implementirati C++ sekvencijalno resenje.\n",
        " */ \n",
        "std::pair<Point, Point> find_closest(const std::vector<Point> points) {\n",
        "    // TODO implementirati\n",
        "\n",
        "    return NOTIMPLEMENTED; // modifikovati povratnu vrednost\n",
        "}\n",
        "\n",
        "/**\n",
        " *  Implementirati C++ OpenMP paralelno resenje.\n",
        " */ \n",
        "std::pair<Point, Point> find_closest_parallel(const std::vector<Point> points) {\n",
        "    // TODO implementirati\n",
        "\n",
        "    return NOTIMPLEMENTED; // modifikovati povratnu vrednost\n",
        "}\n",
        "\n",
        "\n",
        "/**\n",
        " * Inicijalizacija vektora razlicitim tackama u istoj ravni. Ukoliko vektor vec\n",
        " * ima elemenata, novi elementi ce biti dodati na postojece.\n",
        " */\n",
        "void init_points(std::vector<Point> &points) {\n",
        "    \n",
        "    std::vector<int32_t> coords(NUM_POINTS * 2);\n",
        "\n",
        "    // generise NUM_POINTS * 2 razlicitih vrednosti koje ce biti koordinate\n",
        "    int32_t counter = 0;\n",
        "    std::generate(coords.begin(), coords.end(), [&counter](){ return counter++; });\n",
        "\n",
        "    // mesa elemente vektora koordinata\n",
        "    std::random_device rd;\n",
        "    auto g = std::mt19937(rd());\n",
        "    std::shuffle(coords.begin(), coords.end(), g);\n",
        "\n",
        "    // pravi tacke od parova susednih koordinata, sve tacke ce biti razlicite\n",
        "    for (auto it = coords.begin(); it != coords.end(); it += 2) {\n",
        "        points.emplace_back(*it, *(it+1));  // x, y\n",
        "    }\n",
        "    assert(points.size() * 2 == coords.size());\n",
        "}\n",
        "\n",
        "\n",
        "int main() {\n",
        "\n",
        "    TIMERSTART(alloc)\n",
        "    std::vector<Point> points;\n",
        "    TIMERSTOP(alloc)\n",
        "\n",
        "    TIMERSTART(init)\n",
        "    init_points(points);\n",
        "    TIMERSTOP(init)\n",
        "\n",
        "    TIMERSTART(seq)\n",
        "    auto closest = find_closest(points);\n",
        "    TIMERSTOP(seq)\n",
        "    \n",
        "    std::cout << \"Najblizi par (\" << closest.first.x << \", \" << closest.first.y << \"), \";\n",
        "    std::cout << \"(\" << closest.second.x << \", \" << closest.second.y << \")\" << std::endl;\n",
        "\n",
        "    TIMERSTART(openmp)\n",
        "    auto closest2 = find_closest_parallel(points);\n",
        "    TIMERSTOP(openmp)\n",
        "\n",
        "    std::cout << \"Najblizi par (\" << closest2.first.x << \", \" << closest2.first.y << \"), \";\n",
        "    std::cout << \"(\" << closest2.second.x << \", \" << closest2.second.y << \")\" << std::endl;\n",
        "    \n",
        "}"
      ],
      "execution_count": null,
      "outputs": []
    },
    {
      "cell_type": "markdown",
      "metadata": {
        "id": "tM7CblUFzqeC"
      },
      "source": [
        "### Kompajliranje izvornog koda\n",
        "\n",
        "Pokrenite komandu u ćeliji ispod kako biste kompajlirali rešenje."
      ]
    },
    {
      "cell_type": "code",
      "metadata": {
        "id": "dlZxGd-UzqeD"
      },
      "source": [
        "%%bash\n",
        "\n",
        "cd /home/openmp\n",
        "g++ hpc_helpers.hpp closestpointspair.cpp -o closestpointspair -fopenmp"
      ],
      "execution_count": null,
      "outputs": []
    },
    {
      "cell_type": "markdown",
      "metadata": {
        "id": "0qabcCDKzqeD"
      },
      "source": [
        "### [Opciono] Provera da li postoji izvršna datoteka"
      ]
    },
    {
      "cell_type": "code",
      "metadata": {
        "id": "tNDMN6w6zqeE"
      },
      "source": [
        "![[ -f /home/openmp/closestpointspair ]] && echo \"Postoji.\" || echo \"Ne postoji.\""
      ],
      "execution_count": null,
      "outputs": []
    },
    {
      "cell_type": "markdown",
      "metadata": {
        "id": "YdVJP7pmzqeF"
      },
      "source": [
        "### Pokretanje rešenja\n",
        "\n",
        "Za promenu broja tačaka promeniti vrednost konstante `NUM_POINTS.`"
      ]
    },
    {
      "cell_type": "code",
      "metadata": {
        "id": "Tr0JjTYezqeF"
      },
      "source": [
        "%%bash\n",
        "\n",
        "cd /home/openmp\n",
        "./closestpointspair"
      ],
      "execution_count": null,
      "outputs": []
    },
    {
      "cell_type": "markdown",
      "metadata": {
        "id": "Qjw6V9SQ1CEj"
      },
      "source": [
        "## Zapažanja\n",
        "\n",
        "Ovde zapisati isprobane optimizacije i njihove efekte na izvršavanje rešenja."
      ]
    }
  ]
}