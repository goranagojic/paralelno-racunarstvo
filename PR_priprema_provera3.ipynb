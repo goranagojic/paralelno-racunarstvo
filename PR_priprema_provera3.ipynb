{
  "nbformat": 4,
  "nbformat_minor": 0,
  "metadata": {
    "colab": {
      "name": "PR-priprema-provera3.ipynb",
      "private_outputs": true,
      "provenance": [],
      "collapsed_sections": [
        "gFj-N8EX38l9",
        "Vya2EkAHtkvh",
        "oQDu-FomFDp5",
        "6uYvXKXZFT32",
        "wizdBJnPaV5i",
        "q5dNRxXVLOq4",
        "Mhd8sxc1-3iK"
      ],
      "include_colab_link": true
    },
    "kernelspec": {
      "name": "python3",
      "display_name": "Python 3"
    },
    "accelerator": "GPU"
  },
  "cells": [
    {
      "cell_type": "markdown",
      "metadata": {
        "id": "view-in-github",
        "colab_type": "text"
      },
      "source": [
        "<a href=\"https://colab.research.google.com/github/goranagojic/paralelno-racunarstvo/blob/main/PR_priprema_provera3.ipynb\" target=\"_parent\"><img src=\"https://colab.research.google.com/assets/colab-badge.svg\" alt=\"Open In Colab\"/></a>"
      ]
    },
    {
      "cell_type": "markdown",
      "metadata": {
        "id": "2Eem6u193EwU"
      },
      "source": [
        "# Paralelno računarstvo - Vežba 12\n",
        "\n",
        "Vežba obuhvata zadatke:\n",
        "*   Zadatak 1 - Redukcija niza"
      ]
    },
    {
      "cell_type": "markdown",
      "metadata": {
        "id": "gFj-N8EX38l9"
      },
      "source": [
        "## Preduslovi\n",
        "Pre nego započnete implementaciju zadataka, **obavezno** izvršite kod iz ćelije ispod. Kod će:\n",
        "- skinuti kompresovanu biblioteku `libwb` koja se koristi u zadacima i raspakovati je na putanju /usr/local/libwb.\n",
        "- skinuti set podataka za testiranje rešenja zadatka i raspakovati ga na putanju /home/cuda"
      ]
    },
    {
      "cell_type": "code",
      "metadata": {
        "id": "PVEkPwGz25bY"
      },
      "source": [
        "%%bash\n",
        "\n",
        "######################### PREUZMI I PODESI libwb ##############################\n",
        "# preuzmi libwb.zip ako već nije preuzet\n",
        "[[ -f libwb.zip ]] || wget -O libwb.zip \"https://drive.google.com/u/0/uc?id=1-j31qXJJOBFKuNc4qzTjTU-Gji8HARh0&export=download\"\n",
        "\n",
        "# otpakuj\n",
        "unzip -oqqd /usr/local libwb.zip\n",
        "\n",
        "\n",
        "################### PREUZMI I PODESI set za testiranje ########################\n",
        "# preuzmi dataset.zip ako vec nije preuzet\n",
        "[[ -f dataset.zip ]] || wget -O dataset.zip \"https://drive.google.com/u/0/uc?id=1I9lBg2p0zw4al7r9OJrKS_3Fp36Ho8pz&export=download\"\n",
        "\n",
        "# otpakuj u direktorijum u kojem ce se nalaziti izvrsna datoteka resenja\n",
        "mkdir -p /home/cuda/\n",
        "unzip -oqqd /home/cuda/ dataset.zip"
      ],
      "execution_count": null,
      "outputs": []
    },
    {
      "cell_type": "markdown",
      "metadata": {
        "id": "lJLBa51Oa_G_"
      },
      "source": [
        "Po završetku prethodne ćelije, možete pokrenuti narednu koja proverava da li `libwb` i `dataset` direktorijumi postoje na predviđenim putanjama. Ukoliko je sve u redu, obe naredbe će ispisati absolutne putanje do direktorijuma. U suprotnom će prijaviti da jedan ili oba direktorijuma nisu pronađena. U tom slučaju treba da se vratite na log prethodne ćelije i potražite gde je došlo do greške."
      ]
    },
    {
      "cell_type": "code",
      "metadata": {
        "id": "w_aHE_e9OxSf"
      },
      "source": [
        "%%bash\n",
        "\n",
        "ls -d /usr/local/libwb/\n",
        "ls -d /home/cuda/dataset"
      ],
      "execution_count": null,
      "outputs": []
    },
    {
      "cell_type": "markdown",
      "metadata": {
        "id": "Vya2EkAHtkvh"
      },
      "source": [
        "## [Opciono] Deinstalacija preduslova\n",
        "Izvršavanjem ćelije ispod brišete instaliranu biblioteku `libwb` i set podataka. Izvršite ovu ćeliju samo ako želite da resetujete instalaciju kako biste reinstalirali preduslove."
      ]
    },
    {
      "cell_type": "code",
      "metadata": {
        "id": "SWwYDR0jHDrI"
      },
      "source": [
        "%%bash\n",
        "\n",
        "# obrisi libwb biblioteku\n",
        "[[ -d /usr/local/libwb ]] && rm -r /usr/local/libwb/ && echo \"Obrisana libwb biblioteka.\"\n",
        "[[ -f libwb.zip ]] && rm libwb.zip && echo \"Obrisana libwb.zip arhiva.\"\n",
        "\n",
        "# obrisi set podataka za testiranje\n",
        "[[ -d /home/cuda/dataset ]] && rm -r /home/cuda/dataset && echo \"Obrisan set podataka.\"\n",
        "[[ -f dataset.zip ]] && rm dataset.zip && echo \"Obrisana dataset.zip arhiva.\""
      ],
      "execution_count": null,
      "outputs": []
    },
    {
      "cell_type": "markdown",
      "metadata": {
        "id": "oQDu-FomFDp5"
      },
      "source": [
        "## Zadatak 1 - Redukcija niza\n",
        "\n",
        "Implementirati CUDA kernel za redukciju ulaznog jednodimenzionalnog niza sumiranjem. Ulazni niz može biti proizvoljne dužine koja ne mora biti umnožak broja blokova niti. U tom slučaju, niti poslednjeg bloka mogu ostati neaktivne ukoliko ne postoji element niza koji treba da obrade ili se nedostajući element može posmatrati kao element vrednosti neutralne za zadati redukcioni operator (0 u ovom slučaju). Dužina ulaznog niza će biti sračunata na osnovu odabranog ulaznog niza i dostupna kao vrednost promenljive `numInputElements`. Svaki od blokova niti treba da sračuna redukcionu vrednost za svoj deo ulaznog niza po algoritmu koji treba implementirati u kernelu. Svaki blok po završetku kernela daje jednu izlaznu vrednost koja predstavlja parcijalnu redukciju dela niza koji je obrađivao. Sračunatu vrednost neka od niti bloka upisuje na odgovarajuću poziciju izlaznog niza koji je zadat kao parametar kernela i čija je dužina takođe unapred sračunata i dostupna kao sadržaj promenljive `numOutputElements`. Kao izlaznu vrednost, kernel vraća niz parcijalnih redukcija na osnovu kojih se računa konačna redukcija. Konačna redukcija niza se računa u kodu domaćina na osnovu parcijalnih redukcija sračunatih na uređaju (videti postavku zadatka na liniji 66). Po završetku implementacije obeleženih delova postavke zadatka, na početku datoteke u komentaru rečima opisati korake implementiranog kernela za redukciju.\n",
        "\n",
        "Dopuniti zadatu postavku zadatka implementacijom nedostajućih delova\n",
        "koda. Celokupno rešenje treba da se nađe u ćeliji ispod. Implementirati:\n",
        "\n",
        "-   alokaciju memorije na uređaju,\n",
        "\n",
        "-   kopiranje podataka iz memorije domaćina u memoriju uređaja,\n",
        "\n",
        "-   inicijalizaciju dimenzija mreže i bloka,\n",
        "\n",
        "-   poziv kernela,\n",
        "\n",
        "-   kopiranje podataka sa memorije uređaja u memoriju domaćina i\n",
        "\n",
        "-   dealokaciju memorije uređaja,\n",
        "\n",
        "-   konvolucioni kernel"
      ]
    },
    {
      "cell_type": "code",
      "metadata": {
        "id": "2X6bDzuZDKFt"
      },
      "source": [
        "%%writefile /home/cuda/array_reduction.cu\n",
        "\n",
        "#include <wb.h>\n",
        "\n",
        "#define BLOCK_SIZE 512 //@@ You can change this\n",
        "\n",
        "#define wbCheck(stmt)                                                     \\\n",
        "  do {                                                                    \\\n",
        "    cudaError_t err = stmt;                                               \\\n",
        "    if (err != cudaSuccess) {                                             \\\n",
        "      wbLog(ERROR, \"Failed to run stmt \", #stmt);                         \\\n",
        "      return -1;                                                          \\\n",
        "    }                                                                     \\\n",
        "  } while (0)\n",
        "\n",
        "\n",
        "__global__ void total(float *input, float *output, int len) {\n",
        "  //@@ TODO implementirati kernel\n",
        "}\n",
        "\n",
        "\n",
        "int main(int argc, char **argv) {\n",
        "  int ii;\n",
        "  wbArg_t args;\n",
        "  float *hostInput;      // The input 1D list\n",
        "  float *hostOutput;     // The output list\n",
        "  float *deviceInput;\n",
        "  float *deviceOutput;\n",
        "  int numInputElements;  // number of elements in the input list\n",
        "  int numOutputElements; // number of elements in the output list\n",
        "\n",
        "  args = wbArg_read(argc, argv);\n",
        "\n",
        "  wbTime_start(Generic, \"Importing data and creating memory on host\");\n",
        "  hostInput =\n",
        "      (float *)wbImport(wbArg_getInputFile(args, 0), &numInputElements);\n",
        "\n",
        "  numOutputElements = numInputElements / (BLOCK_SIZE << 1);\n",
        "  if (numInputElements % (BLOCK_SIZE << 1)) {\n",
        "    numOutputElements++;\n",
        "  }\n",
        "  hostOutput = (float *)malloc(numOutputElements * sizeof(float));\n",
        "\n",
        "  wbTime_stop(Generic, \"Importing data and creating memory on host\");\n",
        "\n",
        "  wbLog(TRACE, \"The number of input elements in the input is \",\n",
        "        numInputElements);\n",
        "  wbLog(TRACE, \"The number of output elements in the input is \",\n",
        "        numOutputElements);\n",
        "\n",
        "  wbTime_start(GPU, \"Allocating GPU memory.\");\n",
        "  //@@ Allocate GPU memory here\n",
        "  wbTime_stop(GPU, \"Allocating GPU memory.\");\n",
        "\n",
        "  wbTime_start(GPU, \"Copying input memory to the GPU.\");\n",
        "  //@@ Copy memory to the GPU here\n",
        "  wbTime_stop(GPU, \"Copying input memory to the GPU.\");\n",
        "  //@@ Initialize the grid and block dimensions here\n",
        "  wbTime_start(Compute, \"Performing CUDA computation\");\n",
        "  //@@ Launch the GPU Kernel here\n",
        "  cudaDeviceSynchronize();\n",
        "  wbTime_stop(Compute, \"Performing CUDA computation\");\n",
        "\n",
        "  wbTime_start(Copy, \"Copying output memory to the CPU\");\n",
        "  //@@ Copy the GPU memory back to the CPU here\n",
        "  wbTime_stop(Copy, \"Copying output memory to the CPU\");\n",
        "\n",
        "  for (ii = 1; ii < numOutputElements; ii++) {\n",
        "    hostOutput[0] += hostOutput[ii];\n",
        "  }\n",
        "\n",
        "  wbTime_start(GPU, \"Freeing GPU Memory\");\n",
        "  //@@ Free the GPU memory here\n",
        "  wbTime_stop(GPU, \"Freeing GPU Memory\");\n",
        "\n",
        "  wbSolution(args, hostOutput, 1);\n",
        "\n",
        "  free(hostInput);\n",
        "  free(hostOutput);\n",
        "\n",
        "  return 0;\n",
        "}\n"
      ],
      "execution_count": null,
      "outputs": []
    },
    {
      "cell_type": "markdown",
      "metadata": {
        "id": "6uYvXKXZFT32"
      },
      "source": [
        "### Kompajliranje izvornog koda\n",
        "Pokrenite komandu u ćeliji ispod kako biste kompajlirali rešenje."
      ]
    },
    {
      "cell_type": "code",
      "metadata": {
        "id": "ujWtOj9BFajn"
      },
      "source": [
        "%%bash\n",
        "\n",
        "cd /home/cuda\n",
        "nvcc array_reduction.cu -o array_reduction \\\n",
        "  -I /usr/local/libwb/ \\\n",
        "  -L /usr/local/libwb/lib \\\n",
        "  -lwb -lcuda"
      ],
      "execution_count": null,
      "outputs": []
    },
    {
      "cell_type": "markdown",
      "metadata": {
        "id": "wizdBJnPaV5i"
      },
      "source": [
        "### [Opciono] Provera da li postoji izvrsna datoteka"
      ]
    },
    {
      "cell_type": "code",
      "metadata": {
        "id": "GdAa1y79aiBz"
      },
      "source": [
        "![[ -f /home/cuda/array_reduction ]] && echo \"Postoji.\" || echo \"Ne postoji.\" "
      ],
      "execution_count": null,
      "outputs": []
    },
    {
      "cell_type": "markdown",
      "metadata": {
        "id": "q5dNRxXVLOq4"
      },
      "source": [
        "### Pokretanje rešenja nad jednim primerom"
      ]
    },
    {
      "cell_type": "code",
      "metadata": {
        "id": "MIkaiOQcGYQa"
      },
      "source": [
        "%%bash\n",
        "\n",
        "cd /home/cuda\n",
        "LD_LIBRARY_PATH=\"/usr/local/libwb/lib:$LD_LIBRARY_PATH\" ./array_reduction \\\n",
        "      -i dataset/0/input.raw \\\n",
        "      -o output.raw \\\n",
        "      -e dataset/0/output.raw \\\n",
        "      -t vector"
      ],
      "execution_count": null,
      "outputs": []
    },
    {
      "cell_type": "markdown",
      "metadata": {
        "id": "Mhd8sxc1-3iK"
      },
      "source": [
        "### Pokretanje rešenja nad svim primerima\n",
        "\n",
        "Nakon uspešnog testiranja rešenja na jednom primeru, možete pokrenuti i testiranje rešenja na svim primerima iz seta podataka."
      ]
    },
    {
      "cell_type": "code",
      "metadata": {
        "id": "ZnSoi_cB-4iN"
      },
      "source": [
        "%%bash\n",
        "\n",
        "cd /home/cuda\n",
        "\n",
        "n=$(ls -dl dataset/* | wc -l)\n",
        "\n",
        "for (( i=0; i<$n; i=i+1 ))\n",
        "do\n",
        "  echo \"Testiram primer $i.\"\n",
        "  echo \"-------------------\"\n",
        "  LD_LIBRARY_PATH=\"/usr/local/libwb/lib:$LD_LIBRARY_PATH\" ./array_reduction \\\n",
        "      -i dataset/0/input.raw \\\n",
        "      -o output.raw \\\n",
        "      -e dataset/0/output.raw \\\n",
        "      -t vector\n",
        "  echo \"\"\n",
        "done"
      ],
      "execution_count": null,
      "outputs": []
    }
  ]
}