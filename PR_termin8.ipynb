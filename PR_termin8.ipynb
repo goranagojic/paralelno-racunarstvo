{
  "nbformat": 4,
  "nbformat_minor": 0,
  "metadata": {
    "colab": {
      "name": "PR-termin8.ipynb",
      "private_outputs": true,
      "provenance": [],
      "collapsed_sections": [
        "gFj-N8EX38l9",
        "Vya2EkAHtkvh",
        "oQDu-FomFDp5",
        "5rhJU4gnDHCm",
        "4HxJWBBrErM3",
        "g0yzvqxPFDm8",
        "zCCFA22BFSrt",
        "7PDtIlJMGBPN"
      ],
      "toc_visible": true,
      "authorship_tag": "ABX9TyPeL1sk+24tjEoQ62ZvBppN",
      "include_colab_link": true
    },
    "kernelspec": {
      "name": "python3",
      "display_name": "Python 3"
    },
    "accelerator": "GPU"
  },
  "cells": [
    {
      "cell_type": "markdown",
      "metadata": {
        "id": "view-in-github",
        "colab_type": "text"
      },
      "source": [
        "<a href=\"https://colab.research.google.com/github/goranagojic/paralelno-racunarstvo/blob/main/PR_termin8.ipynb\" target=\"_parent\"><img src=\"https://colab.research.google.com/assets/colab-badge.svg\" alt=\"Open In Colab\"/></a>"
      ]
    },
    {
      "cell_type": "markdown",
      "metadata": {
        "id": "2Eem6u193EwU"
      },
      "source": [
        "<h1>Paralelno računarstvo - Vežba 8\n",
        "\n",
        "*   Zadatak 1 - Sabiranje vektora (pokazni)\n",
        "*   Zadatak 2 - Množenje matrice skalarom (pokazni)\n",
        "*   Zadatak 3 - Zamućenje slike"
      ]
    },
    {
      "cell_type": "markdown",
      "metadata": {
        "id": "gFj-N8EX38l9"
      },
      "source": [
        "## Preduslovi\n",
        "Pre nego započnete implementaciju zadataka, **obavezno** izvršite kod iz ćelije ispod. Kod će:\n",
        "- skinuti kompresovanu biblioteku `libwb` koja se koristi u zadacima i raspakovati je na putanju /usr/local/libwb.\n",
        "- skinuti set podataka za testiranje rešenja zadatka i raspakovati ga na putanju /home/cuda"
      ]
    },
    {
      "cell_type": "code",
      "metadata": {
        "id": "PVEkPwGz25bY"
      },
      "source": [
        "%%bash\n",
        "\n",
        "######################### PREUZMI I PODESI libwb ##############################\n",
        "# preuzmi libwb.zip ako već nije preuzet\n",
        "[[ -f libwb.zip ]] || wget -O libwb.zip \"https://drive.google.com/u/0/uc?id=1-j31qXJJOBFKuNc4qzTjTU-Gji8HARh0&export=download\"\n",
        "\n",
        "# otpakuj\n",
        "unzip -oqqd /usr/local libwb.zip\n",
        "\n",
        "\n",
        "################### PREUZMI I PODESI set za testiranje ########################\n",
        "# preuzmi dataset.zip ako vec nije preuzet\n",
        "[[ -f dataset.zip ]] || wget -O dataset.zip \"https://drive.google.com/u/0/uc?id=1gfQ9bMVWBsIt2Shqexeu0FbSinSy9-sK&export=download\"\n",
        "\n",
        "# otpakuj u direktorijum u kojem ce se nalaziti izvrsna datoteka resenja\n",
        "mkdir -p /home/cuda/\n",
        "unzip -oqqd /home/cuda/ dataset.zip"
      ],
      "execution_count": null,
      "outputs": []
    },
    {
      "cell_type": "markdown",
      "metadata": {
        "id": "lJLBa51Oa_G_"
      },
      "source": [
        "Po završetku prethodne ćelije, možete pokrenuti narednu koja proverava da li `libwb` i `dataset` direktorijumi postoje na predviđenim putanjama. Ukoliko je sve u redu, obe naredbe će ispisati absolutne putanje do direktorijuma. U suprotnom će prijaviti da jedan ili oba direktorijuma nisu pronađena. U tom slučaju treba da se vratite na log prethodne ćelije i potražite gde je došlo do greške."
      ]
    },
    {
      "cell_type": "code",
      "metadata": {
        "id": "w_aHE_e9OxSf"
      },
      "source": [
        "%%bash\n",
        "\n",
        "ls -d /usr/local/libwb/\n",
        "ls -d /home/cuda/"
      ],
      "execution_count": null,
      "outputs": []
    },
    {
      "cell_type": "markdown",
      "metadata": {
        "id": "Vya2EkAHtkvh"
      },
      "source": [
        "## [Opciono] Deinstalacija preduslova\n",
        "Izvršavanjem ćelije ispod brišete instaliranu biblioteku `libwb` i set podataka. Izvršite ovu ćeliju samo ako želite da resetujete instalaciju kako biste reinstalirali preduslove."
      ]
    },
    {
      "cell_type": "code",
      "metadata": {
        "id": "SWwYDR0jHDrI"
      },
      "source": [
        "%%bash\n",
        "\n",
        "# obrisi libwb biblioteku\n",
        "[[ -d /usr/local/libwb ]] && rm -r /usr/local/libwb/ && echo \"Obrisana libwb biblioteka.\"\n",
        "[[ -f libwb.zip ]] && rm libwb.zip && echo \"Obrisana libwb.zip arhiva.\"\n",
        "\n",
        "# obrisi set podataka za testiranje\n",
        "[[ -d /home/cuda/dataset ]] && rm -r /home/cuda/dataset && echo \"Obrisan set podataka.\"\n",
        "[[ -f dataset.zip ]] && rm dataset.zip && echo \"Obrisana dataset.zip arhiva.\""
      ],
      "execution_count": null,
      "outputs": []
    },
    {
      "cell_type": "markdown",
      "metadata": {
        "id": "oQDu-FomFDp5"
      },
      "source": [
        "## Zadatak 1 - Sabiranje vektora\n",
        "\n",
        "Imlementacija CUDA kernela za sabiranje dva vektora razlomljenih vrednosti."
      ]
    },
    {
      "cell_type": "code",
      "metadata": {
        "id": "2X6bDzuZDKFt"
      },
      "source": [
        "%%writefile /home/cuda/vectoradd.cu\n",
        "\n",
        "#include <stdio.h>\n",
        "#include <assert.h>\n",
        "#include <cuda.h>\n",
        "\n",
        "// U videu postoji greska u ovom makrou, ovde je greska ispravljena\n",
        "#define cudaCheckError(stmt) {           \\\n",
        "    cudaError_t err = stmt;              \\\n",
        "    if (err != cudaSuccess) {            \\\n",
        "        printf(\"CUDA failure %s:%d: '%s'\\n\", __FILE__, __LINE__, cudaGetErrorString(err)); \\\n",
        "        exit(1);                         \\\n",
        "    }                                    \\\n",
        "}\n",
        "\n",
        "__global__\n",
        "void vecAddKernel(float *A_d, float* B_d, float *C_d, int n) {\n",
        "    int i = blockDim.x * blockIdx.x + threadIdx.x;\n",
        "    if (i < n)\n",
        "        C_d[i] = A_d[i] + B_d[i];\n",
        "}\n",
        "                \n",
        "void vectorAdd(float *A, float *B, float *C, int n) {\n",
        "    int size = n * sizeof(float);\n",
        "    float *A_d, *B_d, *C_d;\n",
        "\n",
        "    // 1. Alokacija memorije uredjaja za nizove A, B i C\n",
        "    cudaCheckError(cudaMalloc((void **) &A_d, size));\n",
        "    cudaCheckError(cudaMalloc((void **) &B_d, size));\n",
        "    cudaCheckError(cudaMalloc((void **) &C_d, size));\n",
        "\n",
        "    // 2. Kopiranje ulaznih nizova u memoriju uredjaja\n",
        "    cudaCheckError(cudaMemcpy(A_d, A, size, cudaMemcpyHostToDevice));\n",
        "    cudaCheckError(cudaMemcpy(B_d, B, size, cudaMemcpyHostToDevice));\n",
        "\n",
        "    // 3. Poziv kernela\n",
        "    // vecAddKernel<<<ceil(n / 256.0), 256>>>(A_d, B_d, C_d, n);\n",
        "    dim3 dimGrid(n / 256, 1, 1);\n",
        "    if (n % 256) dimGrid.x++;\n",
        "    dim3 dimBlock(256, 1, 1);\n",
        "    vecAddKernel<<<dimGrid, dimBlock>>>(A_d, B_d, C_d, n);\n",
        "    cudaDeviceSynchronize();\n",
        "\n",
        "    // 4. Transfer rezultujuceg vektora iz memorije uredjaja u memoriju domacina\n",
        "    cudaCheckError(cudaMemcpy(C, C_d, size, cudaMemcpyDeviceToHost));\n",
        "\n",
        "    // 5. Dealokacija memorije zauzete na GPU\n",
        "    cudaCheckError(cudaFree(A_d));\n",
        "    cudaCheckError(cudaFree(B_d));\n",
        "    cudaCheckError(cudaFree(C_d));\n",
        "}\n",
        "\n",
        "\n",
        "int main() {\n",
        "\n",
        "    int n = 1025;\n",
        "    float *A = (float *) calloc(n, sizeof(float));  // niz A ce imati sve elemente 0\n",
        "    float *B = (float *) malloc(n * sizeof(float));\n",
        "    float *C = (float *) malloc(n * sizeof(float));\n",
        "\n",
        "    for (int i = 0; i < n; i++) B[i] = 1;           // niz B ce imati sve elemente 1\n",
        "\n",
        "    vectorAdd(A, B, C, n);\n",
        "\n",
        "    // ako neki od elemenata vektora C nije 1, program ce biti terminisan\n",
        "    for (int i = 0; i < n; i++) assert(C[i] == 1);\n",
        "\n",
        "    free(A);\n",
        "    free(B);\n",
        "    free(C);\n",
        "\n",
        "    return 0;\n",
        "}\n"
      ],
      "execution_count": null,
      "outputs": []
    },
    {
      "cell_type": "markdown",
      "metadata": {
        "id": "6uYvXKXZFT32"
      },
      "source": [
        "### Kompajliranje izvornog koda\n",
        "Pokrenite komandu u ćeliji ispod kako biste kompajlirali rešenje."
      ]
    },
    {
      "cell_type": "code",
      "metadata": {
        "id": "ujWtOj9BFajn"
      },
      "source": [
        "%%bash\n",
        "\n",
        "cd /home/cuda\n",
        "nvcc vectoradd.cu -o vectoradd \\\n",
        "  -I /usr/local/libwb/ \\\n",
        "  -L /usr/local/libwb/lib \\\n",
        "  -lwb -lcuda"
      ],
      "execution_count": null,
      "outputs": []
    },
    {
      "cell_type": "markdown",
      "metadata": {
        "id": "wizdBJnPaV5i"
      },
      "source": [
        "### [Opciono] Provera da li postoji izvrsna datoteka"
      ]
    },
    {
      "cell_type": "code",
      "metadata": {
        "id": "GdAa1y79aiBz"
      },
      "source": [
        "![[ -f /home/cuda/vectoradd ]] && echo \"Postoji.\" || echo \"Ne postoji.\""
      ],
      "execution_count": null,
      "outputs": []
    },
    {
      "cell_type": "markdown",
      "metadata": {
        "id": "q5dNRxXVLOq4"
      },
      "source": [
        "### Pokretanje rešenja nad jednim primerom"
      ]
    },
    {
      "cell_type": "code",
      "metadata": {
        "id": "MIkaiOQcGYQa"
      },
      "source": [
        "%%bash\n",
        "\n",
        "cd /home/cuda\n",
        "LD_LIBRARY_PATH=\"/usr/local/libwb/lib:$LD_LIBRARY_PATH\" ./vectoradd"
      ],
      "execution_count": null,
      "outputs": []
    },
    {
      "cell_type": "markdown",
      "metadata": {
        "id": "Fp6sSazrlOgT"
      },
      "source": [
        "## Zadatak 2 - Množenje matrice skalarom"
      ]
    },
    {
      "cell_type": "code",
      "metadata": {
        "id": "-bwOiPVUp_jQ"
      },
      "source": [
        "%%writefile /home/cuda/picturekernel.cu\n",
        "\n",
        "#include <wb.h>\n",
        "\n",
        "#define IMAGE_WIDTH 1024\n",
        "#define IMAGE_HEIGHT 768\n",
        "\n",
        "\n",
        "// CUDA C kernel za množenje matrice sa 2\n",
        "__global__ void PictureKernel(float *d_Pin, float *d_Pout, int height, int width) {\n",
        "\n",
        "    const int Row = blockDim.y * blockIdx.y + threadIdx.y;\n",
        "    const int Col = blockDim.x * blockIdx.x + threadIdx.x;\n",
        "\n",
        "    if (Row < height && Col < width) {\n",
        "        d_Pout[Row * width + Col] = 2.0 * d_Pin[Row * width + Col];\n",
        "    }\n",
        "}\n",
        "\n",
        "// Funkcija za inicijalizaciju matrice na zadatu vrednost\n",
        "void init_matrix(float *matrix, int width, int height, float value) {\n",
        "    for (int i = 0; i < width * height; i++) {\n",
        "        matrix[i] = value;\n",
        "    }\n",
        "}\n",
        "\n",
        "\n",
        "// Funkcija za proveru \n",
        "void check_matrix(float *matrix, int width, int height, float expected_value) {\n",
        "    char isCorrect = 1;\n",
        "    for (int i = 0; i < width * height; i++) {\n",
        "        if (matrix[i] != expected_value) {\n",
        "            isCorrect = 0;\n",
        "            printf(\"Prva vrednost različita od 2 se nalazi na poziciji %d (vrednost: %f)\\n.\",\n",
        "                   i, matrix[i]);\n",
        "            break;\n",
        "        }\n",
        "    }\n",
        "\n",
        "    if (isCorrect) {\n",
        "        printf(\"Solution is correct.\\n\");\n",
        "    } else {\n",
        "        printf(\"Solution is NOT correct.\\n\");\n",
        "    }\n",
        "}\n",
        "\n",
        "\n",
        "int main(int argc, char *argv[]) {\n",
        "    int imageWidth = IMAGE_WIDTH;\n",
        "    int imageHeight = IMAGE_HEIGHT;\n",
        "    float *hostInputImageData;\n",
        "    float *hostOutputImageData;\n",
        "    float *deviceInputImageData;\n",
        "    float *deviceOutputImageData;\n",
        "    float value = 1.0;\n",
        "\n",
        "    // alokacija prostora za matrice u memoriji domacina\n",
        "    hostInputImageData = (float *) malloc(sizeof(float) * imageWidth * imageHeight);\n",
        "    hostOutputImageData = (float *) malloc(sizeof(float) * imageWidth * imageHeight);\n",
        "\n",
        "    // inicijalizacja elemenata ulazne matrice na zadatu vrednost\n",
        "    init_matrix(hostInputImageData, imageWidth, imageHeight, value);\n",
        "\n",
        "    wbTime_start(GPU, \"Doing GPU Computation (memory + compute)\");\n",
        "\n",
        "    // alokacija prostora za matrice u memoriji uredjaja\n",
        "    wbTime_start(GPU, \"Doing GPU memory allocation\");\n",
        "    cudaMalloc((void **)&deviceInputImageData,\n",
        "               imageWidth * imageHeight * sizeof(float));\n",
        "    cudaMalloc((void **)&deviceOutputImageData,\n",
        "               imageWidth * imageHeight * sizeof(float));\n",
        "    wbTime_stop(GPU, \"Doing GPU memory allocation\");\n",
        "  \n",
        "    // kopiranje sadrzaja ulazne matrice iz memorije domacina u memoriju uredjaja\n",
        "    wbTime_start(Copy, \"Copying data to the GPU\");\n",
        "    cudaMemcpy(deviceInputImageData, hostInputImageData,\n",
        "               imageWidth * imageHeight * sizeof(float),\n",
        "               cudaMemcpyHostToDevice);\n",
        "    wbTime_stop(Copy, \"Copying data to the GPU\");\n",
        "\n",
        "    ///////////////////////////////////////////////////////\n",
        "    // Priprema i poziv CUDA kernela\n",
        "    wbTime_start(Compute, \"Doing the computation on the GPU\");\n",
        "\n",
        "    dim3 dimBlock(16, 16, 1);\n",
        "    dim3 dimGrid(ceil((float) imageWidth / 16), ceil((float) imageHeight / 16), 1);\n",
        "    PictureKernel<<<dimGrid, dimBlock>>>(deviceInputImageData, deviceOutputImageData, imageHeight, imageWidth);\n",
        "\n",
        "    wbTime_stop(Compute, \"Doing the computation on the GPU\");\n",
        "    ///////////////////////////////////////////////////////\n",
        "\n",
        "    // kopiranje sadrzaja rezultujuce matrice iz memorije uredjaja u memoriju domacina\n",
        "    wbTime_start(Copy, \"Copying data from the GPU\");\n",
        "    cudaMemcpy(hostOutputImageData, deviceOutputImageData,\n",
        "               imageWidth * imageHeight * sizeof(float),\n",
        "               cudaMemcpyDeviceToHost);\n",
        "    wbTime_stop(Copy, \"Copying data from the GPU\");\n",
        "  \n",
        "    wbTime_stop(GPU, \"Doing GPU Computation (memory + compute)\");\n",
        "\n",
        "    // provera ispravnosti rezultata\n",
        "    check_matrix(hostOutputImageData, imageWidth, imageHeight, 2.0);\n",
        "  \n",
        "    // oslobadjanje prostora alociranog u memoriji uredjaja\n",
        "    cudaFree(deviceInputImageData);\n",
        "    cudaFree(deviceOutputImageData);\n",
        "\n",
        "    // oslobadjanje prostora alociranog u memoriji domacina\n",
        "    free(hostInputImageData);\n",
        "    free(hostOutputImageData);\n",
        "  \n",
        "    return 0;\n",
        "}"
      ],
      "execution_count": null,
      "outputs": []
    },
    {
      "cell_type": "markdown",
      "metadata": {
        "id": "x3rbR-QOqY01"
      },
      "source": [
        "### Kompajliranje izvornog koda\n",
        "Pokrenite komandu u ćeliji ispod kako biste kompajlirali rešenje."
      ]
    },
    {
      "cell_type": "code",
      "metadata": {
        "id": "pu08BKWfqY02"
      },
      "source": [
        "%%bash\n",
        "\n",
        "cd /home/cuda\n",
        "nvcc picturekernel.cu -o picturekernel \\\n",
        "  -I /usr/local/libwb/ \\\n",
        "  -L /usr/local/libwb/lib \\\n",
        "  -lwb -lcuda"
      ],
      "execution_count": null,
      "outputs": []
    },
    {
      "cell_type": "markdown",
      "metadata": {
        "id": "lURGpcjnqodM"
      },
      "source": [
        "### [Opciono] Provera da li postoji izvršna datoteka"
      ]
    },
    {
      "cell_type": "code",
      "metadata": {
        "id": "ivDsCGZHqodP"
      },
      "source": [
        "![[ -f /home/cuda/picturekernel ]] && echo \"Postoji.\" || echo \"Ne postoji.\""
      ],
      "execution_count": null,
      "outputs": []
    },
    {
      "cell_type": "markdown",
      "metadata": {
        "id": "Jayeu0fpqwXk"
      },
      "source": [
        "### Pokretanje rešenja\n",
        "\n",
        "Svi elementi ulazne matrice su podrazumevano inicijalizovani na razlomljenu vrednost 1. Nakon izvršavanja kernela, svi elementi matrice će biti 2."
      ]
    },
    {
      "cell_type": "code",
      "metadata": {
        "id": "u3j4UUpsqwXm"
      },
      "source": [
        "%%bash\n",
        "\n",
        "cd /home/cuda\n",
        "LD_LIBRARY_PATH=\"/usr/local/libwb/lib:$LD_LIBRARY_PATH\" ./picturekernel"
      ],
      "execution_count": null,
      "outputs": []
    },
    {
      "cell_type": "markdown",
      "metadata": {
        "id": "5rhJU4gnDHCm"
      },
      "source": [
        "## Zadatak 3 - Zamućenje slike\n",
        "\n",
        "Implementirati CUDA C kernel za zamućivanje ulazne slike. Ulazna slika je uvek u nijansama sive i svaki piksel slike je predstavljen jednom vrednošću intenziteta boje. Kada se učita u memoriju, slika je predstavljena matricom čiji je svaki piksel jedan element matrice. Ulazna matrica koja predstavlja ulaznu sliku je linearizovana vrstu po vrstu.\n",
        "\n",
        "Na osnovu ulazne matrice je potrebno sračunati izlaznu matricu koja predstavlja zamućenu sliku. Drugim rečima, za svaki element ulazne matrice je potrebno sračunati novu vrednost korespodentnog elementa izlazne matrice. Nova vrednost elementa se računa kao aritmetička sredina vrednosti trenutno posmatranog elementa ulazne matrice i njegovih $N \\cdot N-1$ susednih elemenata. Na slici su prikazana dva primera računanja elemenata rezultujuće matrice. Prvi primer (element čiji su susedi obeleženi plavom bojom) prikazuje kako treba sračunati rezultujuću vrednost kada su susedi posmatranog elementa unutar matrice. U drugom slučaju (element čiji su susedi obeleženi žutom bojom) rezultat računanja se formira samo na osnovu vrednosti susednih elemenata unutar ulazne matrice.\n",
        "\n",
        "![blur.png](data:image/png;base64,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)\n",
        "\n",
        "Učitavanje ulazne slike, prebacivanje slike na uredjaj, prebacivanje\n",
        "rezultata sa uredjaja i čuvanje rezultata je implementirano u datoj\n",
        "postavci zadatka. Potrebno je dopuniti postavku implementacijom:\n",
        "\n",
        "-   kernela za zamućenje slike konvolucijom i\n",
        "-   pozivom kernela na za to naznačenim mestima\n",
        "\n",
        "Celokupno rešenje treba da se nađe u ćeliji ispod."
      ]
    },
    {
      "cell_type": "code",
      "metadata": {
        "id": "UeawRxp6Eem2"
      },
      "source": [
        "%%writefile /home/cuda/imageblur.cu\n",
        "\n",
        "#include <wb.h>\n",
        "\n",
        "#define wbCheck(stmt)                                                     \\\n",
        "  do {                                                                    \\\n",
        "    cudaError_t err = stmt;                                               \\\n",
        "    if (err != cudaSuccess) {                                             \\\n",
        "      wbLog(ERROR, \"Failed to run stmt \", #stmt);                         \\\n",
        "      wbLog(ERROR, \"Got CUDA error ...  \", cudaGetErrorString(err));      \\\n",
        "      return -1;                                                          \\\n",
        "    }                                                                     \\\n",
        "  } while (0)\n",
        "\n",
        "#define BLUR_SIZE 5\n",
        "\n",
        "// TODO implementirati kernel\n",
        "\n",
        "int main(int argc, char *argv[]) {\n",
        "  wbArg_t args;\n",
        "  int imageWidth;\n",
        "  int imageHeight;\n",
        "  char *inputImageFile;\n",
        "  wbImage_t inputImage;\n",
        "  wbImage_t outputImage;\n",
        "  float *hostInputImageData;\n",
        "  float *hostOutputImageData;\n",
        "  float *deviceInputImageData;\n",
        "  float *deviceOutputImageData;\n",
        "\n",
        "  args = wbArg_read(argc, argv);                        // parsiranje ulaznih argumenata\n",
        "\n",
        "  inputImageFile = wbArg_getInputFile(args, 0);\n",
        "\n",
        "  inputImage = wbImport(inputImageFile);\n",
        "\n",
        "  // Ulazna slika je u nijansama sive i ima samo jedan kanal\n",
        "  // sto znaci da su dimenzije ucitane slike imageWidth x imageHeight x 1\n",
        "  imageWidth  = wbImage_getWidth(inputImage);           // sirina slike (broj kolona)\n",
        "  imageHeight = wbImage_getHeight(inputImage);          // visina slike (broj vrsta)\n",
        "\n",
        "  // Slika je monohromatska i sadrzi samo jedan kanal\n",
        "  outputImage = wbImage_new(imageWidth, imageHeight, 1);\n",
        "\n",
        "  hostInputImageData  = wbImage_getData(inputImage);\n",
        "  hostOutputImageData = wbImage_getData(outputImage);\n",
        "\n",
        "  wbTime_start(GPU, \"Doing GPU Computation (memory + compute)\");\n",
        "\n",
        "  wbTime_start(GPU, \"Doing GPU memory allocation\");     // alokacija memorije na GPU za\n",
        "  cudaMalloc((void **)&deviceInputImageData,            // 1) ulaznu sliku (sliku koju treba zamutiti)\n",
        "             imageWidth * imageHeight * sizeof(float));\n",
        "  cudaMalloc((void **)&deviceOutputImageData,           // 2) izlaznu sliku (zamucena slika)\n",
        "             imageWidth * imageHeight * sizeof(float));\n",
        "  wbTime_stop(GPU, \"Doing GPU memory allocation\");\n",
        "\n",
        "  wbTime_start(Copy, \"Copying data to the GPU\");\n",
        "  cudaMemcpy(deviceInputImageData, hostInputImageData,  // kopiranje ulazne slike na GPU\n",
        "             imageWidth * imageHeight * sizeof(float),\n",
        "             cudaMemcpyHostToDevice);\n",
        "  wbTime_stop(Copy, \"Copying data to the GPU\");\n",
        "\n",
        "  wbTime_start(Compute, \"Doing the computation on the GPU\");\n",
        "\n",
        "  wbTime_stop(Compute, \"Doing the computation on the GPU\");\n",
        "\n",
        "  ///////////////////////////////////////////////////////\n",
        "\n",
        "  // TODO ovde pozvati kernel\n",
        "\n",
        "  ///////////////////////////////////////////////////////\n",
        "\n",
        "  wbTime_start(Copy, \"Copying data from the GPU\");     // kopiranje izlazne slike iz memorije GPU u RAM\n",
        "  cudaMemcpy(hostOutputImageData, deviceOutputImageData,\n",
        "             imageWidth * imageHeight * sizeof(float),\n",
        "             cudaMemcpyDeviceToHost);\n",
        "  wbTime_stop(Copy, \"Copying data from the GPU\");\n",
        "\n",
        "  wbTime_stop(GPU, \"Doing GPU Computation (memory + compute)\");\n",
        "\n",
        "  wbSolution(args, outputImage);                      // poredjenje dobijenog resenja sa tacnim \n",
        "                                                      // ako je zadata opcija -e <slika> pri pozivu programa\n",
        "\n",
        "  cudaFree(deviceInputImageData);\n",
        "  cudaFree(deviceOutputImageData);\n",
        "\n",
        "  wbImage_delete(outputImage);\n",
        "  wbImage_delete(inputImage);\n",
        "\n",
        "  return 0;\n",
        "}"
      ],
      "execution_count": null,
      "outputs": []
    },
    {
      "cell_type": "markdown",
      "metadata": {
        "id": "4HxJWBBrErM3"
      },
      "source": [
        "### Kompajliranje izvornog koda\n",
        "Pokrenite komandu u ćeliji ispod kako biste kompajlirali rešenje."
      ]
    },
    {
      "cell_type": "code",
      "metadata": {
        "id": "rMgvFV2KEvao"
      },
      "source": [
        "%%bash\n",
        "\n",
        "cd /home/cuda\n",
        "nvcc imageblur.cu -o imageblur \\\n",
        "  -I /usr/local/libwb/ \\\n",
        "  -L /usr/local/libwb/lib \\\n",
        "  -lwb -lcuda"
      ],
      "execution_count": null,
      "outputs": []
    },
    {
      "cell_type": "markdown",
      "metadata": {
        "id": "g0yzvqxPFDm8"
      },
      "source": [
        "### [Opciono] Provera da li postoji izvrsna datoteka"
      ]
    },
    {
      "cell_type": "code",
      "metadata": {
        "id": "IjsiNBWzFERa"
      },
      "source": [
        "![[ -f /home/cuda/imageblur ]] && echo \"Postoji.\" || echo \"Ne postoji.\""
      ],
      "execution_count": null,
      "outputs": []
    },
    {
      "cell_type": "markdown",
      "metadata": {
        "id": "zCCFA22BFSrt"
      },
      "source": [
        "### Pokretanje rešenja nad jednim primerom"
      ]
    },
    {
      "cell_type": "code",
      "metadata": {
        "id": "PfhIiEziFaZK"
      },
      "source": [
        "%%bash\n",
        "\n",
        "cd /home/cuda\n",
        "LD_LIBRARY_PATH=\"/usr/local/libwb/lib:$LD_LIBRARY_PATH\" ./imageblur \\\n",
        "  -i dataset/0/input.ppm \\\n",
        "  -e dataset/0/output.ppm \\\n",
        "  -o output.ppm \\\n",
        "  -t image"
      ],
      "execution_count": null,
      "outputs": []
    },
    {
      "cell_type": "markdown",
      "metadata": {
        "id": "7PDtIlJMGBPN"
      },
      "source": [
        "### Pokretanje rešenja nad svim primerima\n",
        "\n",
        "Nakon uspešnog testiranja rešenja na jednom primeru, možete pokrenuti i testiranje rešenja na svim primerima iz seta podataka."
      ]
    },
    {
      "cell_type": "code",
      "metadata": {
        "id": "jGlN7GzHGILq"
      },
      "source": [
        "%%bash\n",
        "\n",
        "cd /home/cuda\n",
        "\n",
        "n=$(ls -dl dataset/* | wc -l)\n",
        "\n",
        "for (( i=0; i<$n; i=i+1 ))\n",
        "do\n",
        "  echo \"Testiram primer $i.\"\n",
        "  echo \"-------------------\"\n",
        "  LD_LIBRARY_PATH=\"/usr/local/libwb/lib:$LD_LIBRARY_PATH\" ./imageblur \\\n",
        "      -i dataset/$i/input.ppm \\\n",
        "      -e dataset/$i/output.ppm \\\n",
        "      -o output.ppm \\\n",
        "      -t image\n",
        "  echo \"\"\n",
        "done"
      ],
      "execution_count": null,
      "outputs": []
    }
  ]
}