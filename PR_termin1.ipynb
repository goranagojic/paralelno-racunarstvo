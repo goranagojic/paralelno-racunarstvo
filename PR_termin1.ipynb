{
  "nbformat": 4,
  "nbformat_minor": 0,
  "metadata": {
    "colab": {
      "name": "PR-termin1.ipynb",
      "private_outputs": true,
      "provenance": [],
      "collapsed_sections": [
        "KlzQYHrzyFzV",
        "5A9PfbfKGkcI",
        "4Ygtz8skDmBX",
        "k89WcHO_DmBa",
        "cWerRdonDmBd",
        "n64EXE40AKyV",
        "mf94lgl-E5Pv"
      ],
      "include_colab_link": true
    },
    "kernelspec": {
      "name": "python3",
      "display_name": "Python 3"
    }
  },
  "cells": [
    {
      "cell_type": "markdown",
      "metadata": {
        "id": "view-in-github",
        "colab_type": "text"
      },
      "source": [
        "<a href=\"https://colab.research.google.com/github/goranagojic/paralelno-racunarstvo/blob/main/PR_termin1.ipynb\" target=\"_parent\"><img src=\"https://colab.research.google.com/assets/colab-badge.svg\" alt=\"Open In Colab\"/></a>"
      ]
    },
    {
      "cell_type": "markdown",
      "metadata": {
        "id": "Yg2nT2ltCYHX"
      },
      "source": [
        "# Paralelno računarstvo - Vežba 1\n",
        "\n",
        "Vežba obuhvata zadatke:\n",
        "*    Z1 STL\n",
        "*    Z2 niti\n",
        "*    Z3 i Z4 međusobna isključivost\n",
        "*    Z5 i Z6 uslovna sinhronizacija\n",
        "\n",
        "Ukoliko pronađete neku nepravilnost u materijalima, molimo vas da je prijavite na adresu gorana.gojic@uns.ac.rs ili horva.n@uns.ac.rs."
      ]
    },
    {
      "cell_type": "markdown",
      "metadata": {
        "id": "K05l-EnttRC5"
      },
      "source": [
        "## Preduslovi\n",
        "\n",
        "Pre nego započnete implementaciju zadatka, **obavezno** izvršite kod iz ćelije ispod. Kod će:\n",
        "\n",
        "*   napraviti direktorijum u koji će se čuvati sve izvrne i izvršne datoteke"
      ]
    },
    {
      "cell_type": "code",
      "metadata": {
        "id": "WTzffLNOwyTp"
      },
      "source": [
        "%%bash\n",
        "\n",
        "# napravi radni direktorijum\n",
        "mkdir -p /home/naprednicpp"
      ],
      "execution_count": null,
      "outputs": []
    },
    {
      "cell_type": "markdown",
      "metadata": {
        "id": "KlzQYHrzyFzV"
      },
      "source": [
        "## Zadatak 1\n",
        "\n",
        "Napraviti funkciju:\n",
        "\n",
        "`vector<int> min_n(const vector<int>& v,\tint n);`\n",
        "\n",
        "Ova funkcija vraća vektor koji sadrži n najmanjih elemenata iz vektora v.\n",
        "Podrazumeva se: `v.size()>=n`"
      ]
    },
    {
      "cell_type": "code",
      "metadata": {
        "id": "he-21Va2zJyI"
      },
      "source": [
        "%%writefile /home/naprednicpp/stl.cpp\n",
        "\n",
        "#include <iostream>\n",
        "\n",
        "using namespace std;\n",
        "\n",
        "int main()\n",
        "{\n",
        "    return 0;\n",
        "}\n"
      ],
      "execution_count": null,
      "outputs": []
    },
    {
      "cell_type": "markdown",
      "metadata": {
        "id": "tM7CblUFzqeC"
      },
      "source": [
        "### Kompajliranje izvornog koda\n",
        "\n",
        "Pokrenite komandu u ćeliji ispod kako biste kompajlirali rešenje."
      ]
    },
    {
      "cell_type": "code",
      "metadata": {
        "id": "dlZxGd-UzqeD"
      },
      "source": [
        "%%bash\n",
        "\n",
        "cd /home/naprednicpp\n",
        "g++ stl.cpp -o stl -pthread"
      ],
      "execution_count": null,
      "outputs": []
    },
    {
      "cell_type": "markdown",
      "metadata": {
        "id": "0qabcCDKzqeD"
      },
      "source": [
        "### [Opciono] Provera da li postoji izvršna datoteka"
      ]
    },
    {
      "cell_type": "code",
      "metadata": {
        "id": "tNDMN6w6zqeE"
      },
      "source": [
        "![[ -f /home/naprednicpp/stl ]] && echo \"Postoji.\" || echo \"Ne postoji.\""
      ],
      "execution_count": null,
      "outputs": []
    },
    {
      "cell_type": "markdown",
      "metadata": {
        "id": "YdVJP7pmzqeF"
      },
      "source": [
        "### Pokretanje rešenja"
      ]
    },
    {
      "cell_type": "code",
      "metadata": {
        "id": "Tr0JjTYezqeF"
      },
      "source": [
        "%%bash\n",
        "\n",
        "cd /home/naprednicpp\n",
        "./stl"
      ],
      "execution_count": null,
      "outputs": []
    },
    {
      "cell_type": "markdown",
      "metadata": {
        "id": "z0nmBivbSPfa"
      },
      "source": [
        "## Zadatak 2\n",
        "\n",
        "Napisati konkurentni program koji izračunava sumu svih elemenata vektora. "
      ]
    },
    {
      "cell_type": "code",
      "metadata": {
        "id": "M4kxck_cSPfb"
      },
      "source": [
        "%%writefile /home/naprednicpp/sumavektora.cpp\n",
        "\n",
        "#include <iostream>\n",
        "#include <vector>\n",
        "#include <thread>\n",
        "\n",
        "using namespace std;\n",
        "\n",
        "\n",
        "typedef vector<double>::const_iterator ci;\n",
        "\n",
        "\n",
        "/*\n",
        "pocetak - iterator na prvi element koji se uzima u obzir pri računanju sume\n",
        "kraj - iterator iza poslednjeg elementa koji se uzima u obzir pri računanju sume\n",
        "zbir - parameter kroz koji funkcija treba da vrati izračunatu sumu\n",
        "*/\n",
        "void f(ci pocetak, ci kraj, double& zbir) {\n",
        "    // Implementirati ...\n",
        "        \n",
        "}\n",
        "\n",
        "// v - vektor čije elemente treba sumirati\n",
        "// n - koliko niti treba pokrenuti\n",
        "// povratna vrednost - suma svih elemenata vektora, izračunata pokretanjem n niti (svaka nit treba da obradi jedan deo elemenata)\n",
        "double sumiraj(vector<double> v, int n) {\n",
        "    // Implementirati ...\n",
        "\n",
        "}\n",
        "\n",
        "\n",
        "\n",
        "\n",
        "\n",
        "void testirajSumu() {\n",
        "    vector<double> v = {1, 2, 3, 4, 5, 6, 7, 8, 9,10};\n",
        "    double zbir;\n",
        "    f(v.begin(), v.end(), zbir);\n",
        "\n",
        "    cout << \"Zbir vektora: \" << zbir << endl;\n",
        "}\n",
        "\n",
        "\n",
        "const int N = 5;\n",
        "\n",
        "void testirajNiti() {\n",
        "    vector<double> v = {1, 2, 3, 4, 5, 6, 7, 8, 9,10};\n",
        "    double zbir;\n",
        "    zbir = sumiraj(v, N);\n",
        "\n",
        "    cout << \"Zbir vektora, koriscenjem \" << N << \" niti: \" << zbir << endl;\n",
        "}\n",
        "\n",
        "int main() {\n",
        "    testirajSumu();\n",
        "    // Otkomentarisati kada implementirate funkciju sumiraj:\n",
        "    testirajNiti();\n",
        "\n",
        "    return 0;\n",
        "}"
      ],
      "execution_count": null,
      "outputs": []
    },
    {
      "cell_type": "markdown",
      "metadata": {
        "id": "weIErbKVSPfc"
      },
      "source": [
        "### Kompajliranje izvornog koda\n",
        "\n",
        "Pokrenite komandu u ćeliji ispod kako biste kompajlirali rešenje."
      ]
    },
    {
      "cell_type": "code",
      "metadata": {
        "id": "RtAR1tqMSPfd"
      },
      "source": [
        "%%bash\n",
        "\n",
        "cd /home/naprednicpp\n",
        "g++ sumavektora.cpp -o sumavektora -pthread"
      ],
      "execution_count": null,
      "outputs": []
    },
    {
      "cell_type": "markdown",
      "metadata": {
        "id": "Er4lTlvHSPfe"
      },
      "source": [
        "### [Opciono] Provera da li postoji izvršna datoteka"
      ]
    },
    {
      "cell_type": "code",
      "metadata": {
        "id": "DQEKyHFwSPfe"
      },
      "source": [
        "![[ -f /home/naprednicpp/sumavektora ]] && echo \"Postoji.\" || echo \"Ne postoji.\""
      ],
      "execution_count": null,
      "outputs": []
    },
    {
      "cell_type": "markdown",
      "metadata": {
        "id": "tHvAaMpgSPff"
      },
      "source": [
        "### Pokretanje rešenja"
      ]
    },
    {
      "cell_type": "code",
      "metadata": {
        "id": "jCzDI_4TSPfg"
      },
      "source": [
        "%%bash\n",
        "\n",
        "cd /home/naprednicpp\n",
        "./sumavektora"
      ],
      "execution_count": null,
      "outputs": []
    },
    {
      "cell_type": "markdown",
      "metadata": {
        "id": "5A9PfbfKGkcI"
      },
      "source": [
        "## Zadatak 3\n",
        "\n",
        "Kreirati globalnu celobrojnu promeljivu brojač. Nakon toga kreirati 2 funkcije inkrement i dekrement koje povećavaju i smanjuju dati brojač ITERACIJA puta. ITERACIJA je konstanta koja predstavlja proizvoljno velik broj (npr. 100.000.000). \n",
        "\n",
        "Kreirati jednu nit od funkcije inkrement i jednu nit od funkcije dekrement.\n",
        "\n",
        "Na kraju realizovati zaštitu pristupa brojaču uz pomoć klasa `mutex` i `unique_lock`. Primetiti koliko sada traje izvršavanje programa."
      ]
    },
    {
      "cell_type": "code",
      "metadata": {
        "id": "O3XPxxPyGkcK"
      },
      "source": [
        "%%writefile /home/naprednicpp/datarace.cpp\n",
        "\n",
        "#include <iostream>\n",
        "#include <thread>\n",
        "#include <mutex>\n",
        "\n",
        "using namespace std;\n",
        "\n",
        "int main() {\n",
        "    \n",
        "    return 0;\n",
        "}"
      ],
      "execution_count": null,
      "outputs": []
    },
    {
      "cell_type": "markdown",
      "metadata": {
        "id": "G68Rl0GoGkcL"
      },
      "source": [
        "### Kompajliranje izvornog koda\n",
        "\n",
        "Pokrenite komandu u ćeliji ispod kako biste kompajlirali rešenje."
      ]
    },
    {
      "cell_type": "code",
      "metadata": {
        "id": "xlXxVn6UGkcN"
      },
      "source": [
        "%%bash\n",
        "\n",
        "cd /home/naprednicpp\n",
        "g++ datarace.cpp -o datarace -pthread"
      ],
      "execution_count": null,
      "outputs": []
    },
    {
      "cell_type": "markdown",
      "metadata": {
        "id": "RqW32V3gGkcO"
      },
      "source": [
        "### [Opciono] Provera da li postoji izvršna datoteka"
      ]
    },
    {
      "cell_type": "code",
      "metadata": {
        "id": "UT9N9HeoGkcO"
      },
      "source": [
        "![[ -f /home/naprednicpp/datarace ]] && echo \"Postoji.\" || echo \"Ne postoji.\""
      ],
      "execution_count": null,
      "outputs": []
    },
    {
      "cell_type": "markdown",
      "metadata": {
        "id": "o6teD6i7GkcP"
      },
      "source": [
        "### Pokretanje rešenja"
      ]
    },
    {
      "cell_type": "code",
      "metadata": {
        "id": "SZMQyyDDGkcQ"
      },
      "source": [
        "%%bash\n",
        "\n",
        "cd /home/naprednicpp\n",
        "./datarace"
      ],
      "execution_count": null,
      "outputs": []
    },
    {
      "cell_type": "markdown",
      "metadata": {
        "id": "4Ygtz8skDmBX"
      },
      "source": [
        "## Zadatak 4\n",
        "\n",
        "Napraviti program koji simulira prenos novca unutar jedne `banke`, sa jednog bankovnog računa na drugi. Iznosi na računima u banci su predstavljeni datim nizom racuni. Taj niz sadrži onoliko elemenata koliko iznosi konstanta UKUPNO_RACUNA. Svaki element niza predstavlja jedan račun u banci.\n",
        "\n",
        "Funkcija `main()` popunjava sve račune u banci iznosom POCETNI_IZNOS. Potom ona kreira dve niti koje vrše transfer novca sa jednog računa na drugi. Ovaj prenos obavlja funkcija `transfer()`.\n",
        "\n",
        "Data funkcija `transfer()` predstavlja telo niti koje vrše prenos novca. Funkcija 10 puta na slučajan način bira dva računa i neki iznos novca i poziva funkciju `prebaci()` koja skida novac sa prvog racuna i dodaje ga na drugi račun. Ovu funkciju je potrebno implementirati."
      ]
    },
    {
      "cell_type": "code",
      "metadata": {
        "id": "1hKvm7PlDmBY"
      },
      "source": [
        "%%writefile /home/naprednicpp/racuni.cpp\n",
        "\n",
        "#include <iostream>\n",
        "#include <thread>\n",
        "#include <mutex>\n",
        "\n",
        "#define UKUPNO_RACUNA 3\n",
        "#define POCETNI_IZNOS 50\n",
        "\n",
        "using namespace std;\n",
        "\n",
        "struct retVal{\n",
        "    double staro; // Iznos novca na računu pre prenosa\n",
        "    double novo; // Iznos novca na računu posle prenosa\n",
        "};\n",
        "\n",
        "double racuni[UKUPNO_RACUNA]; // Svaki element niza predstavlja iznos novca na odgovarajućem računu\n",
        "\n",
        "// izvor - indeks računa SA KOJEG se prebacuje novac (indeks u nizu \"racuni\")\n",
        "// cilj - indeks računa NA KOJI se prebacuje novac (indeks u nizu \"racuni\")\n",
        "// iznos - novčani iznos koji se prebacuje\n",
        "// Nakon skidanja novca sa prvog računa potrebna je jedna sekunda da se novac uplati na drugi račun (trajanje ove operacije simulirati pauziranjem niti).\n",
        "// Povratna vrednost funkcije je struktura retVal koja sadrži iznos na prvom računu (izvor) pre i posle transakcije.\n",
        "retVal prebaci(int izvor, int cilj, double iznos) {\n",
        "\t// Implementirati...\n",
        "}\n",
        "\n",
        "\n",
        "void transfer() {\n",
        "\t// Vrši se deset transakcija:\n",
        "    for (int i = 0; i < 10; i++) {\n",
        "        int izvor = rand()%UKUPNO_RACUNA; // Slučajni odabir prvog računa\n",
        "        int cilj = (izvor+5)%UKUPNO_RACUNA; // Slučajni odabir drugog računa\n",
        "        int iznos = rand()%10 + 1; // Slučajni odabir iznosa\n",
        "        retVal r = prebaci(izvor, cilj, iznos); // Prebacivanje novca sa jednog računa na drugi\n",
        "        // Razlika između novog i starog iznosa na računu mora biti jednaka iznosu koji se prebacivao.\n",
        "\n",
        "\t\tif ((r.staro - r.novo) == iznos)\n",
        "            cout << \"Uspesno: \";\n",
        "\t\telse\n",
        "            cout << \"NEUSPESNO: \";\n",
        "\n",
        "        cout << \"Prebaceno \" << iznos << \" sa racuna \" << izvor << \" na racun \" << cilj << \". Na izvoru bilo \" << r.staro << \", a ostalo \" << r.novo << endl;\n",
        "    }\n",
        "}\n",
        "\n",
        "// Funkcija za računanje ukupnog iznosa na svim računima`u banci:\n",
        "double ukupno_u_banci() {\n",
        "    double ukupno = 0;\n",
        "    for (int i = 0; i < UKUPNO_RACUNA; i++)  {\n",
        "        ukupno += racuni[i];\n",
        "    }\n",
        "    return ukupno;\n",
        "}\n",
        "\n",
        "int main() {\n",
        "    double ukupno = 0;\n",
        "\t// Inicijalizujemo iznos na svakom računu:\n",
        "    for (int i = 0; i < UKUPNO_RACUNA; i++)  {\n",
        "        racuni[i] = POCETNI_IZNOS;\n",
        "    }\n",
        "    cout << \"Ukupno novca u banci, na pocetku: \" << ukupno_u_banci() << endl;\n",
        "\n",
        "    // Napravimo 2 niti koje će vršiti transfere sa računa na račun:\n",
        "\tthread t1(transfer);\n",
        "    thread t2(transfer);\n",
        "\n",
        "    t1.join();\n",
        "    t2.join();\n",
        "\n",
        "    cout << \"Ukupno novca u banci, na kraju: \" << ukupno_u_banci() << endl;\n",
        "}\n",
        "\n"
      ],
      "execution_count": null,
      "outputs": []
    },
    {
      "cell_type": "markdown",
      "metadata": {
        "id": "DRpOGtaDDmBZ"
      },
      "source": [
        "### Kompajliranje izvornog koda\n",
        "\n",
        "Pokrenite komandu u ćeliji ispod kako biste kompajlirali rešenje."
      ]
    },
    {
      "cell_type": "code",
      "metadata": {
        "id": "zwHfTvEdDmBa"
      },
      "source": [
        "%%bash\n",
        "\n",
        "cd /home/naprednicpp\n",
        "g++ racuni.cpp -o racuni -pthread"
      ],
      "execution_count": null,
      "outputs": []
    },
    {
      "cell_type": "markdown",
      "metadata": {
        "id": "k89WcHO_DmBa"
      },
      "source": [
        "### [Opciono] Provera da li postoji izvršna datoteka"
      ]
    },
    {
      "cell_type": "code",
      "metadata": {
        "id": "mY6aQ1ugDmBb"
      },
      "source": [
        "![[ -f /home/naprednicpp/racuni ]] && echo \"Postoji.\" || echo \"Ne postoji.\""
      ],
      "execution_count": null,
      "outputs": []
    },
    {
      "cell_type": "markdown",
      "metadata": {
        "id": "cWerRdonDmBd"
      },
      "source": [
        "### Pokretanje rešenja"
      ]
    },
    {
      "cell_type": "code",
      "metadata": {
        "id": "1eGPvI8pDmBd"
      },
      "source": [
        "%%bash\n",
        "\n",
        "cd /home/naprednicpp\n",
        "./racuni"
      ],
      "execution_count": null,
      "outputs": []
    },
    {
      "cell_type": "markdown",
      "metadata": {
        "id": "n64EXE40AKyV"
      },
      "source": [
        "## Zadatak 5\n",
        "\n",
        "Napraviti konkurentni program sa tri niti.\n",
        "  Nit a ispisuje: Ja sam nit a.\n",
        "  Nit b ispisuje: Ja sam nit b.\n",
        "  Nit c ispisuje: Ja sam nit c.\n",
        "Obezbediti da se niti a i b, uvek izvrše pre niti c.\n",
        "Implementirati označene metode u klasi `Koordinator`."
      ]
    },
    {
      "cell_type": "code",
      "metadata": {
        "id": "f1Gz1R9tAKyd"
      },
      "source": [
        "%%writefile /home/naprednicpp/a_i_b_pre_c.cpp\n",
        "\n",
        "#include <iostream>\n",
        "#include <thread>\n",
        "#include <mutex>\n",
        "#include <condition_variable>\n",
        "\n",
        "using namespace std;\n",
        "\n",
        "class Koordinator {\n",
        "private:\n",
        "    const int cekam_niti;     // Konstanta koja govori koliko niti se čeka na završetak pre nego što se aktivira poslednja.\n",
        "    mutex m;\n",
        "    int niti_odradilo;\n",
        "    condition_variable cv;\n",
        "public:\n",
        "    Koordinator(int cn)  {\n",
        "        // Proširiti po potrebi ...\n",
        " \n",
        "    }\n",
        "\n",
        "    // Metoda koju na svom KRAJU zovu niti (a i b) koje ne čekaju (izvršavaju se odmah).\n",
        "    void zavrsio() {\n",
        "        // Implementirati ...\n",
        "    }\n",
        "\n",
        "    // Metodu koju na svom POČETKU zovu niti (c) koje čekaju (ne izvršavaju se odmah).\n",
        "    void cekam() {\n",
        "        // Implementirati ...\n",
        "        \n",
        "    }\n",
        "};\n",
        "\n",
        "mutex term_mx;                          // Globalni mutex terminala da bi se sprečila štetna preplitanja na terminalu.\n",
        "\n",
        "void a(Koordinator& k) {                // Nit a. Prosleđuje se referenca na Koordinator, kako bi sve niti radile na istom k.\n",
        "    {\n",
        "        unique_lock<mutex> lock(term_mx);\n",
        "        cout << \"Ja sam nit a.\" << endl;\n",
        "    }\n",
        "    k.zavrsio();\n",
        "}\n",
        "\n",
        "void b(Koordinator& k) {                // Nit b. Prosleđuje se referenca na Koordinator, kako bi sve niti radile na istom k.\n",
        "    {\n",
        "        unique_lock<mutex> lock(term_mx);\n",
        "        cout << \"Ja sam nit b.\" << endl;\n",
        "    }\n",
        "    k.zavrsio();\n",
        "}\n",
        "\n",
        "void c(Koordinator& k) {                // Nit c. Prosleđuje se referenca na Koordinator, kako bi sve niti radile na istom k.\n",
        "    k.cekam();\n",
        "    unique_lock<mutex> lock(term_mx);\n",
        "    cout << \"Ja sam nit c.\" << endl;\n",
        "}\n",
        "\n",
        "int main() {\n",
        "    Koordinator k(2);                   // Kreiranje objekta Koordinatora koji se prosleđuje nitima po referenci.\n",
        "    thread ta(a, ref(k));\n",
        "    thread tb(b, ref(k));\n",
        "    thread tc(c, ref(k));\n",
        "    ta.join();\n",
        "    tb.join();\n",
        "    tc.join();\n",
        "}\n"
      ],
      "execution_count": null,
      "outputs": []
    },
    {
      "cell_type": "markdown",
      "metadata": {
        "id": "u61vRRk2AKyg"
      },
      "source": [
        "### Kompajliranje izvornog koda\n",
        "\n",
        "Pokrenite komandu u ćeliji ispod kako biste kompajlirali rešenje."
      ]
    },
    {
      "cell_type": "code",
      "metadata": {
        "id": "LTkvKjePAKyi"
      },
      "source": [
        "%%bash\n",
        "\n",
        "cd /home/naprednicpp\n",
        "g++ a_i_b_pre_c.cpp -o a_i_b_pre_c -pthread"
      ],
      "execution_count": null,
      "outputs": []
    },
    {
      "cell_type": "markdown",
      "metadata": {
        "id": "YtEol7pMAKyi"
      },
      "source": [
        "### [Opciono] Provera da li postoji izvršna datoteka"
      ]
    },
    {
      "cell_type": "code",
      "metadata": {
        "id": "XCZFye7pAKyj"
      },
      "source": [
        "![[ -f /home/naprednicpp/a_i_b_pre_c ]] && echo \"Postoji.\" || echo \"Ne postoji.\""
      ],
      "execution_count": null,
      "outputs": []
    },
    {
      "cell_type": "markdown",
      "metadata": {
        "id": "n8RoVbD6AKyk"
      },
      "source": [
        "### Pokretanje rešenja"
      ]
    },
    {
      "cell_type": "code",
      "metadata": {
        "id": "QCp5tw1ZAKym"
      },
      "source": [
        "%%bash\n",
        "\n",
        "cd /home/naprednicpp\n",
        "./a_i_b_pre_c"
      ],
      "execution_count": null,
      "outputs": []
    },
    {
      "cell_type": "markdown",
      "metadata": {
        "id": "mf94lgl-E5Pv"
      },
      "source": [
        "## Zadatak 6\n",
        "\n",
        "Definisati klasu `Parking` koja modeluje parking prostor kapaciteta jednog mesta. Klasa ima metode `udji` i `izadji`. Automobili koji dolaze na parking su predstavljeni programskim nitima. Za ulazak na parking, automobil poziva metodu `udji`. Za izlazak sa parkinga, aubomobil poziva metodu `izadji`. Automobil se na parkingu zadržava 3 sekunde. Pri ulasku, ukoliko je parking zauzet, automobil mora da sačeka da se parking oslobodi."
      ]
    },
    {
      "cell_type": "code",
      "metadata": {
        "id": "C6u1Eb8XE5Px"
      },
      "source": [
        "%%writefile /home/naprednicpp/parking.cpp\n",
        "\n",
        "#include <iostream>\n",
        "#include <thread>\n",
        "\n",
        "\n",
        "using namespace std;\n",
        "\n",
        "\n",
        "class Automobil {\n",
        "public:\n",
        "    // rbr - Redni broj automobila\n",
        "    void ceka(int rbr) {\n",
        "        cout << \"Automobil \" << rbr << \" ceka jer je parking zauzet.\" << endl;\n",
        "    }\n",
        "\n",
        "    // rbr - Redni broj automobila\n",
        "    void parkira(int rbr) {\n",
        "        cout << \"Automobil \" << rbr << \" stupa na parking.\" << endl;\n",
        "    }\n",
        "\n",
        "    // rbr - Redni broj automobila\n",
        "    void napusta(int rbr) {\n",
        "        cout << \"Automobil \" << rbr << \" je izasao sa parkinga.\" << endl;\n",
        "    }\n",
        "};\n",
        "\n",
        "\n",
        "class Parking {\n",
        "private:\n",
        "    Automobil& automobil;\n",
        "public:\n",
        "    Parking(Automobil& a) : automobil(a) {\n",
        "        // Proširiti po potrebi ...\n",
        "    }\n",
        "\n",
        "    // Metoda koju poziva nit koja simulira kretanje automobila kako bi automobil pokušao da se parkira.\n",
        "    // Ako je parking zauzet, izvršenje ove metode će trajati dok se parking ne oslobodi i auto se parkira.\n",
        "    //\n",
        "    // rbr - Redni broj automobila\n",
        "    //\n",
        "    // Potrebno je pozvati metodu automobil.ceka kada je parking zauzet i auto mora da čeka.\n",
        "    // Potrebno je pozvati metodu automobil.parkira kada auto uspe da se parkira.\n",
        "    void udji(int rbr) {\n",
        "        // Implementirati ...\n",
        "    }\n",
        "\n",
        "    // Metoda koju poziva nit koja simulira kretanje automobila kada auto izlazi sa parkinga (nakon što je bio parkiran).\n",
        "    //\n",
        "    // rbr - Redni broj automobila\n",
        "    //\n",
        "    // Potrebno je pozvati metodu automobil.napusta kada auto napušta parking mesto.\n",
        "    void izadji(int rbr) {\n",
        "        // Implementirati ...\n",
        "    }\n",
        "};\n",
        "\n",
        "void automobil(Parking& p, int rba) {\n",
        "    p.udji(rba);\n",
        "    this_thread::sleep_for(chrono::seconds(3));\n",
        "    p.izadji(rba);\n",
        "}\n",
        "\n",
        "const int automobila = 10;\n",
        "\n",
        "int main() {\n",
        "    Automobil a;\n",
        "    Parking p(a);\n",
        "    thread t[automobila];\n",
        "    for(int i = 0; i < automobila; i++)\n",
        "        t[i] = thread(automobil, ref(p), i + 1);\n",
        "    for(int i = 0; i < automobila; i++)\n",
        "        t[i].join();\n",
        "}"
      ],
      "execution_count": null,
      "outputs": []
    },
    {
      "cell_type": "markdown",
      "metadata": {
        "id": "dse_CCZ1E5Pz"
      },
      "source": [
        "### Kompajliranje izvornog koda\n",
        "\n",
        "Pokrenite komandu u ćeliji ispod kako biste kompajlirali rešenje."
      ]
    },
    {
      "cell_type": "code",
      "metadata": {
        "id": "gYzgbrsyE5P1"
      },
      "source": [
        "%%bash\n",
        "\n",
        "cd /home/naprednicpp\n",
        "g++ parking.cpp -o parking -pthread"
      ],
      "execution_count": null,
      "outputs": []
    },
    {
      "cell_type": "markdown",
      "metadata": {
        "id": "wCt87ND3E5P1"
      },
      "source": [
        "### [Opciono] Provera da li postoji izvršna datoteka"
      ]
    },
    {
      "cell_type": "code",
      "metadata": {
        "id": "n0VqmO87E5P1"
      },
      "source": [
        "![[ -f /home/naprednicpp/parking ]] && echo \"Postoji.\" || echo \"Ne postoji.\""
      ],
      "execution_count": null,
      "outputs": []
    },
    {
      "cell_type": "markdown",
      "metadata": {
        "id": "C3k03W89E5P2"
      },
      "source": [
        "### Pokretanje rešenja"
      ]
    },
    {
      "cell_type": "code",
      "metadata": {
        "id": "S3m1TBqGE5P3"
      },
      "source": [
        "%%bash\n",
        "\n",
        "cd /home/naprednicpp\n",
        "./parking"
      ],
      "execution_count": null,
      "outputs": []
    }
  ]
}