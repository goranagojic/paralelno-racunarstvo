{
  "nbformat": 4,
  "nbformat_minor": 0,
  "metadata": {
    "colab": {
      "name": "PR-termin6.ipynb",
      "private_outputs": true,
      "provenance": [],
      "collapsed_sections": [
        "K05l-EnttRC5",
        "tM7CblUFzqeC",
        "0qabcCDKzqeD",
        "YdVJP7pmzqeF",
        "qXdwtYzPullJ",
        "-kEU2gK-vKOz",
        "w6TPClsOvhXF",
        "hZpsIZeYv0ue",
        "p_Vi8ShhBWPG",
        "7RZ0mgbc2eV7",
        "Nci0Nc-d1LW5",
        "n9lLmLpa1LW7",
        "Wi4qwM5c1LW9",
        "JaK2MDdJYwnO",
        "lNOP4shPB1jn",
        "4SHtDts9P015",
        "Ts6bhk_SCK8F",
        "5h8Lj79_CK8I",
        "D5-NN8_PCK8L",
        "ymT4QG6JCK8N",
        "aO4DHMiXb9Tj"
      ],
      "authorship_tag": "ABX9TyPMk9hAL6i33Ekp34TV5C03",
      "include_colab_link": true
    },
    "kernelspec": {
      "name": "python3",
      "display_name": "Python 3"
    }
  },
  "cells": [
    {
      "cell_type": "markdown",
      "metadata": {
        "id": "view-in-github",
        "colab_type": "text"
      },
      "source": [
        "<a href=\"https://colab.research.google.com/github/goranagojic/paralelno-racunarstvo/blob/main/PR_termin6.ipynb\" target=\"_parent\"><img src=\"https://colab.research.google.com/assets/colab-badge.svg\" alt=\"Open In Colab\"/></a>"
      ]
    },
    {
      "cell_type": "markdown",
      "metadata": {
        "id": "-5DSld6stEls"
      },
      "source": [
        "# Paralelno računarstvo - Vežba 6\n",
        "\n",
        "Vežba obuhvata zadatke:\n",
        "\n",
        "*   Zadatak 8 - Računanje vrednosti broja $\\pi$\n",
        "*   Zadaci 9 i 10 - Sekvencijalna i paralelna implementacija linearne pretrage\n",
        "*   Zadaci 11 i 12 - Sekvencijalna i paralelna implementacija računanja histograma\n",
        "*   Zadaci 13 i 14 - Sekvencijalna i paralelna implementacija množenja nekvadratne matrice i vektora\n",
        "*   Zadaci 15 i 16 - Sekvencijalna i paralelna implementacija množenja dve kvadratne matrice\n",
        "\n"
      ]
    },
    {
      "cell_type": "markdown",
      "metadata": {
        "id": "K05l-EnttRC5"
      },
      "source": [
        "## Preduslovi\n",
        "\n",
        "Pre nego započnete implementaciju zadatka, **obavezno** izvršite kod iz ćelije ispod. Kod će:\n",
        "\n",
        "*   proveriti da li je na sistemu instalirana biblioteka `libgomp` potrebna za izvršavanje OpenMP programa i ako nije instaliraće je,\n",
        "*   napraviti direktorijum u koji će se čuvati sve izvrne i izvršne datoteke\n",
        "*   preuzeti datoteku `hpc_helpers.hpp` i sačuvati je na putanju /home/openmp/"
      ]
    },
    {
      "cell_type": "code",
      "metadata": {
        "id": "WTzffLNOwyTp"
      },
      "source": [
        "%%bash\n",
        "\n",
        "# instaliraj libgomp biblioteku ukoliko vec nije instalirana\n",
        "dpkg -l | grep libgomp1\n",
        "[[ $? -ne 0 ]] && sudo apt-get install libgomp1 || echo \"Biblioteka libgomp1 je već instalirana.\"\n",
        "\n",
        "# napravi radni direktorijum\n",
        "mkdir -p /home/openmp\n",
        "\n",
        "# preuzmi hpc_helper zaglavlje\n",
        "[[ -f hpc_helpers.zip ]] || wget -O hpc_helpers.zip \"https://drive.google.com/u/0/uc?id=1PeEfh8h5SjEcQ5154Z6TpHIlJogQODwM&export=download\"\n",
        "unzip -oqqd /home/openmp/ hpc_helpers.zip\n"
      ],
      "execution_count": null,
      "outputs": []
    },
    {
      "cell_type": "markdown",
      "metadata": {
        "id": "AfMlYVy8zd2V"
      },
      "source": [
        "Po završetku prethodne ćelije možete pokrentui narednu koja proverava da li je hpc_helpers zaglavlje raspakovano na željenu putanju. Ukoliko je sve u redu, naredba će ispisati absolutnu putanju do zaglavlja."
      ]
    },
    {
      "cell_type": "code",
      "metadata": {
        "id": "5mOib2NczyjZ"
      },
      "source": [
        "!ls /home/openmp/hpc_helpers.hpp"
      ],
      "execution_count": null,
      "outputs": []
    },
    {
      "cell_type": "markdown",
      "metadata": {
        "id": "KlzQYHrzyFzV"
      },
      "source": [
        "## Zadatak 8\n",
        "Korišćenjem OpenMP direktiva, klauzula i funkcionalnosti OpenMP biblioteke implementirati paralelni C++ program za računanje vrednosti broja $\\pi$ integraljenjem izraza:\n",
        "$$\n",
        "\\int_{0}^{1}\\frac{4}{(1+x^{2})}\n",
        "$$\n",
        "Rešenje implementirati u funkciji `pi_openmp_parallel` postavke date u ćeliji ispod.\n",
        "\n",
        "Objašnjenje zadatka možete i poslušati na [ovom linku](https://youtu.be/FQ1k_YpyG_A?list=PLLX-Q6B8xqZ8n8bwjGdzBJ25X2utwnoEG&t=466)."
      ]
    },
    {
      "cell_type": "code",
      "metadata": {
        "id": "he-21Va2zJyI"
      },
      "source": [
        "%%writefile /home/openmp/pi.cpp\n",
        "\n",
        "#include <iostream>\n",
        "#include <omp.h>\n",
        "\n",
        "#include \"hpc_helpers.hpp\"\n",
        "\n",
        "#define NOTIMPLEMENTED -1\n",
        "\n",
        "static long num_steps = 100000000;\n",
        "\n",
        "\n",
        "/*\n",
        "  Referentno sekvencijalno resenje za racunanje vrednosti broja PI integracijom.\n",
        "*/\n",
        "double pi_sekvencijalno() {\n",
        "    int i;\n",
        "    double x, pi, sum = 0.0;\n",
        "\n",
        "    double step = 1.0 / (double) num_steps;\n",
        "\n",
        "    for (i = 0; i < num_steps; i++) { \n",
        "        double x = (i + 0.5) * step;\n",
        "        sum = sum + 4.0 / (1.0 + x * x);    \n",
        "    }\n",
        "    pi = step * sum;\n",
        "\n",
        "    return pi;\n",
        "}\n",
        "\n",
        "\n",
        "double pi_openmp_parallel() {\n",
        "\n",
        "    // TODO ovde implementirati resenje zadatka 8\n",
        "\n",
        "    return NOTIMPLEMENTED;\n",
        "}\n",
        "\n",
        "\n",
        "int main() {\n",
        "\n",
        "    TIMERSTART(seq)\n",
        "    double pi1 = pi_sekvencijalno();\n",
        "    TIMERSTOP(seq)\n",
        "\n",
        "    TIMERSTART(openmp_parallel)\n",
        "    double pi2 = pi_openmp_parallel();\n",
        "    TIMERSTOP(openmp_parallel)\n",
        "\n",
        "    std::cout << \"[pi_sekvencijalno]    pi = \" << pi1 << std::endl;\n",
        "    std::cout << \"[pi_openmp_parallel2] pi = \" << pi2 << std::endl;\n",
        "\n",
        "    return 0;\n",
        "}"
      ],
      "execution_count": null,
      "outputs": []
    },
    {
      "cell_type": "markdown",
      "metadata": {
        "id": "tM7CblUFzqeC"
      },
      "source": [
        "### Kompajliranje izvornog koda\n",
        "\n",
        "Pokrenite komandu u ćeliji ispod kako biste kompajlirali rešenje."
      ]
    },
    {
      "cell_type": "code",
      "metadata": {
        "id": "dlZxGd-UzqeD"
      },
      "source": [
        "%%bash\n",
        "\n",
        "cd /home/openmp\n",
        "g++ hpc_helpers.hpp pi.cpp -o pi -fopenmp"
      ],
      "execution_count": null,
      "outputs": []
    },
    {
      "cell_type": "markdown",
      "metadata": {
        "id": "0qabcCDKzqeD"
      },
      "source": [
        "### [Opciono] Provera da li postoji izvršna datoteka"
      ]
    },
    {
      "cell_type": "code",
      "metadata": {
        "id": "tNDMN6w6zqeE"
      },
      "source": [
        "![[ -f /home/openmp/pi ]] && echo \"Postoji.\" || echo \"Ne postoji.\""
      ],
      "execution_count": null,
      "outputs": []
    },
    {
      "cell_type": "markdown",
      "metadata": {
        "id": "YdVJP7pmzqeF"
      },
      "source": [
        "### Pokretanje rešenja\n",
        "\n",
        "Očekivani izlaz izvršne datoteke dobijene kompajliranjem postavke zadatka će ispisati:\n",
        "*   vremena izvršavanja sekvencijalnog i paralelnog rešenja (vrlo mali broj kod paralelnog rešenja dok ne napišete samo rešenje) i\n",
        "*   sračunatu vrednost broja $\\pi$ - u slučaju paralelnog rešenja inicijalno se ispisuje -1 dok ne implementirate rešenje"
      ]
    },
    {
      "cell_type": "code",
      "metadata": {
        "id": "Tr0JjTYezqeF"
      },
      "source": [
        "%%bash\n",
        "\n",
        "cd /home/openmp\n",
        "OMP_NUM_THREADS=16 ./pi"
      ],
      "execution_count": null,
      "outputs": []
    },
    {
      "cell_type": "markdown",
      "metadata": {
        "id": "6ppoCOws9Ba8"
      },
      "source": [
        "### [Opciono] Pokretanje rešenja sa različitim brojem niti\n",
        "\n",
        "Nakon što se uverite da oba implementirano rešenje daje korektne rezultate, možete nastaviti sa izvršavanjem ćelija u ovom poglavlju. Svrha ovog poglavlja je da ilustruje zavisnost vremena izvršavanja od broja pokrenutih niti.\n",
        "\n",
        "Prva ćelija u petlji poziva postojeću `pi` izvršnu datoteku, prvo zahtevajući dve niti, a pri svakom narednom pokretanju uvećavati broj niti dva puta sve dok ne stigne do vrednosti zadate promenljivom `MAX_THREADS`. Vrednost ove promenljive okruženja je postavljena na 256 i možete je menjati. Kako bi podaci bili ispravno sakupljeni, **neophodno** je da:\n",
        "- sve ispise date u postavci zadatka zadržite takvim kakvi jesu i\n",
        "- da dodate ispis ukupnog broja niti u paralelnom regionu. Ispis treba da vrši **samo jedna nit** i treba da bude u formatu `#threads: <n>` gde je `<n>` broj niti u paralelnom regionu (npr. `#threads: 16`)."
      ]
    },
    {
      "cell_type": "code",
      "metadata": {
        "id": "g35hK9AG9BbD"
      },
      "source": [
        "%%bash\n",
        " \n",
        "cd /home/openmp\n",
        " \n",
        "[[ -f /tmp/performance.out ]] && rm /tmp/performance.out\n",
        " \n",
        "export MAX_THREADS=256 # vrednost mozete menjati\n",
        " \n",
        "# prikupljanje podataka o brojnu niti i vremenu sekvencijalnog i paralelnog izvrsavanja\n",
        "# podaci se cuvaju u /tmp/performance.out datoteci u formatu:\n",
        "#   <sekvencijalno vreme (s)>, <broj niti>, <paralelno vreme (s)>\n",
        "for (( i=2; i<$MAX_THREADS; i*=2 )) do\n",
        "  export OMP_NUM_THREADS=$i;\n",
        "  echo \"Zahtevam ${OMP_NUM_THREADS} niti za pokretanje resenja...\"\n",
        "  out=$(./pi | sed -n 's/.*://p' | tr \"\\n\" \",\")\n",
        "  echo ${out:0:-1} >> /tmp/performance.out\n",
        "done\n",
        "echo \"Done.\""
      ],
      "execution_count": null,
      "outputs": []
    },
    {
      "cell_type": "markdown",
      "metadata": {
        "id": "cfy-uiv59BbE"
      },
      "source": [
        "Na osnovu skupljenih podataka se iscrtava grafik zavisnosti vremena izvršavanja u odnosu na broj niti (grafik skalabilnosti rešenja). Na `x` osi je broj niti u paralelnom regionu, a na `y` sekvencijalno (plavo) i paralelno (narandžasto) vreme izvršavanja dato u milisekundama."
      ]
    },
    {
      "cell_type": "code",
      "metadata": {
        "id": "F5xUQoVy9BbE"
      },
      "source": [
        "import pandas as pd\n",
        "import numpy as np\n",
        " \n",
        "# uklanja karakter sa kraja stringa, konvertuje string u razlomljeni broj i\n",
        "# i mnozi ga sa 1000\n",
        "# može se koristiti za konvertovanje stringovnog zapisa trajanja u sekundama u \n",
        "# milisekunde\n",
        "get_exec_time = lambda x: float(x[:-1]) * 1000\n",
        " \n",
        "# konvertuje string u celi broj\n",
        "get_nthreads = lambda x: int(x)\n",
        " \n",
        "# iscitava datoteku sa podacima izvrsavanja i iscrtava grafik\n",
        "perf = pd.read_csv(\n",
        "    filepath_or_buffer='/tmp/performance.out',\n",
        "    delimiter=',',\n",
        "    header=None,\n",
        "    names=['seq', 'nthreads', 'parallel'],\n",
        "    index_col=1,\n",
        "    converters={\n",
        "        'seq': get_exec_time,\n",
        "        'parallel': get_exec_time,\n",
        "        'nthreads': get_nthreads\n",
        "    }\n",
        ")\n",
        "ax = perf.plot.bar(\n",
        "    color={\"parallel\": \"orange\", \"seq\": \"blue\"},\n",
        "    ylabel=\"time (ms)\"\n",
        ")\n",
        "print(perf)"
      ],
      "execution_count": null,
      "outputs": []
    },
    {
      "cell_type": "markdown",
      "metadata": {
        "id": "o86qBYtmt8aj"
      },
      "source": [
        "## Zadatak 9 - Linearna pretraga (sekvencijalna implementacija)\n",
        "\n",
        "Implementirati sekvencijalni C++ program za linearnu pretragu vektora. Rešenje implementirati u telu funkcije `linearna_pretraga_sekvencijalno` u ćeliji ispod. Kao ulazne parametre, funkcija prima vektor vrednost i vrednost koje se traži u ulaznom vektoru. Vratiti indeks prve pronađene vrednosti u vektoru, odnosno -1 ukoliko tražena vrednost nije pronađena. Meriti vreme izvršavanja."
      ]
    },
    {
      "cell_type": "markdown",
      "metadata": {
        "id": "qXdwtYzPullJ"
      },
      "source": [
        "## Zadatak 10 - Linearna pretraga (paralelna implementacija)\n",
        "\n",
        "Implementirati paralelno OpenMP C++ rešenje za linearnu pretragu ulaznog niza. Rešenje implementirati u telu funkcije `linearna_pretraga_openmp` ćelije sa postavkom zadatka. Meriti vreme izvršavanja. Uporediti vremena izvršavanja sekvencijalnog i paralelnog rešenja."
      ]
    },
    {
      "cell_type": "code",
      "metadata": {
        "id": "MheuCzWru8XX"
      },
      "source": [
        "%%writefile /home/openmp/linearna_pretraga.cpp\n",
        "\n",
        "#include <algorithm>\n",
        "#include <iostream>\n",
        "#include <vector>\n",
        "#include <climits>\n",
        "\n",
        "#include \"hpc_helpers.hpp\"\n",
        "\n",
        "#define NELEM 10000000\n",
        "#define NOTIMPLEMENTED -1\n",
        "\n",
        "using namespace std;\n",
        "\n",
        "\n",
        "int linearna_pretraga_sekvencijalno(vector<int> &brojevi, int trazeni_broj) {\n",
        "\n",
        "    // TODO Implementirati resenje zadatka 9\n",
        "\n",
        "    return NOTIMPLEMENTED;\n",
        "}\n",
        "\n",
        "\n",
        "int linearna_pretraga_openmp(vector<int> &brojevi, int trazeni_broj) {\n",
        "\n",
        "    // TODO Implementirati resenje zadatka 10\n",
        "\n",
        "    return NOTIMPLEMENTED;\n",
        "}\n",
        "\n",
        "\n",
        "int main() {\n",
        "\n",
        "    int trazeni_broj = 1;\n",
        "    vector<int> brojevi(NELEM);\n",
        "\n",
        "    // inicijalizacija vektora\n",
        "    srand(time(NULL));\n",
        "\n",
        "    // 1. inicijalizacija vektora nasumicnim brojevima razlicitim od trazenog broja zbog pouzdanijeg testiranja\n",
        "    generate(brojevi.begin(), brojevi.end(), [=](){ return trazeni_broj + 1 + rand() % 100; });\n",
        "\n",
        "    // 2. postavljanje n trazenih brojeva na nasumicne pozicije uz ispis indeksa vektora na koji je postavljen\n",
        "    // broj koji ce se kasnije traziti. Istestirati resenje tako da je n = 0, n = 1 i n > 1.\n",
        "    int n = 3;\n",
        "    for (int i = 0; i < n; i++) {\n",
        "        int poz = rand() % brojevi.size();\n",
        "        brojevi[poz] = trazeni_broj;\n",
        "        cout << \"[init] Broj \" << trazeni_broj << \" postavljen na poziciju \" << poz << \" u nizu.\" << endl;\n",
        "    }\n",
        "    // KRAJ inicijalizacija vektora\n",
        "\n",
        "    TIMERSTART(seq)\n",
        "    int indeks1 = linearna_pretraga_sekvencijalno(brojevi, trazeni_broj);\n",
        "    TIMERSTOP(seq)\n",
        "\n",
        "    TIMERSTART(openmp)\n",
        "    int indeks2 = linearna_pretraga_openmp(brojevi, trazeni_broj);\n",
        "    TIMERSTOP(openmp)\n",
        "\n",
        "    cout << \"[sekvencijalno] Indeks prvog pojavljivanja broja: \" << indeks1 << endl;\n",
        "    cout << \"[openmp] Indeks prvog pojavljivanja broja: \" << indeks2 << endl;\n",
        "\n",
        "    return 0;\n",
        "}"
      ],
      "execution_count": null,
      "outputs": []
    },
    {
      "cell_type": "markdown",
      "metadata": {
        "id": "-kEU2gK-vKOz"
      },
      "source": [
        "### Kompajliranje izvornog koda\n",
        "\n",
        "Pokrenite komandu u ćeliji ispod kako biste kompajlirali rešenje."
      ]
    },
    {
      "cell_type": "code",
      "metadata": {
        "id": "SRnqtu2hvI-I"
      },
      "source": [
        "%%bash\n",
        "\n",
        "cd /home/openmp\n",
        "g++ hpc_helpers.hpp linearna_pretraga.cpp -o linearna_pretraga -fopenmp"
      ],
      "execution_count": null,
      "outputs": []
    },
    {
      "cell_type": "markdown",
      "metadata": {
        "id": "w6TPClsOvhXF"
      },
      "source": [
        "### [Opciono] Provera da li postoji izvršna datoteka"
      ]
    },
    {
      "cell_type": "code",
      "metadata": {
        "id": "WorDC8BNvpIt"
      },
      "source": [
        "![[ -f /home/openmp/linearna_pretraga ]] && echo \"Postoji.\" || echo \"Ne postoji.\""
      ],
      "execution_count": null,
      "outputs": []
    },
    {
      "cell_type": "markdown",
      "metadata": {
        "id": "hZpsIZeYv0ue"
      },
      "source": [
        "### Pokretanje rešenja\n",
        "\n",
        "Očekivani izlaz izvršne datoteke dobijene kompajliranjem postavke zadatka će ispisati:\n",
        "*   indekse niza na kojima je postavljen broj koji se traži,\n",
        "*   vremena izvršavanja sekvencijalnog i paralelnog rešenja (vrlo male vrednosti dok su obe funkcije neimplementirane) i\n",
        "*   indeks prve pojave traženog broja za oba rešenja (podrazumevano -1 kada ni jedna od traženih funkcija nije implementirana)"
      ]
    },
    {
      "cell_type": "code",
      "metadata": {
        "id": "JiDji7D5wG9r"
      },
      "source": [
        "%%bash\n",
        "\n",
        "cd /home/openmp\n",
        "OMP_NUM_THREADS=2 ./linearna_pretraga"
      ],
      "execution_count": null,
      "outputs": []
    },
    {
      "cell_type": "markdown",
      "metadata": {
        "id": "p_Vi8ShhBWPG"
      },
      "source": [
        "### [Opciono] Pokretanje rešenja sa različitim brojem niti\n",
        "\n",
        "Nakon što se uverite da oba implementirano rešenje daje korektne rezultate, možete nastaviti sa izvršavanjem ćelija u ovom poglavlju. Svrha ovog poglavlja je da ilustruje zavisnost vremena izvršavanja od broja pokrenutih niti.\n",
        "\n",
        "Prva ćelija u petlji poziva postojeću `linearna_pretraga` izvršnu datoteku, prvo zahtevajući dve niti, a pri svakom narednom pokretanju uvećavati broj niti dva puta sve dok ne stigne do vrednosti zadate promenljivom `MAX_THREADS`. Vrednost ove promenljive okruženja je postavljena na 256 i možete je menjati. Kako bi podaci bili ispravno sakupljeni, **neophodno** je da:\n",
        "- sve ispise date u postavci zadatka zadržite takvim kakvi jesu i\n",
        "- da dodate ispis ukupnog broja niti u paralelnom regionu. Ispis treba da vrši **samo jedna nit** i treba da bude u formatu `#threads: <n>` gde je `<n>` broj niti u paralelnom regionu (npr. `#threads: 16`)."
      ]
    },
    {
      "cell_type": "code",
      "metadata": {
        "id": "OmwgfHSHBWPJ"
      },
      "source": [
        "%%bash\n",
        " \n",
        "cd /home/openmp\n",
        " \n",
        "[[ -f /tmp/performance.out ]] && rm /tmp/performance.out\n",
        " \n",
        "MAX_THREADS=256 # vrednost mozete menjati\n",
        " \n",
        "# prikupljanje podataka o brojnu niti i vremenu sekvencijalnog i paralelnog izvrsavanja\n",
        "# podaci se cuvaju u /tmp/performance.out datoteci u formatu:\n",
        "#   <sekvencijalno vreme (s)>, <broj niti>, <paralelno vreme (s)>\n",
        "for (( i=2; i<$MAX_THREADS; i*=2 )) do\n",
        "  export OMP_NUM_THREADS=$i;\n",
        "  echo \"Zahtevam ${OMP_NUM_THREADS} niti za pokretanje resenja...\"\n",
        "  out=$(./pi | sed -n 's/.*://p' | tr \"\\n\" \",\")\n",
        "  echo ${out:0:-1} >> /tmp/performance.out\n",
        "done\n",
        "echo \"Done.\""
      ],
      "execution_count": null,
      "outputs": []
    },
    {
      "cell_type": "markdown",
      "metadata": {
        "id": "MgJ5q03-BWPK"
      },
      "source": [
        "Na osnovu skupljenih podataka se iscrtava grafik zavisnosti vremena izvršavanja u odnosu na broj niti (grafik skalabilnosti rešenja). Na `x` osi je broj niti u paralelnom regionu, a na `y` sekvencijalno (plavo) i paralelno (narandžasto) vreme izvršavanja dato u milisekundama."
      ]
    },
    {
      "cell_type": "code",
      "metadata": {
        "id": "rnNCHlliBWPL"
      },
      "source": [
        "import pandas as pd\n",
        "import numpy as np\n",
        " \n",
        "# uklanja karakter sa kraja stringa, konvertuje string u razlomljeni broj i\n",
        "# i mnozi ga sa 1000\n",
        "# može se koristiti za konvertovanje stringovnog zapisa trajanja u sekundama u \n",
        "# milisekunde\n",
        "get_exec_time = lambda x: float(x[:-1]) * 1000\n",
        " \n",
        "# konvertuje string u celi broj\n",
        "get_nthreads = lambda x: int(x)\n",
        " \n",
        "# iscitava datoteku sa podacima izvrsavanja i iscrtava grafik\n",
        "perf = pd.read_csv(\n",
        "    filepath_or_buffer='/tmp/performance.out',\n",
        "    delimiter=',',\n",
        "    header=None,\n",
        "    names=['seq', 'nthreads', 'parallel'],\n",
        "    index_col=1,\n",
        "    converters={\n",
        "        'seq': get_exec_time,\n",
        "        'parallel': get_exec_time,\n",
        "        'nthreads': get_nthreads\n",
        "    }\n",
        ")\n",
        "ax = perf.plot.bar(\n",
        "    color={\"parallel\": \"orange\", \"seq\": \"blue\"},\n",
        "    ylabel=\"time (ms)\"\n",
        ")\n",
        "print(perf)"
      ],
      "execution_count": null,
      "outputs": []
    },
    {
      "cell_type": "markdown",
      "metadata": {
        "id": "qdUbOO201LW0"
      },
      "source": [
        "## Zadatak 11 - Histogram (sekvencijalna implementacija)\n",
        "\n",
        "Implementirati sekvencijalni C++ program za računanje histograma vrednosti iz ulaznog vektora. Vrednost u ulaznom vektoru su nasumično generisani brojevi immeđu 0 i 10. Postavka zadatka je data u želiji ispod gde je potrebno implementirati funkciju `histogram_sekvencijalno`. Meriti vreme izvršavanja."
      ]
    },
    {
      "cell_type": "markdown",
      "metadata": {
        "id": "7RZ0mgbc2eV7"
      },
      "source": [
        "## Zadatak 12 - Histogram (paralelna implementacija)\n",
        "\n",
        "Implementirati paralelni OpenMP C++ program za računanje histograma za vektor ulaznih vrednosti. Rešenje implementirati kao telo funkcije `histogram_openmp`. Meriti vremena izvršavanja i rezultate paralelnog i sekvencijalnog rešenja i uporediti ih."
      ]
    },
    {
      "cell_type": "code",
      "metadata": {
        "id": "KpL2wnwI1LW2"
      },
      "source": [
        "%%writefile /home/openmp/histogram.cpp\n",
        "\n",
        "#include <iostream>\n",
        "#include <vector>\n",
        "#include <algorithm>\n",
        "\n",
        "#include \"hpc_helpers.hpp\"\n",
        "\n",
        "#define NELEM 10000\n",
        "#define NOTIMPLEMENTED vector<int>()\n",
        "\n",
        "\n",
        "using namespace std;\n",
        "\n",
        "\n",
        "vector<int> histogram_sekvencijalni(vector<int> &vrednosti) {\n",
        "    \n",
        "    // TODO implementirati resenje zadatka 11\n",
        "\n",
        "    return NOTIMPLEMENTED;\n",
        "}\n",
        "\n",
        "\n",
        "vector<int> histogram_openmp(vector<int> &vrednosti) {\n",
        "\n",
        "    // TODO implementirati resenje zadatka 12\n",
        "\n",
        "    return NOTIMPLEMENTED;\n",
        "}\n",
        "\n",
        "\n",
        "int main() {\n",
        "\n",
        "    vector<int> vrednosti(NELEM);\n",
        "\n",
        "    // inicijalizacija vektora vrednosti nasumicnim vrednostima manjim od 10\n",
        "    srand(time(NULL));\n",
        "    generate(vrednosti.begin(), vrednosti.end(), [](){ return rand() % 10; });\n",
        "    // KRAJ inicijalizacija\n",
        "\n",
        "    TIMERSTART(seq)\n",
        "    vector<int> histogram1 = histogram_sekvencijalni(vrednosti);\n",
        "    TIMERSTOP(seq)\n",
        "\n",
        "    TIMERSTART(openmp1)\n",
        "    vector<int> histogram2 = histogram_openmp(vrednosti);\n",
        "    TIMERSTOP(openmp1)\n",
        "\n",
        "    if (!equal(histogram1.begin(), histogram1.end(), histogram2.begin())) {\n",
        "        cout << \"Rezultati sekvencijalnog i paralelnog izvrsavanja su razliciti!\" << endl;\n",
        "    }\n",
        "\n",
        "    return 0;\n",
        "}"
      ],
      "execution_count": null,
      "outputs": []
    },
    {
      "cell_type": "markdown",
      "metadata": {
        "id": "Nci0Nc-d1LW5"
      },
      "source": [
        "### Kompajliranje izvornog koda\n",
        "\n",
        "Pokrenite komandu u ćeliji ispod kako biste kompajlirali rešenje."
      ]
    },
    {
      "cell_type": "code",
      "metadata": {
        "id": "4lmpy-_z1LW6"
      },
      "source": [
        "%%bash\n",
        " \n",
        "cd /home/openmp\n",
        "g++ hpc_helpers.hpp histogram.cpp -o histogram -fopenmp"
      ],
      "execution_count": null,
      "outputs": []
    },
    {
      "cell_type": "markdown",
      "metadata": {
        "id": "OjtKcboYhRJb"
      },
      "source": [
        ""
      ]
    },
    {
      "cell_type": "markdown",
      "metadata": {
        "id": "n9lLmLpa1LW7"
      },
      "source": [
        "### [Opciono] Provera da li postoji izvršna datoteka"
      ]
    },
    {
      "cell_type": "code",
      "metadata": {
        "id": "1gMR7Ift1LW8"
      },
      "source": [
        "![[ -f /home/openmp/histogram ]] && echo \"Postoji.\" || echo \"Ne postoji.\""
      ],
      "execution_count": null,
      "outputs": []
    },
    {
      "cell_type": "markdown",
      "metadata": {
        "id": "Wi4qwM5c1LW9"
      },
      "source": [
        "### Pokretanje rešenja\n",
        "\n",
        "Očekivani izlaz izvršne datoteke dobijene kompajliranjem postavke zadatka će ispisati:\n",
        "*   vremena izvršavanja sekvencijalnog i paralelnog rešenja (vrlo male vrednosti dok su obe funkcije neimplementirane)"
      ]
    },
    {
      "cell_type": "code",
      "metadata": {
        "id": "L0t5d2mH1LW9"
      },
      "source": [
        "%%bash\n",
        " \n",
        "cd /home/openmp\n",
        "export OMP_NUM_THREADS=16; ./histogram"
      ],
      "execution_count": null,
      "outputs": []
    },
    {
      "cell_type": "markdown",
      "metadata": {
        "id": "JaK2MDdJYwnO"
      },
      "source": [
        "### [Opciono] Pokretanje rešenja sa različitim brojem niti\n",
        "\n",
        "Nakon što se uverite da oba implementirana rešenja za računanje histograma daju korektne rezultate, možete nastaviti sa izvršavanjem ćelija u ovom poglavlju. Svrha ovog poglavlja je da ilustruje zavisnost vremena izvršavanja od broja pokrenutih niti.\n",
        "\n",
        "Prva ćelija u petlji poziva postojeću `histogram` izvršnu datoteku, prvo zahtevajući dve niti, a pri svakom narednom pokretanju uvećavati broj niti dva puta sve dok ne stigne do vrednosti zadate promenljivom `MAX_THREADS`. Vrednost ove promenljive okruženja je postavljena na 256 i možete je menjati. Kako bi podaci bili ispravno sakupljeni, **neophodno** je da:\n",
        "- sve ispise date u postavci zadatka zadržite takvim kakvi jesu i\n",
        "- da dodate ispis ukupnog broja niti u paralelnom regionu. Ispis treba da vrši **samo jedna nit** i treba da bude u formatu `#threads: <n>` gde je `<n>` broj niti u paralelnom regionu (npr. `#threads: 16`)."
      ]
    },
    {
      "cell_type": "code",
      "metadata": {
        "id": "0JLRZLrbY5Ft"
      },
      "source": [
        "%%bash\n",
        " \n",
        "cd /home/openmp\n",
        " \n",
        "[[ -f /tmp/performance.out ]] && rm /tmp/performance.out\n",
        " \n",
        "MAX_THREADS=256 # vrednost mozete menjati\n",
        " \n",
        "# prikupljanje podataka o brojnu niti i vremenu sekvencijalnog i paralelnog izvrsavanja\n",
        "# podaci se cuvaju u /tmp/performance.out datoteci u formatu:\n",
        "#   <sekvencijalno vreme (s)>, <broj niti>, <paralelno vreme (s)>\n",
        "for (( i=2; i<$MAX_THREADS; i*=2 )) do\n",
        "  echo \"Zahtevam $i niti za pokretanje resenja...\"\n",
        "  export OMP_NUM_THREADS=$i;\n",
        "  out=$(./histogram | sed -n 's/.*://p' | tr \"\\n\" \",\")\n",
        "  echo ${out:0:-1} >> /tmp/performance.out\n",
        "done\n",
        "echo \"Done.\""
      ],
      "execution_count": null,
      "outputs": []
    },
    {
      "cell_type": "markdown",
      "metadata": {
        "id": "DdMbYzQ7oYH0"
      },
      "source": [
        "Na osnovu skupljenih podataka se iscrtava grafik zavisnosti vremena izvršavanja u odnosu na broj niti (grafik skalabilnosti rešenja). Na `x` osi je broj niti u paralelnom regionu, a na `y` sekvencijalno (plavo) i paralelno (narandžasto) vreme izvršavanja dato u milisekundama."
      ]
    },
    {
      "cell_type": "code",
      "metadata": {
        "id": "n3JhL5e56bpg"
      },
      "source": [
        "import pandas as pd\n",
        "import numpy as np\n",
        " \n",
        "# uklanja karakter sa kraja stringa, konvertuje string u razlomljeni broj i\n",
        "# i mnozi ga sa 1000\n",
        "# može se koristiti za konvertovanje stringovnog zapisa trajanja u sekundama u \n",
        "# milisekunde\n",
        "get_exec_time = lambda x: float(x[:-1]) * 1000\n",
        " \n",
        "# konvertuje string u celi broj\n",
        "get_nthreads = lambda x: int(x)\n",
        " \n",
        "# iscitava datoteku sa podacima izvrsavanja i iscrtava grafik\n",
        "perf = pd.read_csv(\n",
        "    filepath_or_buffer='/tmp/performance.out',\n",
        "    delimiter=',',\n",
        "    header=None,\n",
        "    names=['seq', 'nthreads', 'parallel'],\n",
        "    index_col=1,\n",
        "    converters={\n",
        "        'seq': get_exec_time,\n",
        "        'parallel': get_exec_time,\n",
        "        'nthreads': get_nthreads\n",
        "    }\n",
        ")\n",
        "ax = perf.plot.bar(\n",
        "    color={\"parallel\": \"orange\", \"seq\": \"blue\"},\n",
        "    ylabel=\"time (ms)\"\n",
        ")\n",
        "print(perf)"
      ],
      "execution_count": null,
      "outputs": []
    },
    {
      "cell_type": "markdown",
      "metadata": {
        "id": "IZCnFghsCenW"
      },
      "source": [
        "## Zadatak 13 - Množenje matrice i vektora (sekvencijalna implementacija)\n",
        "\n",
        "Implementirati C++ program za sekvencijalno množenje nekvadratne matrice i vektora. Rešenje implementirati u okviru metode `mnozenje_sekvencijalno` ćelije sa postavkom zadatka."
      ]
    },
    {
      "cell_type": "markdown",
      "metadata": {
        "id": "lNOP4shPB1jn"
      },
      "source": [
        "## Zadatak 14 - Množenje matrice i vektora (paralelna implementacija)\n",
        "\n",
        "Implementirati OpenMP C++ program za paralelno množenje nekvadratne matrice i vektora. Rešenje implementirati u okviru metode `mnozenje_openmp` ćelije sa postavkom zadatka. Pre pokretanja rešenja otkomentarisati poziv funkcije iz glavnog koda i zakomentarisati poziv sekvencijalnog rešenja."
      ]
    },
    {
      "cell_type": "code",
      "metadata": {
        "id": "ITXnmjpgB1jt"
      },
      "source": [
        "%%writefile /home/openmp/matrix_vector_multiplication.cpp\n",
        "\n",
        "#include <iostream>\n",
        "#include <vector>\n",
        "\n",
        "#include <omp.h>\n",
        "\n",
        "#include \"hpc_helpers.hpp\"\n",
        "\n",
        "\n",
        "template<typename value_t, typename index_t>\n",
        "void init(\n",
        "    std::vector<value_t> &matrica,\n",
        "    std::vector<value_t> &vektor,\n",
        "    index_t vrsta,                  // broj vrsta matrice\n",
        "    index_t kolona                  // broj kolona matrice\n",
        ") {\n",
        "    for (index_t i = 0; i < vrsta; i++) {\n",
        "        for (index_t j = 0; j < kolona; j++) {\n",
        "            matrica[i * kolona + j] = i >= j ? 1 : 0;\n",
        "        }\n",
        "    }\n",
        "    for (index_t j = 0; j < kolona; j++) {\n",
        "        vektor[j] = j;\n",
        "    }\n",
        "}\n",
        "\n",
        "\n",
        "template<typename value_t, typename index_t>\n",
        "void mnozenje_sekvencijalno(\n",
        "    std::vector<value_t> &matrica, \n",
        "    std::vector<value_t> &vektor, \n",
        "    std::vector<value_t> &rez, \n",
        "    index_t vrsta, \n",
        "    index_t kolona\n",
        ") {\n",
        "    // TODO implementirati rešenje zadatka 13\n",
        "}\n",
        "\n",
        "\n",
        "template<typename value_t, typename index_t>\n",
        "void mnozenje_openmp(\n",
        "    std::vector<value_t> &matrica, \n",
        "    std::vector<value_t> &vektor,\n",
        "    std::vector<value_t> &rez, \n",
        "    index_t vrsta, \n",
        "    index_t kolona,\n",
        "    const index_t broj_niti\n",
        ") {\n",
        "    \n",
        "    // TODO implementirati rešenje zadatka 14\n",
        "}\n",
        "\n",
        "\n",
        "int main() {\n",
        "\n",
        "    const unsigned int m = 1UL << 14;\n",
        "    const unsigned int n = 1UL << 14;\n",
        "    const unsigned int nt = 16UL;\n",
        "\n",
        "    std::vector<int> matrica(m*n);\n",
        "    std::vector<int> vektor(n);\n",
        "    std::vector<int> rezultat(m);\n",
        "\n",
        "    init(matrica, vektor, m, n);\n",
        "\n",
        "    // zakomentarisati nakon sto implementirante mnozenje_openmp funkciju\n",
        "    TIMERSTART(seq)\n",
        "    mnozenje_sekvencijalno(matrica, vektor, rezultat, m, n);\n",
        "    TIMERSTOP(seq)\n",
        "\n",
        "    // otkomentarisati nakon sto implementirate mnozenje_openmp funkciju\n",
        "    // TIMERSTART(openmp)\n",
        "    // mnozenje_openmp(matrica, vektor, rezultat, m, n, nt);\n",
        "    // TIMERSTOP(openmp)\n",
        "\n",
        "    // ukoliko je rezultat u vektoru 'rezultat' tacan, ova petlja se\n",
        "    // nece nista ispisati\n",
        "    for (int i = 0; i < m; i++)\n",
        "        if (rezultat[i] != i*(i+1)/2)\n",
        "            std::cout << \"greska na poziciji \" << i << \" \"\n",
        "                        << rezultat[i] << std::endl;\n",
        "\n",
        "\n",
        "    return 0;\n",
        "}"
      ],
      "execution_count": null,
      "outputs": []
    },
    {
      "cell_type": "markdown",
      "metadata": {
        "id": "Ft6xTUjeB1jw"
      },
      "source": [
        "### Kompajliranje izvornog koda\n",
        "\n",
        "Pokrenite komandu u ćeliji ispod kako biste kompajlirali rešenje."
      ]
    },
    {
      "cell_type": "code",
      "metadata": {
        "id": "pYK9NfOQB1jw"
      },
      "source": [
        "%%bash\n",
        "\n",
        "cd /home/openmp\n",
        "g++ hpc_helpers.hpp matrix_vector_multiplication.cpp -o matrix_vector_multiplication -fopenmp"
      ],
      "execution_count": null,
      "outputs": []
    },
    {
      "cell_type": "markdown",
      "metadata": {
        "id": "h7kKuldwB1jx"
      },
      "source": [
        "### [Opciono] Provera da li postoji izvršna datoteka"
      ]
    },
    {
      "cell_type": "code",
      "metadata": {
        "id": "9q5z8ojjB1jy"
      },
      "source": [
        "![[ -f /home/openmp/matrix_vector_multiplication ]] && echo \"Postoji.\" || echo \"Ne postoji.\""
      ],
      "execution_count": null,
      "outputs": []
    },
    {
      "cell_type": "markdown",
      "metadata": {
        "id": "FATzvlB0B1jy"
      },
      "source": [
        "### Pokretanje rešenja\n",
        "\n",
        "Očekivani izlaz izvršne datoteke dobijene kompajliranjem postavke zadatka će ispisati:\n",
        "*   vremene izvršavanja programa i \n",
        "*   dosta poruka o greškama na pozicijama u rezultujućoj matrici - ovo je u redu i ispisi će nestati nakon što pravilno implementirate algoritam množenja"
      ]
    },
    {
      "cell_type": "code",
      "metadata": {
        "id": "sgURCd-rB1jz"
      },
      "source": [
        "%%bash\n",
        "\n",
        "cd /home/openmp\n",
        "./matrix_vector_multiplication"
      ],
      "execution_count": null,
      "outputs": []
    },
    {
      "cell_type": "markdown",
      "metadata": {
        "id": "4SHtDts9P015"
      },
      "source": [
        "### [Opciono] Pokretanje rešenja sa različitim brojem niti\n",
        "\n",
        "Nakon što se uverite da oba implementirana rešenja za računanje proizvoda daju korektne rezultate, možete nastaviti sa izvršavanjem ćelija u ovom poglavlju. Svrha ovog poglavlja je da ilustruje zavisnost vremena izvršavanja od broja pokrenutih niti.\n",
        "\n",
        "Prva ćelija u petlji poziva postojeću `matrix_vector_multiplication` izvršnu datoteku, prvo zahtevajući dve niti, a pri svakom narednom pokretanju uvećavati broj niti dva puta sve dok ne stigne do vrednosti zadate promenljivom `MAX_THREADS`. Vrednost ove promenljive okruženja je postavljena na 256 i možete je menjati. Kako bi podaci bili ispravno sakupljeni, **neophodno** je da:\n",
        "- sve ispise date u postavci zadatka zadržite takvim kakvi jesu i\n",
        "- da dodate ispis ukupnog broja niti u paralelnom regionu. Ispis treba da vrši **samo jedna nit** i treba da bude u formatu `#threads: <n>` gde je `<n>` broj niti u paralelnom regionu (npr. `#threads: 16`)."
      ]
    },
    {
      "cell_type": "code",
      "metadata": {
        "id": "nFQMy1SOP018"
      },
      "source": [
        "%%bash\n",
        "\n",
        "# prikupljanje podataka o brojnu niti i vremenu sekvencijalnog i paralelnog izvrsavanja\n",
        "# podaci se cuvaju u /tmp/performance.out datoteci u formatu:\n",
        "#   <sekvencijalno vreme (s)>, <broj niti>, <paralelno vreme (s)>\n",
        " \n",
        "cd /home/openmp\n",
        " \n",
        "[[ -f /tmp/performance.out ]] && rm /tmp/performance.out\n",
        " \n",
        "MAX_THREADS=256 # vrednost mozete menjati\n",
        "SRC=/home/openmp/\n",
        " \n",
        "for (( i=2; i<$MAX_THREADS; i*=2 )) do\n",
        "  echo \"Zahtevam $i niti za pokretanje resenja...\"\n",
        "\n",
        "  # menja #define NELEM uz izvornoj datoteci na vrednost $i\n",
        "  sed -i \"s/const unsigned int nt =.*/const unsigned int nt = ${i};/\" \\\n",
        "    ${SRC}/matrix_vector_multiplication.cpp >/dev/null;\n",
        "  g++ -fopenmp $SRC/matrix_vector_multiplication.cpp -o matrix_vector_multiplication;\n",
        "  out=$(./matrix_vector_multiplication | sed -n 's/.*://p' | tr \"\\n\" \",\")\n",
        "  echo ${out:0:-1} >> /tmp/performance.out\n",
        "done\n",
        "echo \"Done.\""
      ],
      "execution_count": null,
      "outputs": []
    },
    {
      "cell_type": "markdown",
      "metadata": {
        "id": "nn8g0tSUCJYI"
      },
      "source": [
        "Na osnovu skupljenih podataka se iscrtava grafik zavisnosti vremena izvršavanja u odnosu na broj niti (grafik skalabilnosti rešenja). Na `x` osi je broj niti u paralelnom regionu, a na `y` sekvencijalno (plavo) i paralelno (narandžasto) vreme izvršavanja dato u milisekundama."
      ]
    },
    {
      "cell_type": "code",
      "metadata": {
        "id": "tJXC-i8kP02D"
      },
      "source": [
        "import pandas as pd\n",
        "import numpy as np\n",
        " \n",
        "# uklanja karakter sa kraja stringa, konvertuje string u razlomljeni broj i\n",
        "# i mnozi ga sa 1000\n",
        "# može se koristiti za konvertovanje stringovnog zapisa trajanja u sekundama u \n",
        "# milisekunde\n",
        "get_exec_time = lambda x: float(x[:-1]) * 1000\n",
        " \n",
        "# konvertuje string u celi broj\n",
        "get_nthreads = lambda x: int(x)\n",
        " \n",
        "# iscitava datoteku sa podacima izvrsavanja i iscrtava grafik\n",
        "perf = pd.read_csv(\n",
        "    filepath_or_buffer='/tmp/performance.out',\n",
        "    delimiter=',',\n",
        "    header=None,\n",
        "    names=['seq', 'nthreads', 'parallel'],\n",
        "    index_col=1,\n",
        "    converters={\n",
        "        'seq': get_exec_time,\n",
        "        'parallel': get_exec_time,\n",
        "        'nthreads': get_nthreads\n",
        "    }\n",
        ")\n",
        "ax = perf.plot.bar(\n",
        "    color={\"parallel\": \"orange\", \"seq\": \"blue\"},\n",
        "    ylabel=\"time (ms)\"\n",
        ")\n",
        "print(perf)"
      ],
      "execution_count": null,
      "outputs": []
    },
    {
      "cell_type": "markdown",
      "metadata": {
        "id": "vxWb_y6-CtnO"
      },
      "source": [
        "## Zadatak 15 - Množenje matrica (sekvencijalna implementacija)\n",
        "\n",
        "Implementirati C++ rešenje za sekvencijalno množenje dve kvadratne funkcije. Rešenje treba implementirati u okviru metode `mnozenje_sekvencijalno`."
      ]
    },
    {
      "cell_type": "markdown",
      "metadata": {
        "id": "Ts6bhk_SCK8F"
      },
      "source": [
        "## Zadatak 16 - Množenje matrica (paralelna implementacija)\n",
        "\n",
        "Implementirati OpenMP C++ rešenje za paralelno množenje dve kavadratne matrice. Rešenje implementirati u okviru funkcije `mnozenje_openmp.` Pre pokretanja rešenja otkomentarisati poziv funkcije u funkciji `main` i zakomentarisati poziv sekvencijalnog rešenja."
      ]
    },
    {
      "cell_type": "code",
      "metadata": {
        "id": "6Nh6wS7lCK8H"
      },
      "source": [
        "%%writefile /home/openmp/matrix_multiplication.cpp\n",
        "\n",
        "#include <iostream>\n",
        "#include <vector>\n",
        "\n",
        "#include <omp.h>\n",
        "\n",
        "#include \"hpc_helpers.hpp\"\n",
        "\n",
        "\n",
        "template<typename value_t, typename index_t>\n",
        "void init(\n",
        "    std::vector<value_t> &A,\n",
        "    std::vector<value_t> &B,\n",
        "    index_t m,\n",
        "    index_t n,\n",
        "    index_t r\n",
        ") {\n",
        "    // inicijalizuje matricu A tako da su na glavnoj dijagonali i ispod\n",
        "    // nje sve jedinice, a iznad glavne dijagonale sve nule\n",
        "    for (index_t i = 0; i < m; i++) {\n",
        "        for (index_t j = 0; j < n; j++) {\n",
        "            A[i * m + j] = i >= j ? 1 : 0;\n",
        "        }\n",
        "    }\n",
        "    \n",
        "    // inicijalizuje matricu B tako da je svaka kolona popunjena rastucim\n",
        "    // brojevima od 0 do n-1\n",
        "    for (index_t j = 0; j < r; j++) {\n",
        "        for (index_t i = 0; i < n; i++) {\n",
        "            B[i * r + j] = i;\n",
        "        }\n",
        "    }\n",
        "}\n",
        "\n",
        "\n",
        "template<typename value_t, typename index_t>\n",
        "void mnozenje_sekvencijalno(\n",
        "    std::vector<value_t> &A, \n",
        "    std::vector<value_t> &B, \n",
        "    std::vector<value_t> &R, \n",
        "    index_t m, \n",
        "    index_t n,\n",
        "    index_t r\n",
        ") {\n",
        "    // TODO Implementirati resenje zadatka 15\n",
        "}\n",
        "\n",
        "\n",
        "template<typename value_t, typename index_t>\n",
        "void mnozenje_openmp(\n",
        "    std::vector<value_t> &A, \n",
        "    std::vector<value_t> &B,\n",
        "    std::vector<value_t> &R, \n",
        "    index_t m, \n",
        "    index_t n,\n",
        "    index_t r,\n",
        "    const index_t broj_niti\n",
        ") {\n",
        "    // TODO Implementirati resenje zadatka 16\n",
        "}\n",
        "\n",
        "\n",
        "int main() {\n",
        "\n",
        "    const uint8_t shift = 2;\n",
        "\n",
        "    const unsigned int m = 1UL << shift;\n",
        "    const unsigned int n = 1UL << shift;\n",
        "    const unsigned int r = 1UL << shift;\n",
        "    const unsigned int nt = 16UL;\n",
        "\n",
        "    TIMERSTART(overall)\n",
        "\n",
        "    TIMERSTART(alloc)\n",
        "    std::vector<int> A(m*n);\n",
        "    std::vector<int> B(n*r);\n",
        "    std::vector<int> R(m*r);\n",
        "    TIMERSTOP(alloc)\n",
        "\n",
        "    init(A, B, m, n, r);\n",
        "\n",
        "    // zakomentarisati nakon sto implementirante mnozenje_openmp funkciju\n",
        "    TIMERSTART(seq)\n",
        "    mnozenje_sekvencijalno(A, B, R, m, n, r);\n",
        "    TIMERSTOP(seq)\n",
        "\n",
        "    // otkomentarisati nakon sto implementirate mnozenje_openmp funkciju\n",
        "    // TIMERSTART(openmp)\n",
        "    // mnozenje_openmp(A, B, R, m, n, r, nt);\n",
        "    // TIMERSTOP(openmp)\n",
        "\n",
        "    TIMERSTOP(overall)\n",
        "\n",
        "    // ukoliko je rezultat u rezultujucoj matrici tacan, ova petlja nece nista ispisati\n",
        "    for (int j = 0; j < r; j++)\n",
        "        for (int i = 0; i < m; i++)\n",
        "            if (R[i*m+j] != i*(i+1)/2)\n",
        "                std::cout << \"greska na poziciji \" << i << \" \"\n",
        "                            << R[i] << std::endl;\n",
        "\n",
        "\n",
        "    return 0;\n",
        "}"
      ],
      "execution_count": null,
      "outputs": []
    },
    {
      "cell_type": "markdown",
      "metadata": {
        "id": "5h8Lj79_CK8I"
      },
      "source": [
        "### Kompajliranje izvornog koda\n",
        "\n",
        "Pokrenite komandu u ćeliji ispod kako biste kompajlirali rešenje."
      ]
    },
    {
      "cell_type": "code",
      "metadata": {
        "id": "MKFpfwhtCK8K"
      },
      "source": [
        "%%bash\n",
        "\n",
        "cd /home/openmp\n",
        "g++ hpc_helpers.hpp matrix_multiplication.cpp -o matrix_multiplication -fopenmp"
      ],
      "execution_count": null,
      "outputs": []
    },
    {
      "cell_type": "markdown",
      "metadata": {
        "id": "D5-NN8_PCK8L"
      },
      "source": [
        "### [Opciono] Provera da li postoji izvršna datoteka"
      ]
    },
    {
      "cell_type": "code",
      "metadata": {
        "id": "01WA3717CK8L"
      },
      "source": [
        "![[ -f /home/openmp/matrix_multiplication ]] && echo \"Postoji.\" || echo \"Ne postoji.\""
      ],
      "execution_count": null,
      "outputs": []
    },
    {
      "cell_type": "markdown",
      "metadata": {
        "id": "ymT4QG6JCK8N"
      },
      "source": [
        "### Pokretanje rešenja\n",
        "\n",
        "Očekivani izlaz izvršne datoteke dobijene kompajliranjem postavke zadatka će ispisati:\n",
        "*   vremene izvršavanja programa i \n",
        "*   dosta poruka o greškama na pozicijama u rezultujućoj matrici - ovo je u redu i ispisi će nestati nakon što pravilno implementirate algoritam množenja. Nakon sto ispravno implementirate rešenje, probajte da povećate vrednost promenljive `shift` i pratite performanse rešenja."
      ]
    },
    {
      "cell_type": "code",
      "metadata": {
        "id": "pa1IhnIXCK8N"
      },
      "source": [
        "%%bash\n",
        "\n",
        "cd /home/openmp\n",
        "./matrix_multiplication"
      ],
      "execution_count": null,
      "outputs": []
    },
    {
      "cell_type": "markdown",
      "metadata": {
        "id": "aO4DHMiXb9Tj"
      },
      "source": [
        "### [Opciono] Pokretanje rešenja sa različitim brojem niti\n",
        "\n",
        "Nakon što se uverite da oba implementirana rešenja za računanje proizvoda daju korektne rezultate, možete nastaviti sa izvršavanjem ćelija u ovom poglavlju. Svrha ovog poglavlja je da ilustruje zavisnost vremena izvršavanja od broja pokrenutih niti.\n",
        "\n",
        "Prva ćelija u petlji poziva postojeću `matrix_multiplication` izvršnu datoteku, prvo zahtevajući dve niti, a pri svakom narednom pokretanju uvećavati broj niti dva puta sve dok ne stigne do vrednosti zadate promenljivom `MAX_THREADS`. Vrednost ove promenljive okruženja je postavljena na 256 i možete je menjati. Kako bi podaci bili ispravno sakupljeni, **neophodno** je da:\n",
        "- sve ispise date u postavci zadatka zadržite takvim kakvi jesu i\n",
        "- da dodate ispis ukupnog broja niti u paralelnom regionu. Ispis treba da vrši **samo jedna nit** i treba da bude u formatu `#threads: <n>` gde je `<n>` broj niti u paralelnom regionu (npr. `#threads: 16`)."
      ]
    },
    {
      "cell_type": "code",
      "metadata": {
        "id": "CPMza4PVb9Tk"
      },
      "source": [
        "%%bash\n",
        "\n",
        "# prikupljanje podataka o brojnu niti i vremenu sekvencijalnog i paralelnog izvrsavanja\n",
        "# podaci se cuvaju u /tmp/performance.out datoteci u formatu:\n",
        "#   <sekvencijalno vreme (s)>, <broj niti>, <paralelno vreme (s)>\n",
        " \n",
        "cd /home/openmp\n",
        " \n",
        "[[ -f /tmp/performance.out ]] && rm /tmp/performance.out\n",
        " \n",
        "MAX_THREADS=256 # vrednost mozete menjati\n",
        "SRC=/home/openmp/\n",
        " \n",
        "for (( i=2; i<$MAX_THREADS; i*=2 )) do\n",
        "  echo \"Zahtevam $i niti za pokretanje resenja...\"\n",
        "\n",
        "  # menja #define NELEM uz izvornoj datoteci na vrednost $i\n",
        "  sed -i \"s/const unsigned int nt =.*/const unsigned int nt = ${i};/\" \\\n",
        "    ${SRC}/matrix_multiplication.cpp >/dev/null;\n",
        "  g++ -fopenmp $SRC/matrix_multiplication.cpp -o matrix_multiplication;\n",
        "  out=$(./matrix_multiplication | sed -n 's/.*://p' | tr \"\\n\" \",\")\n",
        "  echo ${out:0:-1} >> /tmp/performance.out\n",
        "done\n",
        "echo \"Done.\""
      ],
      "execution_count": null,
      "outputs": []
    },
    {
      "cell_type": "markdown",
      "metadata": {
        "id": "PYjzVpcQCoJY"
      },
      "source": [
        "Na osnovu skupljenih podataka se iscrtava grafik zavisnosti vremena izvršavanja u odnosu na broj niti (grafik skalabilnosti rešenja). Na `x` osi je broj niti u paralelnom regionu, a na `y` sekvencijalno (plavo) i paralelno (narandžasto) vreme izvršavanja dato u milisekundama."
      ]
    },
    {
      "cell_type": "code",
      "metadata": {
        "id": "fE9sddeLb9Tm"
      },
      "source": [
        "import pandas as pd\n",
        "import numpy as np\n",
        " \n",
        "# uklanja karakter sa kraja stringa, konvertuje string u razlomljeni broj i\n",
        "# i mnozi ga sa 1000\n",
        "# može se koristiti za konvertovanje stringovnog zapisa trajanja u sekundama u \n",
        "# milisekunde\n",
        "get_exec_time = lambda x: float(x[:-1]) * 1000\n",
        " \n",
        "# konvertuje string u celi broj\n",
        "get_nthreads = lambda x: int(x)\n",
        " \n",
        "# iscitava datoteku sa podacima izvrsavanja i iscrtava grafik\n",
        "perf = pd.read_csv(\n",
        "    filepath_or_buffer='/tmp/performance.out',\n",
        "    delimiter=',',\n",
        "    header=None,\n",
        "    names=['seq', 'nthreads', 'parallel'],\n",
        "    index_col=1,\n",
        "    converters={\n",
        "        'seq': get_exec_time,\n",
        "        'parallel': get_exec_time,\n",
        "        'nthreads': get_nthreads\n",
        "    }\n",
        ")\n",
        "ax = perf.plot.bar(\n",
        "    color={\"parallel\": \"orange\", \"seq\": \"blue\"},\n",
        "    ylabel=\"time (ms)\"\n",
        ")\n",
        "print(perf)"
      ],
      "execution_count": null,
      "outputs": []
    }
  ]
}