{
  "nbformat": 4,
  "nbformat_minor": 0,
  "metadata": {
    "colab": {
      "name": "PR-termin3.ipynb",
      "private_outputs": true,
      "provenance": [],
      "collapsed_sections": [
        "tJTO8JKaM-ob",
        "wuTdl95t20UM",
        "Xs-nV5QR20UP",
        "bDJGIyXV20UQ",
        "HCH1NcVt20UR",
        "WYZGJLx74pUC",
        "pg5TiBt8bHdd",
        "aX9j05Qfc7V8"
      ],
      "toc_visible": true,
      "include_colab_link": true
    },
    "kernelspec": {
      "name": "python3",
      "display_name": "Python 3"
    }
  },
  "cells": [
    {
      "cell_type": "markdown",
      "metadata": {
        "id": "view-in-github",
        "colab_type": "text"
      },
      "source": [
        "<a href=\"https://colab.research.google.com/github/goranagojic/paralelno-racunarstvo/blob/main/PR_termin3.ipynb\" target=\"_parent\"><img src=\"https://colab.research.google.com/assets/colab-badge.svg\" alt=\"Open In Colab\"/></a>"
      ]
    },
    {
      "cell_type": "markdown",
      "metadata": {
        "id": "hCWbeA1l1sWO"
      },
      "source": [
        "# Paralelno računarstvo - Vežba 3\n",
        "\n",
        "Vežba obuhvata zadatke:\n",
        "*    Zadatak 1 - Prvih $n$ Fibonačijevih brojeva korišćenjem `std::promise` mehanizma\n",
        "*    Zadatak 2 - Prvih $n$ Fibonačijevih brojeva korišćenjem `std::async` mehanizma\n",
        "*    Zadatak 3 - $N$-ti element Fibonacijevog niza, rekurzivno, koristeći `std::async`\n",
        "*    Zadatak 4 - Uvećavanje promenljive korišćenjem `std::atomic` mehanizma\n",
        "*    Zadatak 5 - Računanje maksimalnog element koristeći CAS operaciju"
      ]
    },
    {
      "cell_type": "markdown",
      "metadata": {
        "id": "K05l-EnttRC5"
      },
      "source": [
        "## Preduslovi\n",
        "\n",
        "Pre nego započnete implementaciju zadatka, **obavezno** izvršite kod iz ćelije ispod. Kod će:\n",
        "\n",
        "*   napraviti direktorijum u koji će se čuvati sve izvrne i izvršne datoteke\n",
        "*   preuzeti datoteku `hpc_helpers.hpp` i sačuvati je na putanju /home/naprednicpp/"
      ]
    },
    {
      "cell_type": "code",
      "metadata": {
        "id": "WTzffLNOwyTp"
      },
      "source": [
        "%%bash\n",
        "\n",
        "# napravi radni direktorijum\n",
        "mkdir -p /home/naprednicpp\n",
        "\n",
        "# preuzmi hpc_helper zaglavlje\n",
        "[[ -f hpc_helpers.zip ]] || wget -O hpc_helpers.zip \"https://drive.google.com/u/0/uc?id=1PeEfh8h5SjEcQ5154Z6TpHIlJogQODwM&export=download\"\n",
        "unzip -oqqd /home/naprednicpp/ hpc_helpers.zip"
      ],
      "execution_count": null,
      "outputs": []
    },
    {
      "cell_type": "markdown",
      "metadata": {
        "id": "tJTO8JKaM-ob"
      },
      "source": [
        "## Zadatak 1\n",
        "Implementirati zadatak koji izračunava prvih $n$ elemenata Fibonačijevog niza. Svaki element niza se računa koristeći posebnu nit. Sinhronizaciju niti i prebacivanje rešenja u glavnu nit implementirati koristeći obećanja."
      ]
    },
    {
      "cell_type": "code",
      "metadata": {
        "id": "he-21Va2zJyI"
      },
      "source": [
        "%%writefile /home/naprednicpp/fibonaci.cpp\n",
        "\n",
        "#include <iostream>\n",
        "#include <cstdint>\n",
        "#include <vector>\n",
        "#include <thread>\n",
        "#include <future>\n",
        "\n",
        "template <\n",
        "    typename value_t,\n",
        "    typename index_t>\n",
        "void fibo(\n",
        "    value_t n,\n",
        "    std::promise<value_t> && result) {\n",
        "\n",
        "    value_t a_0 = 0;\n",
        "    value_t a_1 = 1;\n",
        "\n",
        "    for (index_t index = 0; index < n; index++) {\n",
        "        const value_t tmp = a_0; a_0 = a_1; a_1 += tmp;\n",
        "    }\n",
        "\n",
        "    result.set_value(a_0);\n",
        "}\n",
        "\n",
        "int main(int argc, char * argv[]) {\n",
        "\n",
        "    const uint64_t num_threads = 32;\n",
        "\n",
        "    std::vector<std::thread> threads;\n",
        "    std::vector<std::future<uint64_t>> results;\n",
        "\n",
        "    for (uint64_t id = 0; id < num_threads; id++) {\n",
        "        std::promise<uint64_t> promise;\n",
        "        results.emplace_back(promise.get_future());\n",
        "\n",
        "        threads.emplace_back(\n",
        "            std::thread(\n",
        "                fibo<uint64_t, uint64_t>, id, std::move(promise)\n",
        "            )\n",
        "        );\n",
        "    }\n",
        "\n",
        "\n",
        "    for (auto& result: results)\n",
        "        std::cout << result.get() << std::endl;\n",
        "\n",
        "    for (auto& thread: threads)\n",
        "        thread.detach();\n",
        "\n",
        "}\n",
        "\n"
      ],
      "execution_count": null,
      "outputs": []
    },
    {
      "cell_type": "markdown",
      "metadata": {
        "id": "tM7CblUFzqeC"
      },
      "source": [
        "### Kompajliranje izvornog koda\n",
        "\n",
        "Pokrenite komandu u ćeliji ispod kako biste kompajlirali rešenje."
      ]
    },
    {
      "cell_type": "code",
      "metadata": {
        "id": "dlZxGd-UzqeD"
      },
      "source": [
        "%%bash\n",
        "\n",
        "cd /home/naprednicpp\n",
        "g++ hpc_helpers.hpp fibonaci.cpp -o fibonaci -pthread -std=c++11"
      ],
      "execution_count": null,
      "outputs": []
    },
    {
      "cell_type": "markdown",
      "metadata": {
        "id": "0qabcCDKzqeD"
      },
      "source": [
        "### [Opciono] Provera da li postoji izvršna datoteka"
      ]
    },
    {
      "cell_type": "code",
      "metadata": {
        "id": "tNDMN6w6zqeE"
      },
      "source": [
        "![[ -f /home/naprednicpp/fibonaci ]] && echo \"Postoji.\" || echo \"Ne postoji.\""
      ],
      "execution_count": null,
      "outputs": []
    },
    {
      "cell_type": "markdown",
      "metadata": {
        "id": "YdVJP7pmzqeF"
      },
      "source": [
        "### Pokretanje rešenja"
      ]
    },
    {
      "cell_type": "code",
      "metadata": {
        "id": "Tr0JjTYezqeF"
      },
      "source": [
        "%%bash\n",
        "\n",
        "cd /home/naprednicpp\n",
        "./fibonaci"
      ],
      "execution_count": null,
      "outputs": []
    },
    {
      "cell_type": "markdown",
      "metadata": {
        "id": "wuTdl95t20UM"
      },
      "source": [
        "## Zadatak 2\n",
        "Implementirati zadatak koji izračunava prvih $n$ elemenata Fibonačijevog niza. Pri implementaciji koristiti `std::async`. Obratiti pažnju na to da loše napisan kod može dovesti do sekvencijalnog izvršavanja, iako se koristi `std::launch::async`."
      ]
    },
    {
      "cell_type": "code",
      "metadata": {
        "id": "u5lzIxJn20UO"
      },
      "source": [
        "%%writefile /home/naprednicpp/fibonaciasync.cpp\n",
        "\n",
        "#include <iostream>\n",
        "#include <cstdint>\n",
        "#include <vector>\n",
        "#include <future>\n",
        "\n",
        "using namespace std;\n",
        "\n",
        "uint64_t fibo(\n",
        "    // Parametri\n",
        ") {\n",
        "    /* Implementirati:\n",
        "        - dodati neophodne parametre funkcije\n",
        "        - funkciju koja računa n-ti element fibonačijevog niza\n",
        "    */\n",
        " \n",
        "}\n",
        "int main(int argc, char * argv[]) {\n",
        "\n",
        "    const uint64_t num_threads = 32;\n",
        "    /* Implementirat:\n",
        "        - Pozvatin num_threads puta asinhronu funkciju računanje elemenata fibodačijevog niza\n",
        "    */\n",
        "\n",
        "    /* Implementirat:\n",
        "        - Ispisati rezultat rada asinhronih niti\n",
        "    */\n",
        "}"
      ],
      "execution_count": null,
      "outputs": []
    },
    {
      "cell_type": "markdown",
      "metadata": {
        "id": "Xs-nV5QR20UP"
      },
      "source": [
        "### Kompajliranje izvornog koda\n",
        "\n",
        "Pokrenite komandu u ćeliji ispod kako biste kompajlirali rešenje."
      ]
    },
    {
      "cell_type": "code",
      "metadata": {
        "id": "xEEuRtTa20UQ"
      },
      "source": [
        "%%bash\n",
        "\n",
        "cd /home/naprednicpp\n",
        "g++ hpc_helpers.hpp fibonaciasync.cpp -o fibonaciasync -pthread -std=c++11"
      ],
      "execution_count": null,
      "outputs": []
    },
    {
      "cell_type": "markdown",
      "metadata": {
        "id": "bDJGIyXV20UQ"
      },
      "source": [
        "### [Opciono] Provera da li postoji izvršna datoteka"
      ]
    },
    {
      "cell_type": "code",
      "metadata": {
        "id": "D5WmWQVl20UR"
      },
      "source": [
        "![[ -f /home/naprednicpp/fibonaciasync ]] && echo \"Postoji.\" || echo \"Ne postoji.\""
      ],
      "execution_count": null,
      "outputs": []
    },
    {
      "cell_type": "markdown",
      "metadata": {
        "id": "HCH1NcVt20UR"
      },
      "source": [
        "### Pokretanje rešenja"
      ]
    },
    {
      "cell_type": "code",
      "metadata": {
        "id": "R4Ig1gj-20US"
      },
      "source": [
        "%%bash\n",
        "\n",
        "cd /home/naprednicpp\n",
        "./fibonaciasync"
      ],
      "execution_count": null,
      "outputs": []
    },
    {
      "cell_type": "markdown",
      "metadata": {
        "id": "WYZGJLx74pUC"
      },
      "source": [
        "## Zadatak 3\n",
        "Implementirati funkciju koji izračunava $n$-ti elemenata fibonačijevog niza rekurzivno. Implementirati algoritam tako da je svaki rekurzivni poziv nova nit. Pri implementaciji koristiti `std::async`.\n",
        "\n",
        "Kakve su performanse ovako impelentiranog resenja?"
      ]
    },
    {
      "cell_type": "code",
      "metadata": {
        "id": "NPi4g2-K4pUE"
      },
      "source": [
        "%%writefile /home/naprednicpp/rec_fib.cpp\n",
        "\n",
        "#include <iostream>\n",
        "#include <cstdint>\n",
        "#include <vector>\n",
        "#include <future>\n",
        "\n",
        "uint64_t fibo(\n",
        "    // Parametri\n",
        ") {\n",
        "    /* Implementirati:\n",
        "        - dodati neophodne parametre funkcije\n",
        "        - funkciju koja računa n-ti element fibonačijevog niza\n",
        "    */\n",
        " \n",
        "}\n",
        "int main(int argc, char * argv[]) {\n",
        "\n",
        "    /* Implementirat:\n",
        "        - Poziv fukncije koja rekurzivno racuna n-ti element fibonacijevog niza\n",
        "    */\n",
        "\n",
        "    /* Implementirat:\n",
        "        - Ispisati rezultat\n",
        "    */\n",
        "}\n"
      ],
      "execution_count": null,
      "outputs": []
    },
    {
      "cell_type": "markdown",
      "metadata": {
        "id": "Ku_9jt3-4pUF"
      },
      "source": [
        "### Kompajliranje izvornog koda\n",
        "\n",
        "Pokrenite komandu u ćeliji ispod kako biste kompajlirali rešenje."
      ]
    },
    {
      "cell_type": "code",
      "metadata": {
        "id": "RfNP6wMw4pUG"
      },
      "source": [
        "%%bash\n",
        "\n",
        "cd /home/naprednicpp\n",
        "g++ hpc_helpers.hpp rec_fib.cpp -o rec_fib -pthread -std=c++11"
      ],
      "execution_count": null,
      "outputs": []
    },
    {
      "cell_type": "markdown",
      "metadata": {
        "id": "u92ZsfV04pUH"
      },
      "source": [
        "### [Opciono] Provera da li postoji izvršna datoteka"
      ]
    },
    {
      "cell_type": "code",
      "metadata": {
        "id": "RimUjjeH4pUI"
      },
      "source": [
        "![[ -f /home/naprednicpp/rec_fib ]] && echo \"Postoji.\" || echo \"Ne postoji.\""
      ],
      "execution_count": null,
      "outputs": []
    },
    {
      "cell_type": "markdown",
      "metadata": {
        "id": "-FvI0_OT4pUJ"
      },
      "source": [
        "### Pokretanje rešenja"
      ]
    },
    {
      "cell_type": "code",
      "metadata": {
        "id": "p6SSJHHq4pUJ"
      },
      "source": [
        "%%bash\n",
        "\n",
        "cd /home/naprednicpp\n",
        "./rec_fib"
      ],
      "execution_count": null,
      "outputs": []
    },
    {
      "cell_type": "markdown",
      "metadata": {
        "id": "pg5TiBt8bHdd"
      },
      "source": [
        "## Zadatak 4\n",
        "Implementirati funkciju za atomično povećavanje brojača. Više niti izvršava istu funkciju. Uporediti performanse napisanog rešenja sa performansama rešenja koje koristi `mutex` za ostvarenje međusobne isljučivosti."
      ]
    },
    {
      "cell_type": "code",
      "metadata": {
        "id": "U8MDb_hLbHdh"
      },
      "source": [
        "%%writefile /home/naprednicpp/cntatomic.cpp\n",
        "\n",
        "#include <iostream>\n",
        "#include <cstdint>\n",
        "#include <vector>\n",
        "#include <thread>\n",
        "#include <atomic>\n",
        "#include <mutex>\n",
        "\n",
        "#include \"hpc_helpers.hpp\"\n",
        "\n",
        "\n",
        "using namespace std;\n",
        "\n",
        "\n",
        "int main( ) {\n",
        "\n",
        "    std::mutex mutex;\n",
        "    std::vector<std::thread> threads;\n",
        "    const uint64_t num_threads = 10;\n",
        "    const uint64_t num_iters = 100000000;\n",
        "\n",
        "    /* TODO implementirati:\n",
        "        - modifikovati datu praznu lambda funkciju tako da povecava vrednost brojaca, za prevenciju\n",
        "          stetnog preplitanja koristiti mutex\n",
        "    */\n",
        "    auto lock_count = [](uint64_t *counter, uint64_t id) -> void {};\n",
        "\n",
        "    /* TODO implementirati:\n",
        "        - modifikovati datu praznu lambda funkciju tako da povecava vrednost brojaca kroz upotrebu\n",
        "          atomicnih promenljivih\n",
        "    */\n",
        "    auto atomic_count = [](std::atomic<uint64_t> *counter, uint64_t id) -> void {};\n",
        "\n",
        "    TIMERSTART(mutex_multithreaded)\n",
        "    uint64_t counter = 0;\n",
        "    threads.clear();\n",
        "    for (uint64_t id = 0; id < num_threads; id++)\n",
        "        threads.emplace_back(lock_count, &counter, id);\n",
        "    for (auto& thread : threads)\n",
        "        thread.join();\n",
        "    TIMERSTOP(mutex_multithreaded)\n",
        "\n",
        "    TIMERSTART(atomic_multithreaded)\n",
        "    std::atomic<uint64_t> atomic_counter(0);\n",
        "    threads.clear();\n",
        "    for (uint64_t id = 0; id < num_threads; id++)\n",
        "        threads.emplace_back(atomic_count, &atomic_counter, id);\n",
        "    for (auto& thread : threads)\n",
        "        thread.join();\n",
        "    TIMERSTOP(atomic_multithreaded)\n",
        "\n",
        "    std::cout << counter << \" \" << atomic_counter << std::endl;\n",
        "\n",
        "    return 0;\n",
        "}"
      ],
      "execution_count": null,
      "outputs": []
    },
    {
      "cell_type": "markdown",
      "metadata": {
        "id": "koMb3-pabHdi"
      },
      "source": [
        "### Kompajliranje izvornog koda\n",
        "\n",
        "Pokrenite komandu u ćeliji ispod kako biste kompajlirali rešenje."
      ]
    },
    {
      "cell_type": "code",
      "metadata": {
        "id": "JeVApFCjbHdk"
      },
      "source": [
        "%%bash\n",
        "\n",
        "cd /home/naprednicpp\n",
        "g++ hpc_helpers.hpp cntatomic.cpp -o cntatomic -pthread -std=c++11"
      ],
      "execution_count": null,
      "outputs": []
    },
    {
      "cell_type": "markdown",
      "metadata": {
        "id": "xmWVKXJkbHdl"
      },
      "source": [
        "### [Opciono] Provera da li postoji izvršna datoteka"
      ]
    },
    {
      "cell_type": "code",
      "metadata": {
        "id": "Bjsk5ZHkbHdl"
      },
      "source": [
        "![[ -f /home/naprednicpp/cntatomic ]] && echo \"Postoji.\" || echo \"Ne postoji.\""
      ],
      "execution_count": null,
      "outputs": []
    },
    {
      "cell_type": "markdown",
      "metadata": {
        "id": "4IhLLMTZbHdl"
      },
      "source": [
        "### Pokretanje rešenja"
      ]
    },
    {
      "cell_type": "code",
      "metadata": {
        "id": "aZAsKT_EbHdm"
      },
      "source": [
        "%%bash\n",
        "\n",
        "cd /home/naprednicpp\n",
        "./cntatomic"
      ],
      "execution_count": null,
      "outputs": []
    },
    {
      "cell_type": "markdown",
      "metadata": {
        "id": "aX9j05Qfc7V8"
      },
      "source": [
        "## Zadatak 5\n",
        "Implementirati funkciju za računanje maksimalnog element koristeći `CAS` operaciju. Već implementiranu funkciju `incorect_max` prekopirati i izmeniti tako da računa max na pravilan način."
      ]
    },
    {
      "cell_type": "code",
      "metadata": {
        "id": "Kr32HSHrc7V_"
      },
      "source": [
        "%%writefile /home/naprednicpp/atomic_max.cpp\n",
        "\n",
        "#include <iostream>\n",
        "#include <cstdint>\n",
        "#include <vector>\n",
        "#include <thread>\n",
        "#include <atomic>\n",
        "#include \"hpc_helpers.hpp\"\n",
        "\n",
        "int main( ) {\n",
        "\n",
        "    std::vector<std::thread> threads;\n",
        "    const uint64_t num_threads = 10;\n",
        "    const uint64_t num_iters = 100000000;\n",
        "\n",
        "    // UPOZORENJE: ova funkcija proizvodi pogrešno rešenje\n",
        "    auto false_max =\n",
        "        [&] (volatile std::atomic<uint64_t>* counter,\n",
        "             const int& id) -> void {\n",
        "\n",
        "        for (uint64_t i = id; i < num_iters; i += num_threads)\n",
        "            if(i > *counter)\n",
        "                *counter = i;\n",
        "    };\n",
        "\n",
        "    /* Implementirati:\n",
        "        - funkciju za pravilno računanje maksimalne vrednosti (izmeniti false_max funkciju tako da koristi CAS)\n",
        "    */\n",
        "    auto correct_max =\n",
        "    \n",
        "\n",
        "    TIMERSTART(incorrect_max)\n",
        "    std::atomic<uint64_t> false_counter(0);\n",
        "    threads.clear();\n",
        "    for (uint64_t id = 0; id < num_threads; id++)\n",
        "        threads.emplace_back(false_max, &false_counter, id);\n",
        "    for (auto& thread : threads)\n",
        "        thread.join();\n",
        "    TIMERSTOP(incorrect_max)\n",
        "\n",
        "    TIMERSTART(correct_max)\n",
        "    std::atomic<uint64_t> correct_counter(0);\n",
        "    threads.clear();\n",
        "    for (uint64_t id = 0; id < num_threads; id++)\n",
        "        threads.emplace_back(correct_max, &correct_counter, id);\n",
        "    for (auto& thread : threads)\n",
        "        thread.join();\n",
        "    TIMERSTOP(correct_max)\n",
        "\n",
        "    std::cout << false_counter << \" \"\n",
        "              << correct_counter << std::endl;\n",
        "}\n"
      ],
      "execution_count": null,
      "outputs": []
    },
    {
      "cell_type": "markdown",
      "metadata": {
        "id": "TPsonvy4c7WB"
      },
      "source": [
        "### Kompajliranje izvornog koda\n",
        "\n",
        "Pokrenite komandu u ćeliji ispod kako biste kompajlirali rešenje."
      ]
    },
    {
      "cell_type": "code",
      "metadata": {
        "id": "XzmBS4kcc7WD"
      },
      "source": [
        "%%bash\n",
        "\n",
        "cd /home/naprednicpp\n",
        "g++ hpc_helpers.hpp atomic_max.cpp -o atomic_max -pthread -std=c++11"
      ],
      "execution_count": null,
      "outputs": []
    },
    {
      "cell_type": "markdown",
      "metadata": {
        "id": "N1vo4v-ic7WE"
      },
      "source": [
        "### [Opciono] Provera da li postoji izvršna datoteka"
      ]
    },
    {
      "cell_type": "code",
      "metadata": {
        "id": "jCI1qHXMc7WE"
      },
      "source": [
        "![[ -f /home/naprednicpp/atomic_max ]] && echo \"Postoji.\" || echo \"Ne postoji.\""
      ],
      "execution_count": null,
      "outputs": []
    },
    {
      "cell_type": "markdown",
      "metadata": {
        "id": "B04PD03nc7WF"
      },
      "source": [
        "### Pokretanje rešenja"
      ]
    },
    {
      "cell_type": "code",
      "metadata": {
        "id": "1v6cZEPYc7WF"
      },
      "source": [
        "%%bash  \n",
        "\n",
        "cd /home/naprednicpp\n",
        "./atomic_max"
      ],
      "execution_count": null,
      "outputs": []
    }
  ]
}