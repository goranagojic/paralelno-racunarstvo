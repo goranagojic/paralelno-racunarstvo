{
  "nbformat": 4,
  "nbformat_minor": 0,
  "metadata": {
    "colab": {
      "name": "PR-priprema-vezbe2.ipynb",
      "private_outputs": true,
      "provenance": [],
      "collapsed_sections": [
        "JhQsUg6fmGYt",
        "YWgEVMcaKNQb"
      ],
      "include_colab_link": true
    },
    "kernelspec": {
      "name": "python3",
      "display_name": "Python 3"
    }
  },
  "cells": [
    {
      "cell_type": "markdown",
      "metadata": {
        "id": "view-in-github",
        "colab_type": "text"
      },
      "source": [
        "<a href=\"https://colab.research.google.com/github/goranagojic/paralelno-racunarstvo/blob/main/PR_priprema_vezbe2.ipynb\" target=\"_parent\"><img src=\"https://colab.research.google.com/assets/colab-badge.svg\" alt=\"Open In Colab\"/></a>"
      ]
    },
    {
      "cell_type": "markdown",
      "metadata": {
        "id": "QRofNskrippH"
      },
      "source": [
        "# Paralelno računarstvo - Priprema za vežbu 2\n",
        "\n",
        "Cilj ove pripreme je obnavljanje tema sa kojima ste u većoj ili manjoj meri imali prilike da se sretnete tokom svog dosadašnjeg školovanja, a koje su potrebne za nesmetanu realizaciju Vežbe 2. Predviđeno je da dati materijal samostalno prođete i tako se spremite za predstojeću vežbu. Materijal pokriva:\n",
        "- upoznavanje sa C++ tipovima fiksne širine\n",
        "- upoznavanje sa C++ šablon klasama\n",
        "\n",
        "Ukoliko pronađete neku nepravilnost u materijalima, molimo vas da je prijavite na adresu gorana.gojic@uns.ac.rs ili horva.n@uns.ac.rs."
      ]
    },
    {
      "cell_type": "markdown",
      "metadata": {
        "id": "JhQsUg6fmGYt"
      },
      "source": [
        "## C++ tipovi podataka fiksne širine"
      ]
    },
    {
      "cell_type": "markdown",
      "metadata": {
        "id": "4-UwNSzviywP"
      },
      "source": [
        "C++ je strogo tipiziran jezik. To znači da svako ime, odnosno identifikator u C++ programu ima pridružen tip. Mnoge od ovih tipova ste već imali prilike da koristite. U nastavku je radi podsećanja data klasifikacija tipova kako je navedena u knjizi The C++ Programming Language, četvrta edicija, tvorca C++ programskog jezika.\n",
        "\n",
        "Klasifikacija tipova podataka u C++ programskom jeziku:\n",
        "- ugrađeni tipovi podataka (eng. *built-in*)\n",
        "  - fundamentalni tipovi\n",
        "    - aritmetički tipovi\n",
        "      - integralni tipovi\n",
        "        - tip istinitosne vrednosti (eng. *boolean type*)\n",
        "        - karakter (eng. *character types*)\n",
        "        - celobrojni tipovi (eng. *integer types*)\n",
        "      - tipovi sa pokretnim zarezom (eng. *floating-point types*)\n",
        "    - `void`, odsustvo informacije\n",
        "  - pokazivački tipovi\n",
        "  - nizovni tipovi\n",
        "  - reference\n",
        "- korisnički definisani tipovi (eng. *user-defined*)\n",
        "  - strukture podataka i klase\n",
        "  - enumeracije\n",
        "\n",
        "Za vežbu 2 je od posebnog značaja celobrojni tip podataka, zbog čega će samo ovaj tip biti obnovljen u nastavku. Prema C++ standardu, za promenljive deklarisane korišćenjem tipa `int` se podrazumevano tretiraju kao označene i za njih se garantuje alokacija minimalno 16 bita. Danas je čest slučaj da na 32-bitnim i 64-bitnim arhitekturama tip `int` zauzima 32 bita. Međutim, za maksimalnu portabilnost napisanog izvornog koda, nedovoljno je promenljivu deklarisati kao `int` ukoliko programer želi da za promenljivu zauzme 32 bita. Ukoliko je bitno da se za celobrojnu promenljivu zauzme tačno određeni broj bita (kaže se *promenljiva je fiksne širine*), za to se mogu koristiti aliasi definisani u `<cstdint>` biblioteci: `int8_t`, `int16_t`, `int32_t` i `int64_t` kako bi se deklarisala celobrojna promenljiva fiksne veličine 8, 16, 32 odnosno 64 bita. Podržani su i korespodentni neoznačeni tipovi fiksne širine `uint8_t`, `uint16_t`, `uint32_t` i `uint64_t`. Tipove fiksne širine ćete koristiti tokom vežbe dva kako biste zadali dimenzije struktura nad kojima ćete raditi. U nastavku je dat primer koji ilustruje rad sa promenljivim celobrojnog tipa fiksne širine."
      ]
    },
    {
      "cell_type": "markdown",
      "metadata": {
        "id": "fFkXo5A0d0w4"
      },
      "source": [
        "### Primer: Rad sa promenljivim fiksne širine"
      ]
    },
    {
      "cell_type": "code",
      "metadata": {
        "id": "syp3I6hpVP-J"
      },
      "source": [
        "%%writefile tipovi.cpp\n",
        "\n",
        "#include <iostream>\n",
        "#include <cstdint>      // typedef int32_t, uint16_t\n",
        "\n",
        "using namespace std;\n",
        "\n",
        "\n",
        "int main() {\n",
        "    \n",
        "    int a0 = -1;       // a0 je oznacena promenljiva celobrojnog tipa minimalne \n",
        "                       // velicine 2 bajta\n",
        "    int32_t a1 = -1;   // a1 je oznacena promenljiva celobrojnog tipa velicine 4 \n",
        "                       // bajta\n",
        "    uint16_t a2 = -1;  // a2 je neoznacena promenljiva celobrojnog tipa velicine \n",
        "                       // 2 bajta\n",
        "\n",
        "    cout << \"Velicina a0: \" << sizeof(a0) << \" bajta.\" << endl;\n",
        "    cout << \"Velicina a1: \" << sizeof(a1) << \" bajta.\" << endl;\n",
        "    cout << \"Velicina a2: \" << sizeof(a2) << \" bajta.\" << endl;\n",
        "\n",
        "    cout << \"Vrednost a0: \" << a0 << endl;\n",
        "    cout << \"Vrednost a1: \" << a1 << endl;\n",
        "    cout << \"Vrednost a2: \" << a2 << endl;\n",
        "\n",
        "    return 0;\n",
        "}"
      ],
      "execution_count": null,
      "outputs": []
    },
    {
      "cell_type": "markdown",
      "metadata": {
        "id": "4O9r5d28dt_J"
      },
      "source": [
        "### Kompajliranje i pokretanje"
      ]
    },
    {
      "cell_type": "code",
      "metadata": {
        "id": "ik57ZywVW6Q-"
      },
      "source": [
        "!g++ -std=c++11 tipovi.cpp -o tipovi && ./tipovi"
      ],
      "execution_count": null,
      "outputs": []
    },
    {
      "cell_type": "markdown",
      "metadata": {
        "id": "GmFEhcI4i4vN"
      },
      "source": [
        "## C++ template klase\n",
        "\n"
      ]
    },
    {
      "cell_type": "markdown",
      "metadata": {
        "id": "9ignkb3OfnSc"
      },
      "source": [
        " Tokom kurseva Objektno programiranje i Operativni sistemi ste se imali prilike da se upoznate sa šablon (*template*) klasama. Na primer, svi STL kontejneri su implementirani kao klase šabloni, što je razlog zbog koga u STL kolekcijama možete čuvati promenljive proizvoljnog tipa podataka. Pogledajmo STL klasu `vector` koja predstavlja dinamički niz kao primer.\n",
        "\n",
        "Šablon klase se u Vežbi 2 koriste kako biste implementirali paralelne implementacije obrade složenih struktura podataka koje mogu sadržati različite tipove podataka. Stoga je cilj ove pripreme da se podsetite naučenog gradiva iz šablona kako biste ga bez problema primenili na narednim vežbama.\n",
        "\n",
        "U ostatku ovog poglavlja će biti reči o mogućim implementacijama klase `my_vector` koja implementira logiku funkcionisanja dinamičkog niza nalik klasi C++ STL klasi `vector`, ali značajno pojednostavljenu. Recimo da negde u izvornom kodu koji pišete želite da iskoristite klasu `my_vector` za čuvanje niza celih brojeva. Potpis klase bi mogao izgledati ovako:\n",
        "\n",
        "```cpp\n",
        "class my_vector {\n",
        "private:\n",
        "  int *elements_; // pokazivac na prostor alociran za cuvanje elemenata tipa int\n",
        "  int capacity;   // trenutni kapacitet vektora\n",
        "\n",
        "public:\n",
        "  my_vector();  \n",
        "  ~my_vector();\n",
        "  void push_back(int e);  // dodavanje novog elementa na kraj vektora\n",
        "                          // moze izazvati potrebu za alokacijom dodatnog prostora\n",
        "                          // i, eventualno, realokacijom postojecih elemenata\n",
        "};\n",
        "```"
      ]
    },
    {
      "cell_type": "markdown",
      "metadata": {
        "id": "ZqN1AMJchnnL"
      },
      "source": [
        "Ovako implementirana kolekcija ima ogrančenja. Objekat klase `my_vector` može da sadrži samo elemente celobrojnog tipa, jer je u deklaraciji klase ekspilicitno zadato da su elementi koji se čuvaju tipa `int`.\n",
        "\n",
        "Ukoliko bismo hteli da koristimo objekte klase `my_vector` za skladištenje više različitih tipova podataka, mogli bismo da napišemo više implementacija ove klase, po jednu za svaki različiti tip podataka. Međutim, ovaj pristup rešenju problema nije dobar jer:\n",
        "- se broj klasa naglo povećava otežavajući održavanje i\n",
        "- znatno se smanjuje portabilnost koda, jer su korisnički definisani tipovi nepoznati u trenutku implementacije konkretnih klasa.\n",
        "\n",
        "U ovakvim slučajevima kada treba implementirati zajedničku logiku za veći broj različitih tipova, koriste se *template* mehanizam C++ programskog jezika. Funkcija, odnosno klasa u C++ programskom jeziku se može parametrizovati *tipom.* Pogledajmo sada kako bi izgledala gore napisana klasa `my_vector` kada bi bila napisana kao `template` klasa, odnosno šablon klasa.\n",
        "\n",
        "```cpp\n",
        "template <typename T>\n",
        "class my_vector {\n",
        "private:\n",
        "  T *elements_;   // pokazivac na prostor alociran za cuvanje elemenata tipa T\n",
        "  int capacity;   // trenutni kapacitet vektora\n",
        "\n",
        "public:\n",
        "  my_vector<T>();  \n",
        "  ~my_vector<T>();\n",
        "  void push_back(T e);    // dodavanje novog elementa na kraj vektora\n",
        "                          // moze izazvati potrebu za alokacijom dodatnog prostora\n",
        "                          // i, eventualno, realokacijom postojecih elemenata\n",
        "};\n",
        "```"
      ]
    },
    {
      "cell_type": "markdown",
      "metadata": {
        "id": "aNXSU5bYkfiW"
      },
      "source": [
        "Ključna reč `template` se odnosi na `class my_vector` i koristi se kako bi se klasa `my_vector` proglasila za šablon klasu. Između znakova `<>` se navode tipovi kojima se klasa parametrizuje. Svakom navedenom tipu prethodi ključna reč `typename` nakon koje sledi naziv tipa. U slučaju primera šablon klase `my_vector` kao parametar je naveden samo jedan tip naziva `T`. Naziv tipa je proizvoljan i može biti bilo koji validan identifikator koji će kasnije pri inicijalizaciji biti zamenjen nekim konkretnim tipom. Ukoliko uporedite primere deklaracije klase `my_vector` kao konkrente i šablon klase, primetićete da je kod šablon klase tip `int` koji je stajao uz elemente na svim odgovarajućim mestima zamenjen tipom `T`, dok su svi ostali delovi deklaracije ostali nepromenjeni. Na ovaj način se omogućava višestruka upotreba istog izvornog koda sa različitim tipovima elemenata - u jednom slučaju tip `T` može biti zamenjen tipom `int`, u drugom slučaju tipom `float`, u trećem tipom (odnosno klasom) `Student`, itd.\n",
        "\n",
        "Objekat šablon klase se instancira navođenjem konstruktora parametrizovanog tipom i argumentima konstruktura. Tip se koristi za generisanje konkretne klase na osnovu šablona, a argumenti konstruktora, ukoliko ih ima, za inicijalizaciju samog objekta konkretne klase. Na primer:\n",
        "\n",
        "```cpp\n",
        "my_vector<int> vec_int = my_vector<int>();\n",
        "my_vector<float> vec_float = my_vector<float>();\n",
        "my_vector<Student> vec_stud = my_vector<Student>();\n",
        "```\n",
        "Među znakovima `<>` pri instanciranju objekta šablon klase se navode tipovi argumenti koji se pridružuju tipovima parametrima šablon klase. Na primer, u slučaju instanciranja objekta `vec_int`, tip argument je `int`. Kako je ovaj tip argument naveden prvi, on će odgovarati prvom tip parametru šablon klase `my_vector` što je tip koji smo imenovali kao `T`. Prilikom prevođenja dela koda u kojem se instanciraju objekti šablon klase `my_vector`, prevodilac će izgenerisati konkretnu klasu na osnovu šablon klase `my_vector` za svaki različit tip argument koji se pojavljuje u kompajliranom izvornom kodu. Drugim rečima kada naiđe na `my_vector<int>` prevodilac će napraviti novu klasu koja će svuda umesto tipa `T` imati konkretni tip `int`. Analogno, kada naiđe na `my_vector<float>` prevodilac će napraviti novu klasu koja će svuda umesto tipa `T` imati tip `float`, itd. Dakle, korišćenje šabon klase se svodi na pisanje opisa klase (odnosno šablona) na osnovu kojeg će prevodilac moći da izgeneriše sve potrebne konkretne klase koje se kasnije koriste za instanciranje objekata. "
      ]
    },
    {
      "cell_type": "markdown",
      "metadata": {
        "id": "YWgEVMcaKNQb"
      },
      "source": [
        "### Zadatak 1\n",
        "\n",
        "Implementirati šablon klasu `my_vector` koja predstavlja pojednostavljen dinamički niz nalik na C++ STL klasu `vector`. Minimalan skup funkcionalnosti koji je potrebno podržati: \n",
        "- kreiranje kolekcije,\n",
        "- dodavanje elemenata proizvoljnog tipa u kolekciju i\n",
        "- uništavanje kolekcije\n",
        "\n",
        "U nastavku je data deklaracija klase koju možete proširiti drugim potrebnim poljima i metodama."
      ]
    },
    {
      "cell_type": "code",
      "metadata": {
        "id": "rruG_jYNLX5_"
      },
      "source": [
        "%%writefile myvector.cpp\n",
        "\n",
        "template <typename T>\n",
        "class my_vector {\n",
        "private:\n",
        "  T *elements_;   // pokazivac na prostor alociran za cuvanje elemenata tipa T\n",
        "  int capacity;   // trenutni kapacitet vektora\n",
        "\n",
        "public:\n",
        "  my_vector<T>();\n",
        "  ~my_vector<T>();\n",
        "  void push_back(T e);    // dodavanje novog elementa na kraj vektora\n",
        "                          // moze izazvati potrebu za alokacijom dodatnog prostora\n",
        "                          // i, eventualno, realokacijom postojecih elemenata\n",
        "};\n",
        "\n",
        "\n",
        "int main() {\n",
        "    return 0;\n",
        "}"
      ],
      "execution_count": null,
      "outputs": []
    },
    {
      "cell_type": "markdown",
      "metadata": {
        "id": "wM7UDmMwLa7p"
      },
      "source": [
        "#### Kompajliranje i pokretanje"
      ]
    },
    {
      "cell_type": "code",
      "metadata": {
        "id": "-sakWtoYLhEW"
      },
      "source": [
        "!g++ -std=c++11 myvector.cpp -o myvector"
      ],
      "execution_count": null,
      "outputs": []
    }
  ]
}