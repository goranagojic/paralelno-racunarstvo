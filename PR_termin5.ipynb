{
  "nbformat": 4,
  "nbformat_minor": 0,
  "metadata": {
    "colab": {
      "name": "PR-termin5.ipynb",
      "private_outputs": true,
      "provenance": [],
      "collapsed_sections": [
        "K05l-EnttRC5",
        "KlzQYHrzyFzV",
        "tM7CblUFzqeC",
        "0qabcCDKzqeD",
        "nuiOJmpf3KPU",
        "TfbUE--T4FpL",
        "F8zEmc9h4FpN",
        "oZ7ZfLIk4FpQ",
        "z7n7YaEU4n1d",
        "nFhFMlRE4n1g",
        "47PxQYYo4n1j",
        "S7_O8Hg45mC-",
        "u7ge4Fc05mDA",
        "vBnyCefi5mDC",
        "n5YWxGf45mDD",
        "vocvYKI86or9",
        "SRp7ZadL6or_",
        "f-Q2qtJg6osC",
        "SHbuOMIB6osE",
        "Y_1dJSbp-gSV",
        "YbX4PTqr-gSX",
        "zBgAycRe-gSa",
        "2jVUkJNT-gSb"
      ],
      "authorship_tag": "ABX9TyNwuktB0LX+ApQgDYxCuB0F",
      "include_colab_link": true
    },
    "kernelspec": {
      "name": "python3",
      "display_name": "Python 3"
    }
  },
  "cells": [
    {
      "cell_type": "markdown",
      "metadata": {
        "id": "view-in-github",
        "colab_type": "text"
      },
      "source": [
        "<a href=\"https://colab.research.google.com/github/goranagojic/paralelno-racunarstvo/blob/main/PR_termin5.ipynb\" target=\"_parent\"><img src=\"https://colab.research.google.com/assets/colab-badge.svg\" alt=\"Open In Colab\"/></a>"
      ]
    },
    {
      "cell_type": "markdown",
      "metadata": {
        "id": "UQsQ0kfw0p6C"
      },
      "source": [
        "# Paralelno računarstvo - Vežba 5\n",
        "\n",
        "Vežba obuhvata zadatke:\n",
        "\n",
        "*    Zadatak 1 - Pravljenje niti\n",
        "*    Zadatak 2 - Sumiranje elemenata vektora - 2 niti\n",
        "*    Zadatak 3 - Kondicionalno prevođenje\n",
        "*    Zadatak 4 - Sumiranje elemenata vektora - N niti\n",
        "*    Zadatak 5 - Suma prvih N prirodnih brojeva (ispravljanje grešaka)\n",
        "*    Zadatak 6 - Mandelbrotov set (ispravljanje grešaka)"
      ]
    },
    {
      "cell_type": "markdown",
      "metadata": {
        "id": "K05l-EnttRC5"
      },
      "source": [
        "## Preduslovi\n",
        "\n",
        "Pre nego započnete implementaciju zadatka, **obavezno** izvršite kod iz ćelije ispod. Kod će:\n",
        "\n",
        "*   proveriti da li je na sistemu instalirana biblioteka `libgomp` potrebna za izvršavanje OpenMP programa i ako nije instaliraće je,\n",
        "*   napraviti direktorijum u koji će se čuvati sve izvrne i izvršne datoteke"
      ]
    },
    {
      "cell_type": "code",
      "metadata": {
        "id": "WTzffLNOwyTp"
      },
      "source": [
        "%%bash\n",
        "\n",
        "# instaliraj libgomp biblioteku ukoliko vec nije instalirana\n",
        "dpkg -l | grep libgomp1\n",
        "[[ $? -ne 0 ]] && sudo apt-get install libgomp1 || echo \"Biblioteka libgomp1 je već instalirana.\"\n",
        "\n",
        "# napravi radni direktorijum\n",
        "mkdir -p /home/openmp\n"
      ],
      "execution_count": null,
      "outputs": []
    },
    {
      "cell_type": "markdown",
      "metadata": {
        "id": "KlzQYHrzyFzV"
      },
      "source": [
        "## Zadatak 1\n",
        "\n",
        "Napisati OpenMP C++ program koji zahteva kreiranje tima od 4 niti gde svaka nit ispisuje svoj identifikator."
      ]
    },
    {
      "cell_type": "code",
      "metadata": {
        "id": "he-21Va2zJyI"
      },
      "source": [
        "%%writefile /home/openmp/pravljenjeniti.cpp\n",
        "\n",
        "#include <iostream>\n",
        "\n",
        "int main() {\n",
        "    \n",
        "    // TODO implementirati\n",
        "    \n",
        "    return 0;\n",
        "}"
      ],
      "execution_count": null,
      "outputs": []
    },
    {
      "cell_type": "markdown",
      "metadata": {
        "id": "tM7CblUFzqeC"
      },
      "source": [
        "### Kompajliranje izvornog koda\n",
        "\n",
        "Pokrenite komandu u ćeliji ispod kako biste kompajlirali rešenje."
      ]
    },
    {
      "cell_type": "code",
      "metadata": {
        "id": "dlZxGd-UzqeD"
      },
      "source": [
        "%%bash\n",
        "\n",
        "cd /home/openmp\n",
        "g++ pravljenjeniti.cpp -o pravljenjeniti -fopenmp"
      ],
      "execution_count": null,
      "outputs": []
    },
    {
      "cell_type": "markdown",
      "metadata": {
        "id": "0qabcCDKzqeD"
      },
      "source": [
        "### [Opciono] Provera da li postoji izvršna datoteka"
      ]
    },
    {
      "cell_type": "code",
      "metadata": {
        "id": "tNDMN6w6zqeE"
      },
      "source": [
        "![[ -f /home/openmp/pravljenjeniti ]] && echo \"Postoji.\" || echo \"Ne postoji.\""
      ],
      "execution_count": null,
      "outputs": []
    },
    {
      "cell_type": "markdown",
      "metadata": {
        "id": "YdVJP7pmzqeF"
      },
      "source": [
        "### Pokretanje rešenja"
      ]
    },
    {
      "cell_type": "code",
      "metadata": {
        "id": "Tr0JjTYezqeF"
      },
      "source": [
        "%%bash\n",
        "\n",
        "cd /home/openmp\n",
        "./pravljenjeniti"
      ],
      "execution_count": null,
      "outputs": []
    },
    {
      "cell_type": "markdown",
      "metadata": {
        "id": "nuiOJmpf3KPU"
      },
      "source": [
        "## Zadatak 2\n",
        "\n",
        "Modifikovati dati sekencijalni C++ program za sumiranje elemenata niza tako da se račun podeli ravnomerno na dve niti."
      ]
    },
    {
      "cell_type": "code",
      "metadata": {
        "id": "l6refK823KPV"
      },
      "source": [
        "%%writefile /home/openmp/sumavektora.cpp\n",
        "\n",
        "#include <iostream>\n",
        "#include <vector>\n",
        "\n",
        "using namespace std;\n",
        "\n",
        "int main() {\n",
        "\n",
        "    vector<int> brojevi = { 1, 2, 3, 4, 5, 6 };\n",
        "\n",
        "    int suma = 0;\n",
        "    for (auto it = brojevi.begin(); it != brojevi.end(); it++) \n",
        "        suma += *it;\n",
        "\n",
        "    cout << \"Suma brojeva u nizu je \" << suma << endl;\n",
        "\n",
        "    return 0;\n",
        "}"
      ],
      "execution_count": null,
      "outputs": []
    },
    {
      "cell_type": "markdown",
      "metadata": {
        "id": "XTPmVh9k3KPW"
      },
      "source": [
        "### Kompajliranje izvornog koda\n",
        "\n",
        "Pokrenite komandu u ćeliji ispod kako biste kompajlirali rešenje."
      ]
    },
    {
      "cell_type": "code",
      "metadata": {
        "id": "hf6YqZ-33KPX"
      },
      "source": [
        "%%bash\n",
        "\n",
        "cd /home/openmp\n",
        "g++ sumavektora.cpp -o sumavektora -fopenmp"
      ],
      "execution_count": null,
      "outputs": []
    },
    {
      "cell_type": "markdown",
      "metadata": {
        "id": "rI1ASJQT3KPX"
      },
      "source": [
        "### [Opciono] Provera da li postoji izvršna datoteka"
      ]
    },
    {
      "cell_type": "code",
      "metadata": {
        "id": "lPgDanbS3KPY"
      },
      "source": [
        "![[ -f /home/openmp/sumavektora ]] && echo \"Postoji.\" || echo \"Ne postoji.\""
      ],
      "execution_count": null,
      "outputs": []
    },
    {
      "cell_type": "markdown",
      "metadata": {
        "id": "FjhcS64I3KPZ"
      },
      "source": [
        "### Pokretanje rešenja"
      ]
    },
    {
      "cell_type": "code",
      "metadata": {
        "id": "FXrkJBAq3KPa"
      },
      "source": [
        "%%bash\n",
        "\n",
        "cd /home/openmp\n",
        "./sumavektora"
      ],
      "execution_count": null,
      "outputs": []
    },
    {
      "cell_type": "markdown",
      "metadata": {
        "id": "TfbUE--T4FpL"
      },
      "source": [
        "## Zadatak 3\n",
        "\n",
        "Modifikovati rešenje zadatka 2 tako da ga je moguće prevesti u sekvencijalni ili paralelni program. U ćeliju ispod prekopirati rešenje zadatka 2 i modifikovati ga."
      ]
    },
    {
      "cell_type": "code",
      "metadata": {
        "id": "mO-VJ-134FpM"
      },
      "source": [
        "%%writefile /home/openmp/sumavektorakond.cpp\n",
        "\n",
        "#include <iostream>\n",
        "#include <vector>\n",
        "\n",
        "using namespace std;\n",
        "\n",
        "int main() {\n",
        "\n",
        "    // TODO prekopirati rešenje zadatka 2\n",
        "\n",
        "    return 0;\n",
        "}"
      ],
      "execution_count": null,
      "outputs": []
    },
    {
      "cell_type": "markdown",
      "metadata": {
        "id": "F8zEmc9h4FpN"
      },
      "source": [
        "### Kompajliranje izvornog koda\n",
        "\n",
        "Pokrenite komandu u ćeliji ispod kako biste kompajlirali rešenje."
      ]
    },
    {
      "cell_type": "code",
      "metadata": {
        "id": "ufJPUVYo4FpP"
      },
      "source": [
        "%%bash\n",
        "\n",
        "cd /home/openmp\n",
        "g++ sumavektorakond.cpp -o sumavektorakond -fopenmp"
      ],
      "execution_count": null,
      "outputs": []
    },
    {
      "cell_type": "markdown",
      "metadata": {
        "id": "oZ7ZfLIk4FpQ"
      },
      "source": [
        "### [Opciono] Provera da li postoji izvršna datoteka"
      ]
    },
    {
      "cell_type": "code",
      "metadata": {
        "id": "KHVXPzZD4FpQ"
      },
      "source": [
        "![[ -f /home/openmp/sumavektorakond ]] && echo \"Postoji.\" || echo \"Ne postoji.\""
      ],
      "execution_count": null,
      "outputs": []
    },
    {
      "cell_type": "markdown",
      "metadata": {
        "id": "xESYLoEM4FpR"
      },
      "source": [
        "### Pokretanje rešenja"
      ]
    },
    {
      "cell_type": "code",
      "metadata": {
        "id": "pNRBGK7O4FpR"
      },
      "source": [
        "%%bash\n",
        "\n",
        "cd /home/openmp\n",
        "./sumavektorakond"
      ],
      "execution_count": null,
      "outputs": []
    },
    {
      "cell_type": "markdown",
      "metadata": {
        "id": "z7n7YaEU4n1d"
      },
      "source": [
        "## Zadatak 4\n",
        "\n",
        "Napisati C++ program za sumiranje elemenata niza tako da se račun podeli ravnomerno na N niti gde važi $1 \\leq N \\leq 16$. Smatrati da je dužina niza uvek veća ili jednaka maksimalnom zadatom broju niti. U nastavku je data sekvencijalna implementacija računanja sume elemenata vektora."
      ]
    },
    {
      "cell_type": "code",
      "metadata": {
        "id": "2Wmoe4D04n1f"
      },
      "source": [
        "%%writefile /home/openmp/sumavektoran.cpp\n",
        "\n",
        "#include <iostream>\n",
        "#include <vector>\n",
        "\n",
        "using namespace std;\n",
        "\n",
        "int main() {\n",
        "\n",
        "    vector<int> brojevi = { 1, 2, 3, 4, 5, 6 };\n",
        "\n",
        "    int suma = 0;\n",
        "    for (auto it = brojevi.begin(); it != brojevi.end(); it++) \n",
        "        suma += *it;\n",
        "\n",
        "    cout << \"Suma brojeva u nizu je \" << suma << endl;\n",
        "\n",
        "    return 0;\n",
        "}"
      ],
      "execution_count": null,
      "outputs": []
    },
    {
      "cell_type": "markdown",
      "metadata": {
        "id": "nFhFMlRE4n1g"
      },
      "source": [
        "### Kompajliranje izvornog koda\n",
        "\n",
        "Pokrenite komandu u ćeliji ispod kako biste kompajlirali rešenje."
      ]
    },
    {
      "cell_type": "code",
      "metadata": {
        "id": "aAJhuZaJ4n1h"
      },
      "source": [
        "%%bash\n",
        "\n",
        "cd /home/openmp\n",
        "g++ sumavektoran.cpp -o sumavektoran -fopenmp"
      ],
      "execution_count": null,
      "outputs": []
    },
    {
      "cell_type": "markdown",
      "metadata": {
        "id": "47PxQYYo4n1j"
      },
      "source": [
        "### [Opciono] Provera da li postoji izvršna datoteka"
      ]
    },
    {
      "cell_type": "code",
      "metadata": {
        "id": "Wg-81MMw4n1j"
      },
      "source": [
        "![[ -f /home/openmp/sumavektoran ]] && echo \"Postoji.\" || echo \"Ne postoji.\""
      ],
      "execution_count": null,
      "outputs": []
    },
    {
      "cell_type": "markdown",
      "metadata": {
        "id": "zKrxRG9P4n1k"
      },
      "source": [
        "### Pokretanje rešenja"
      ]
    },
    {
      "cell_type": "code",
      "metadata": {
        "id": "7wERf14T4n1l"
      },
      "source": [
        "%%bash\n",
        "\n",
        "cd /home/openmp\n",
        "./sumavektoran"
      ],
      "execution_count": null,
      "outputs": []
    },
    {
      "cell_type": "markdown",
      "metadata": {
        "id": "vocvYKI86or9"
      },
      "source": [
        "## Zadatak 5\n",
        "\n",
        "Ispraviti rešenje dato rešenje koristeći odgovarajuće OpenMP mehanizme za rad sa podacima."
      ]
    },
    {
      "cell_type": "code",
      "metadata": {
        "id": "pp_rmMi96or_"
      },
      "source": [
        "%%writefile /home/openmp/prvihpet.cpp\n",
        "\n",
        "#include <iostream>\n",
        "#include <omp.h>\n",
        "\n",
        "using namespace std;\n",
        "\n",
        "int main() {\n",
        "\n",
        "    int proizvod = 1;\n",
        "\n",
        "    #pragma omp parallel for\n",
        "    for (int i = 1; i <= 5; i++)\n",
        "        proizvod *= i;\n",
        "\n",
        "    cout << \"Proizvod prvih pet elemenata je \" << proizvod;\n",
        "    cout << \", a treba da bude 120.\" << endl;\n",
        "\n",
        "    return 0;\n",
        "}"
      ],
      "execution_count": null,
      "outputs": []
    },
    {
      "cell_type": "markdown",
      "metadata": {
        "id": "SRp7ZadL6or_"
      },
      "source": [
        "### Kompajliranje izvornog koda\n",
        "\n",
        "Pokrenite komandu u ćeliji ispod kako biste kompajlirali rešenje."
      ]
    },
    {
      "cell_type": "code",
      "metadata": {
        "id": "kjMo32xD6osB"
      },
      "source": [
        "%%bash\n",
        "\n",
        "cd /home/openmp\n",
        "g++ prvihpet.cpp -o prvihpet -fopenmp"
      ],
      "execution_count": null,
      "outputs": []
    },
    {
      "cell_type": "markdown",
      "metadata": {
        "id": "f-Q2qtJg6osC"
      },
      "source": [
        "### [Opciono] Provera da li postoji izvršna datoteka"
      ]
    },
    {
      "cell_type": "code",
      "metadata": {
        "id": "LhRM9wgZ6osD"
      },
      "source": [
        "![[ -f /home/openmp/prvihpet ]] && echo \"Postoji.\" || echo \"Ne postoji.\""
      ],
      "execution_count": null,
      "outputs": []
    },
    {
      "cell_type": "markdown",
      "metadata": {
        "id": "SHbuOMIB6osE"
      },
      "source": [
        "### Pokretanje rešenja"
      ]
    },
    {
      "cell_type": "code",
      "metadata": {
        "id": "fy51_ix76osE"
      },
      "source": [
        "%%bash\n",
        "\n",
        "cd /home/openmp\n",
        "OMP_NUM_THREADS=4 ./prvihpet"
      ],
      "execution_count": null,
      "outputs": []
    },
    {
      "cell_type": "markdown",
      "metadata": {
        "id": "Y_1dJSbp-gSV"
      },
      "source": [
        "## Zadatak 6\n",
        "\n",
        "Data je OpenMP paralelizovana implementacija algoritma za računanje Mandelbrotovog seta. Nakon paralelizacije, impelemntacija daje netačan rezultat usled štatnog preplitanja nastalog greškama u radu s promenljivim. Pronaći i ispraviti greške."
      ]
    },
    {
      "cell_type": "code",
      "metadata": {
        "id": "j11qlkjU-gSX"
      },
      "source": [
        "%%writefile /home/openmp/mandelbrot.cpp\n",
        "\n",
        "/**\n",
        " * OpenMP paralelizovan Mandelbrotov algoritam. Program ne daje ispravne rezultate\n",
        " * zbog stetnog preplitanja koje se pojavljuje u njemu. Pronaci i otkloniti greske koje\n",
        " * su uzrok stetnom preplitanju. Ocekivani izlaz ispravnog programa za promenljivu area\n",
        " * je oko 1.512, dok je ocekivani izlaz za promenljivu error oko 0.0052.\n",
        " * \n",
        " * Smernice:\n",
        " *  - Proveriti da li vrednosti promenljivih zadatih u zadatku utice na rezultat (npr.\n",
        " *  promena vrednosti promenljive eps).\n",
        " *  - Videti kako promena broja niti utice na tacnost rezultata. Pokrenuti program iz \n",
        " *  terminala sa OMP_NUM_THREADS=1 && ./a.out. Izmeniti vrednosti zadate za broj niti\n",
        " *  i naziv izvrsne datoteke tako da odgovaraju zadatku.\n",
        " *  - Videti kako vise pokretanja iste izvrsne datoteke sa fiksiranim brojem niti utice\n",
        " *  na rezultat.\n",
        " */\n",
        "\n",
        "#include <iostream>\n",
        "#include <omp.h>\n",
        "\n",
        "#define NPOINTS 1000\n",
        "#define MXITR 1000\n",
        "\n",
        "void testpoint(void);\n",
        "struct d_complex {\n",
        "    double r; double i;\n",
        "};\n",
        "struct d_complex c;\n",
        "int numoutside = 0;\n",
        "\n",
        "int main(){\n",
        "    int i, j;\n",
        "    double area, error, eps = 1.0e-5;\n",
        "    #pragma omp parallel for default(shared) private(c, eps)\n",
        "    for (i = 0; i < NPOINTS; i++) {\n",
        "        for (j = 0; j < NPOINTS; j++) {\n",
        "            c.r = -2.0 + 2.5 * (double)(i) / (double)(NPOINTS) + eps;\n",
        "            c.i = 1.125 * (double)(j) / (double)(NPOINTS) + eps;\n",
        "            testpoint();\n",
        "        }\n",
        "    }\n",
        "    area = 2.0 * 2.5 * 1.125 * (double)(NPOINTS*NPOINTS-numoutside) / (double)(NPOINTS*NPOINTS);\n",
        "    error = area / (double)NPOINTS;\n",
        "\n",
        "    std::cout << \"area = \" << area << std::endl;\n",
        "    std::cout << \"error = \" << error << std::endl;\n",
        "\n",
        "    return 0;\n",
        "}\n",
        "\n",
        "void testpoint(void){\n",
        "    struct d_complex z;\n",
        "    int iter;\n",
        "    double temp;\n",
        "    z = c;\n",
        "    for (iter = 0; iter < MXITR; iter++){\n",
        "        temp = (z.r * z.r) - (z.i * z.i) + c.r;\n",
        "        z.i = z.r * z.i * 2 + c.i;\n",
        "        z.r = temp;\n",
        "        if ((z.r * z.r + z.i * z.i) > 4.0) {\n",
        "            numoutside++;\n",
        "            break;\n",
        "        }\n",
        "    }\n",
        "}"
      ],
      "execution_count": null,
      "outputs": []
    },
    {
      "cell_type": "markdown",
      "metadata": {
        "id": "YbX4PTqr-gSX"
      },
      "source": [
        "### Kompajliranje izvornog koda\n",
        "\n",
        "Pokrenite komandu u ćeliji ispod kako biste kompajlirali rešenje."
      ]
    },
    {
      "cell_type": "code",
      "metadata": {
        "id": "wvvQf_F0-gSZ"
      },
      "source": [
        "%%bash\n",
        "\n",
        "cd /home/openmp\n",
        "g++ mandelbrot.cpp -o mandelbrot -fopenmp"
      ],
      "execution_count": null,
      "outputs": []
    },
    {
      "cell_type": "markdown",
      "metadata": {
        "id": "zBgAycRe-gSa"
      },
      "source": [
        "### [Opciono] Provera da li postoji izvršna datoteka"
      ]
    },
    {
      "cell_type": "code",
      "metadata": {
        "id": "EG2lnFfV-gSa"
      },
      "source": [
        "![[ -f /home/openmp/mandelbrot ]] && echo \"Postoji.\" || echo \"Ne postoji.\""
      ],
      "execution_count": null,
      "outputs": []
    },
    {
      "cell_type": "markdown",
      "metadata": {
        "id": "2jVUkJNT-gSb"
      },
      "source": [
        "### Pokretanje rešenja\n",
        "\n",
        "Izlaz ispravljenog rešenja treba da bude približno 1,512 za promeljivu `area`, odnosno 0,0052 za promenljivu `error`."
      ]
    },
    {
      "cell_type": "code",
      "metadata": {
        "id": "hTGFBRaV-gSb"
      },
      "source": [
        "%%bash\n",
        "\n",
        "cd /home/openmp\n",
        "OMP_NUM_THREADS=4 ./mandelbrot"
      ],
      "execution_count": null,
      "outputs": []
    }
  ]
}