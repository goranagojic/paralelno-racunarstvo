{
  "nbformat": 4,
  "nbformat_minor": 0,
  "metadata": {
    "colab": {
      "name": "PR-termin9.ipynb",
      "private_outputs": true,
      "provenance": [],
      "collapsed_sections": [
        "gFj-N8EX38l9",
        "Vya2EkAHtkvh",
        "oQDu-FomFDp5",
        "6uYvXKXZFT32",
        "wizdBJnPaV5i",
        "q5dNRxXVLOq4",
        "K-pw3gXIt0SU",
        "I_Wz7xIRippO",
        "U9k8bO0uippQ",
        "FLY2CotgippR",
        "8nnD3dTaippS",
        "FgQVr9N-ippU"
      ],
      "authorship_tag": "ABX9TyPtzeB66UoJjI1PBV0/Lm8t",
      "include_colab_link": true
    },
    "kernelspec": {
      "name": "python3",
      "display_name": "Python 3"
    },
    "accelerator": "GPU"
  },
  "cells": [
    {
      "cell_type": "markdown",
      "metadata": {
        "id": "view-in-github",
        "colab_type": "text"
      },
      "source": [
        "<a href=\"https://colab.research.google.com/github/goranagojic/paralelno-racunarstvo/blob/main/PR_termin9.ipynb\" target=\"_parent\"><img src=\"https://colab.research.google.com/assets/colab-badge.svg\" alt=\"Open In Colab\"/></a>"
      ]
    },
    {
      "cell_type": "markdown",
      "metadata": {
        "id": "2Eem6u193EwU"
      },
      "source": [
        "# Paralelno računarstvo - Vežba 9\n",
        "\n",
        " Vežba obuhvata zadatke:\n",
        "1.   Zadatak 1 - Množenje nekvadratnih matrica\n",
        "2.   Zadatak 2 - Množenje kvadratnih matrica algoritmom popločavanja\n"
      ]
    },
    {
      "cell_type": "markdown",
      "metadata": {
        "id": "gFj-N8EX38l9"
      },
      "source": [
        "## Preduslovi\n",
        "Pre nego započnete implementaciju zadataka, **obavezno** izvršite kod iz ćelije ispod. Kod će:\n",
        "- skinuti kompresovanu biblioteku `libwb` koja se koristi u zadacima i raspakovati je na putanju /usr/local/libwb.\n",
        "- skinuti set podataka za testiranje rešenja zadatka i raspakovati ga na putanju /home/cuda"
      ]
    },
    {
      "cell_type": "code",
      "metadata": {
        "id": "PVEkPwGz25bY"
      },
      "source": [
        "%%bash\n",
        "\n",
        "######################### PREUZMI I PODESI libwb ##############################\n",
        "# preuzmi libwb.zip ako već nije preuzet\n",
        "[[ -f libwb.zip ]] || wget -O libwb.zip \"https://drive.google.com/u/0/uc?id=1-j31qXJJOBFKuNc4qzTjTU-Gji8HARh0&export=download\"\n",
        "\n",
        "# otpakuj\n",
        "unzip -oqqd /usr/local libwb.zip\n",
        "\n",
        "\n",
        "################### PREUZMI I PODESI set za testiranje ########################\n",
        "# preuzmi dataset.zip ako vec nije preuzet\n",
        "[[ -f dataset.zip ]] || wget -O dataset.zip \"https://drive.google.com/u/0/uc?id=18-BKvnKlhiW2Mx4eYtTEm-C9TcSU9doY&export=download\"\n",
        "\n",
        "# otpakuj u direktorijum u kojem ce se nalaziti izvrsna datoteka resenja\n",
        "mkdir -p /home/cuda/\n",
        "unzip -oqqd /home/cuda/ dataset.zip"
      ],
      "execution_count": null,
      "outputs": []
    },
    {
      "cell_type": "markdown",
      "metadata": {
        "id": "lJLBa51Oa_G_"
      },
      "source": [
        "Po završetku prethodne ćelije, možete pokrenuti narednu koja proverava da li `libwb` i `dataset` direktorijumi postoje na predviđenim putanjama. Ukoliko je sve u redu, obe naredbe će ispisati absolutne putanje do direktorijuma. U suprotnom će prijaviti da jedan ili oba direktorijuma nisu pronađena. U tom slučaju treba da se vratite na log prethodne ćelije i potražite gde je došlo do greške."
      ]
    },
    {
      "cell_type": "code",
      "metadata": {
        "id": "w_aHE_e9OxSf"
      },
      "source": [
        "!ls -d /usr/local/libwb/\n",
        "!ls -d /home/cuda/"
      ],
      "execution_count": null,
      "outputs": []
    },
    {
      "cell_type": "markdown",
      "metadata": {
        "id": "Vya2EkAHtkvh"
      },
      "source": [
        "## [Opciono] Deinstalacija preduslova\n",
        "Izvršavanjem ćelije ispod brišete instaliranu biblioteku `libwb` i set podataka. Izvršite ovu ćeliju samo ako želite da resetujete instalaciju kako biste reinstalirali preduslove."
      ]
    },
    {
      "cell_type": "code",
      "metadata": {
        "id": "SWwYDR0jHDrI"
      },
      "source": [
        "%%bash\n",
        "\n",
        "# obrisi libwb biblioteku\n",
        "[[ -d /usr/local/libwb ]] && rm -r /usr/local/libwb/ && echo \"Obrisana libwb biblioteka.\"\n",
        "[[ -f libwb.zip ]] && rm libwb.zip && echo \"Obrisana libwb.zip arhiva.\"\n",
        "\n",
        "# obrisi set podataka za testiranje\n",
        "[[ -d /home/cuda/dataset ]] && rm -r /home/cuda/dataset && echo \"Obrisan set podataka.\"\n",
        "[[ -f dataset.zip ]] && rm dataset.zip && echo \"Obrisana dataset.zip arhiva.\""
      ],
      "execution_count": null,
      "outputs": []
    },
    {
      "cell_type": "markdown",
      "metadata": {
        "id": "oQDu-FomFDp5"
      },
      "source": [
        "## Zadatak 1 - Množenje nekvadratnih matrica\n",
        "Implementirati osnovni algoritam za množenje dve nekvadratne matrice.\n",
        "\n",
        "Dopuniti zadatu postavku zadatka implementacijom nedostajućih delova\n",
        "koda. Celokupno rešenje treba da se nađe u ćeliji ispod. Implementirati:\n",
        "-   postaviti promenljive `numCRows`, `numCColumns` na odgovarajuće\n",
        "    dimenzije korišćenjem promenljivih dimenzija ulaznih matrica `A` i\n",
        "    `B` (`numARows`, `numAColumns`, `numBRows`, `numBColumns`),\n",
        "-   alocirati memoriju domaćina za matricu `C`,\n",
        "-   alokaciju memorije na uređaju,\n",
        "-   kopiranje podataka iz memorije domaćina u memoriju uređaja,\n",
        "-   inicijalizaciju dimenzija mreže i bloka,\n",
        "-   poziv kernela,\n",
        "-   kopiranje podataka sa memorije uređaja u memoriju domaćina i\n",
        "-   dealokaciju memorije uređaja,\n",
        "-   kernel za množenje nekvadratnih matrica"
      ]
    },
    {
      "cell_type": "code",
      "metadata": {
        "id": "2X6bDzuZDKFt"
      },
      "source": [
        "%%writefile /home/cuda/matrix_multiplication.cu\n",
        "\n",
        "#include <wb.h>\n",
        "\n",
        "#define wbCheck(stmt)                                                     \\\n",
        "  do {                                                                    \\\n",
        "    cudaError_t err = stmt;                                               \\\n",
        "    if (err != cudaSuccess) {                                             \\\n",
        "      wbLog(ERROR, \"Failed to run stmt \", #stmt);                         \\\n",
        "      wbLog(ERROR, \"Got CUDA error ...  \", cudaGetErrorString(err));      \\\n",
        "      return -1;                                                          \\\n",
        "    }                                                                     \\\n",
        "  } while (0)\n",
        "\n",
        "// Compute C = A * B\n",
        "__global__ void matrixMultiply(float *A, float *B, float *C, int numARows,\n",
        "                               int numAColumns, int numBRows,\n",
        "                               int numBColumns, int numCRows,\n",
        "                               int numCColumns) {\n",
        "  //@@ Insert code to implement matrix multiplication here\n",
        "}\n",
        "\n",
        "int main(int argc, char **argv) {\n",
        "\n",
        "  wbArg_t args;\n",
        "  float *hostA; // The A matrix\n",
        "  float *hostB; // The B matrix\n",
        "  float *hostC; // The output C matrix\n",
        "  float *deviceA;\n",
        "  float *deviceB;\n",
        "  float *deviceC;\n",
        "  int numARows;    // number of rows in the matrix A\n",
        "  int numAColumns; // number of columns in the matrix A\n",
        "  int numBRows;    // number of rows in the matrix B\n",
        "  int numBColumns; // number of columns in the matrix B\n",
        "  int numCRows;    // number of rows in the matrix C (you have to set this)\n",
        "  int numCColumns; // number of columns in the matrix C (you have to set\n",
        "                   // this)\n",
        "\n",
        "  args = wbArg_read(argc, argv);\n",
        "\n",
        "  wbTime_start(Generic, \"Importing data and creating memory on host\");\n",
        "  hostA = (float *)wbImport(wbArg_getInputFile(args, 0), &numARows,\n",
        "                            &numAColumns);\n",
        "  hostB = (float *)wbImport(wbArg_getInputFile(args, 1), &numBRows,\n",
        "                            &numBColumns);\n",
        "  //@@ Set numCRows and numCColumns\n",
        "  numCRows    = 0;\n",
        "  numCColumns = 0;\n",
        "  //@@ Allocate the hostC matrix\n",
        "  wbTime_stop(Generic, \"Importing data and creating memory on host\");\n",
        "\n",
        "  wbLog(TRACE, \"The dimensions of A are \", numARows, \" x \", numAColumns);\n",
        "  wbLog(TRACE, \"The dimensions of B are \", numBRows, \" x \", numBColumns);\n",
        "\n",
        "  wbTime_start(GPU, \"Allocating GPU memory.\");\n",
        "  //@@ Allocate GPU memory here\n",
        "\n",
        "  wbTime_stop(GPU, \"Allocating GPU memory.\");\n",
        "\n",
        "  wbTime_start(GPU, \"Copying input memory to the GPU.\");\n",
        "  //@@ Copy memory to the GPU here\n",
        "\n",
        "  wbTime_stop(GPU, \"Copying input memory to the GPU.\");\n",
        "\n",
        "  //@@ Initialize the grid and block dimensions here\n",
        "\n",
        "  wbTime_start(Compute, \"Performing CUDA computation\");\n",
        "  //@@ Launch the GPU Kernel here\n",
        "\n",
        "  cudaDeviceSynchronize();\n",
        "  wbTime_stop(Compute, \"Performing CUDA computation\");\n",
        "\n",
        "  wbTime_start(Copy, \"Copying output memory to the CPU\");\n",
        "  //@@ Copy the GPU memory back to the CPU here\n",
        "\n",
        "  wbTime_stop(Copy, \"Copying output memory to the CPU\");\n",
        "\n",
        "  wbTime_start(GPU, \"Freeing GPU Memory\");\n",
        "  //@@ Free the GPU memory here\n",
        "\n",
        "  wbTime_stop(GPU, \"Freeing GPU Memory\");\n",
        "\n",
        "  wbSolution(args, hostC, numCRows, numCColumns);\n",
        "\n",
        "  //free(hostA);\n",
        "  //free(hostB);\n",
        "  //free(hostC);\n",
        "\n",
        "  return 0;\n",
        "}"
      ],
      "execution_count": null,
      "outputs": []
    },
    {
      "cell_type": "markdown",
      "metadata": {
        "id": "6uYvXKXZFT32"
      },
      "source": [
        "### Kompajliranje izvornog koda\n",
        "Pokrenite komandu u ćeliji ispod kako biste kompajlirali rešenje."
      ]
    },
    {
      "cell_type": "code",
      "metadata": {
        "id": "ujWtOj9BFajn"
      },
      "source": [
        "%%bash\n",
        "\n",
        "cd /home/cuda\n",
        "nvcc matrix_multiplication.cu -o matrix_multiplication \\\n",
        "  -I /usr/local/libwb/ \\\n",
        "  -L /usr/local/libwb/lib \\\n",
        "  -lwb -lcuda"
      ],
      "execution_count": null,
      "outputs": []
    },
    {
      "cell_type": "markdown",
      "metadata": {
        "id": "wizdBJnPaV5i"
      },
      "source": [
        "### [Opciono] Provera da li postoji izvrsna datoteka"
      ]
    },
    {
      "cell_type": "code",
      "metadata": {
        "id": "GdAa1y79aiBz"
      },
      "source": [
        "![[ -f /home/cuda/matrix_multiplication ]] && echo \"Postoji.\" || echo \"Ne postoji.\" "
      ],
      "execution_count": null,
      "outputs": []
    },
    {
      "cell_type": "markdown",
      "metadata": {
        "id": "q5dNRxXVLOq4"
      },
      "source": [
        "### Pokretanje rešenja nad jednim primerom\n",
        "\n",
        "Pri pokretanju izvršnog koda dobijenog kompajliranjem postavke ćete dobiti grešku `Attempt to free invalid pointer`. Ovo je očekivano ponašanje jer prostor za nizove `hostA`, `hostB` i `hostC` nije alociran."
      ]
    },
    {
      "cell_type": "code",
      "metadata": {
        "id": "MIkaiOQcGYQa"
      },
      "source": [
        "%%bash\n",
        "\n",
        "cd /home/cuda\n",
        "LD_LIBRARY_PATH=\"/usr/local/libwb/lib:$LD_LIBRARY_PATH\" ./matrix_multiplication \\\n",
        "      -i dataset/0/input0.raw,dataset/0/input1.raw \\\n",
        "      -o output.raw -e dataset/0/output.raw \\\n",
        "      -t matrix"
      ],
      "execution_count": null,
      "outputs": []
    },
    {
      "cell_type": "markdown",
      "metadata": {
        "id": "K-pw3gXIt0SU"
      },
      "source": [
        "### Pokretanje rešenja nad svim primerima\n",
        "\n",
        "Nakon uspešnog testiranja rešenja na jednom primeru, možete pokrenuti i testiranje rešenja na svim primerima iz seta podataka."
      ]
    },
    {
      "cell_type": "code",
      "metadata": {
        "id": "5EAmNOOtt1iI"
      },
      "source": [
        "%%bash\n",
        "\n",
        "cd /home/cuda\n",
        "\n",
        "n=$(ls -dl dataset/* | wc -l)\n",
        "\n",
        "for (( i=0; i<$n; i=i+1 ))\n",
        "do\n",
        "  echo \"Testiram primer $i.\"\n",
        "  echo \"-------------------\"\n",
        "  LD_LIBRARY_PATH=\"/usr/local/libwb/lib:$LD_LIBRARY_PATH\" ./matrix_multiplication \\\n",
        "      -i dataset/$i/input0.raw,dataset/$i/input1.raw \\\n",
        "      -o output.raw -e dataset/$i/output.raw \\\n",
        "      -t matrix\n",
        "  echo \"\"\n",
        "done"
      ],
      "execution_count": null,
      "outputs": []
    },
    {
      "cell_type": "markdown",
      "metadata": {
        "id": "I_Wz7xIRippO"
      },
      "source": [
        "## Zadatak 2 - Množenje kvadratnih matrica algoritmom popločavanja\n",
        "\n",
        "Implementirati algoritam za množenje dve kvadratne matrice tehnikom\n",
        "popločavanja.\n",
        "\n",
        "Dopuniti zadatu postavku zadatka implementacijom nedostajućih delova\n",
        "koda. Implementirati:\n",
        "\n",
        "-   postaviti promenljive `numCRows`, `numCColumns` na odgovarajuće dimenzije korišćenjem promenljivih dimenzija ulaznih matrica `A` i `B` (`numARows`, `numAColumns`, `numBRows`, `numBColumns`),\n",
        "-   alocirati memoriju domaćina za matricu `C`,\n",
        "-   alokaciju memorije na uređaju,\n",
        "-   kopiranje podataka iz memorije domaćina u memoriju uređaja,\n",
        "-   inicijalizaciju dimenzija mreže i bloka,\n",
        "-   poziv kernela,\n",
        "-   kopiranje podataka sa memorije uređaja u memoriju domaćina i\n",
        "-   dealokaciju memorije uređaja,\n",
        "-   kernel za množenje kvadratnih matrica korišćenjem deljene memorije i tehnike popločavanja"
      ]
    },
    {
      "cell_type": "code",
      "metadata": {
        "id": "KP0t8V-2ippQ"
      },
      "source": [
        "%%writefile /home/cuda/matrix_multiplication_tiled.cu\n",
        "\n",
        "#include <wb.h>\n",
        "\n",
        "#define wbCheck(stmt)                                                     \\\n",
        "  do {                                                                    \\\n",
        "    cudaError_t err = stmt;                                               \\\n",
        "    if (err != cudaSuccess) {                                             \\\n",
        "      wbLog(ERROR, \"Failed to run stmt \", #stmt);                         \\\n",
        "      wbLog(ERROR, \"Got CUDA error ...  \", cudaGetErrorString(err));      \\\n",
        "      return -1;                                                          \\\n",
        "    }                                                                     \\\n",
        "  } while (0)\n",
        "\n",
        "// Compute C = A * B\n",
        "__global__ void matrixMultiply(float *A, float *B, float *C, int numARows,\n",
        "                               int numAColumns, int numBRows,\n",
        "                               int numBColumns, int numCRows,\n",
        "                               int numCColumns) {\n",
        "  //@@ Insert code to implement matrix multiplication here\n",
        "}\n",
        "\n",
        "int main(int argc, char **argv) {\n",
        "\n",
        "  wbArg_t args;\n",
        "  float *hostA; // The A matrix\n",
        "  float *hostB; // The B matrix\n",
        "  float *hostC; // The output C matrix\n",
        "  float *deviceA;\n",
        "  float *deviceB;\n",
        "  float *deviceC;\n",
        "  int numARows;    // number of rows in the matrix A\n",
        "  int numAColumns; // number of columns in the matrix A\n",
        "  int numBRows;    // number of rows in the matrix B\n",
        "  int numBColumns; // number of columns in the matrix B\n",
        "  int numCRows;    // number of rows in the matrix C (you have to set this)\n",
        "  int numCColumns; // number of columns in the matrix C (you have to set\n",
        "                   // this)\n",
        "\n",
        "  args = wbArg_read(argc, argv);\n",
        "\n",
        "  wbTime_start(Generic, \"Importing data and creating memory on host\");\n",
        "  hostA = (float *)wbImport(wbArg_getInputFile(args, 0), &numARows,\n",
        "                            &numAColumns);\n",
        "  hostB = (float *)wbImport(wbArg_getInputFile(args, 1), &numBRows,\n",
        "                            &numBColumns);\n",
        "  //@@ Set numCRows and numCColumns\n",
        "  numCRows    = 0;\n",
        "  numCColumns = 0;\n",
        "  //@@ Allocate the hostC matrix\n",
        "  wbTime_stop(Generic, \"Importing data and creating memory on host\");\n",
        "\n",
        "  wbLog(TRACE, \"The dimensions of A are \", numARows, \" x \", numAColumns);\n",
        "  wbLog(TRACE, \"The dimensions of B are \", numBRows, \" x \", numBColumns);\n",
        "\n",
        "  wbTime_start(GPU, \"Allocating GPU memory.\");\n",
        "  //@@ Allocate GPU memory here\n",
        "\n",
        "  wbTime_stop(GPU, \"Allocating GPU memory.\");\n",
        "\n",
        "  wbTime_start(GPU, \"Copying input memory to the GPU.\");\n",
        "  //@@ Copy memory to the GPU here\n",
        "\n",
        "  wbTime_stop(GPU, \"Copying input memory to the GPU.\");\n",
        "\n",
        "  //@@ Initialize the grid and block dimensions here\n",
        "\n",
        "  wbTime_start(Compute, \"Performing CUDA computation\");\n",
        "  //@@ Launch the GPU Kernel here\n",
        "\n",
        "  cudaDeviceSynchronize();\n",
        "  wbTime_stop(Compute, \"Performing CUDA computation\");\n",
        "\n",
        "  wbTime_start(Copy, \"Copying output memory to the CPU\");\n",
        "  //@@ Copy the GPU memory back to the CPU here\n",
        "\n",
        "  wbTime_stop(Copy, \"Copying output memory to the CPU\");\n",
        "\n",
        "  wbTime_start(GPU, \"Freeing GPU Memory\");\n",
        "  //@@ Free the GPU memory here\n",
        "\n",
        "  wbTime_stop(GPU, \"Freeing GPU Memory\");\n",
        "\n",
        "  wbSolution(args, hostC, numCRows, numCColumns);\n",
        "\n",
        "  //free(hostA);\n",
        "  //free(hostB);\n",
        "  //free(hostC);\n",
        "\n",
        "  return 0;\n",
        "}"
      ],
      "execution_count": null,
      "outputs": []
    },
    {
      "cell_type": "markdown",
      "metadata": {
        "id": "U9k8bO0uippQ"
      },
      "source": [
        "### Kompajliranje izvornog koda\n",
        "Pokrenite komandu u ćeliji ispod kako biste kompajlirali rešenje."
      ]
    },
    {
      "cell_type": "code",
      "metadata": {
        "id": "3UrrOADTippR"
      },
      "source": [
        "%%bash\n",
        "\n",
        "cd /home/cuda\n",
        "nvcc matrix_multiplication_tiled.cu -o matrix_multiplication_tiled \\\n",
        "  -I /usr/local/libwb/ \\\n",
        "  -L /usr/local/libwb/lib \\\n",
        "  -lwb -lcuda"
      ],
      "execution_count": null,
      "outputs": []
    },
    {
      "cell_type": "markdown",
      "metadata": {
        "id": "FLY2CotgippR"
      },
      "source": [
        "### [Opciono] Provera da li postoji izvrsna datoteka"
      ]
    },
    {
      "cell_type": "code",
      "metadata": {
        "id": "b_tC9Z8TippS"
      },
      "source": [
        "![[ -f /home/cuda/matrix_multiplication_tiled ]] && echo \"Postoji.\" || echo \"Ne postoji.\" "
      ],
      "execution_count": null,
      "outputs": []
    },
    {
      "cell_type": "markdown",
      "metadata": {
        "id": "8nnD3dTaippS"
      },
      "source": [
        "### Pokretanje rešenja nad jednim primerom\n",
        "\n",
        "Pri pokretanju izvršnog koda dobijenog kompajliranjem postavke ćete dobiti grešku `Attempt to free invalid pointer`. Ovo je očekivano ponašanje jer prostor za nizove `hostA`, `hostB` i `hostC` nije alociran."
      ]
    },
    {
      "cell_type": "code",
      "metadata": {
        "id": "Pl3l4o4vippT"
      },
      "source": [
        "%%bash\n",
        "\n",
        "cd /home/cuda\n",
        "LD_LIBRARY_PATH=\"/usr/local/libwb/lib:$LD_LIBRARY_PATH\" ./matrix_multiplication_tiled \\\n",
        "      -i dataset/0/input0.raw,dataset/0/input1.raw \\\n",
        "      -o output.raw -e dataset/0/output.raw \\\n",
        "      -t matrix"
      ],
      "execution_count": null,
      "outputs": []
    },
    {
      "cell_type": "markdown",
      "metadata": {
        "id": "FgQVr9N-ippU"
      },
      "source": [
        "### Pokretanje rešenja nad svim primerima\n",
        "\n",
        "Nakon uspešnog testiranja rešenja na jednom primeru, možete pokrenuti i testiranje rešenja na svim primerima iz seta podataka."
      ]
    },
    {
      "cell_type": "code",
      "metadata": {
        "id": "rh5ogvXxippV"
      },
      "source": [
        "%%bash\n",
        "\n",
        "cd /home/cuda\n",
        "\n",
        "n=$(ls -dl dataset/* | wc -l)\n",
        "\n",
        "for (( i=0; i<$n; i=i+1 ))\n",
        "do\n",
        "  echo \"Testiram primer $i.\"\n",
        "  echo \"-------------------\"\n",
        "  LD_LIBRARY_PATH=\"/usr/local/libwb/lib:$LD_LIBRARY_PATH\" ./matrix_multiplication_tiled \\\n",
        "      -i dataset/$i/input0.raw,dataset/$i/input1.raw \\\n",
        "      -o output.raw -e dataset/$i/output.raw \\\n",
        "      -t matrix\n",
        "  echo \"\"\n",
        "done"
      ],
      "execution_count": null,
      "outputs": []
    }
  ]
}