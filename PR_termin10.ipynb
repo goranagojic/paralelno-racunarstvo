{
  "nbformat": 4,
  "nbformat_minor": 0,
  "metadata": {
    "colab": {
      "name": "PR-termin10.ipynb",
      "private_outputs": true,
      "provenance": [],
      "collapsed_sections": [
        "gFj-N8EX38l9",
        "Vya2EkAHtkvh",
        "wizdBJnPaV5i",
        "GhND9_0fo1th",
        "5FxpyICLo1tk",
        "Km3konPWo1tm",
        "hwiJLRXQo1tn",
        "l-X-fCa-o1to"
      ],
      "authorship_tag": "ABX9TyM0/c7SkGo6JieR86+ljEr9",
      "include_colab_link": true
    },
    "kernelspec": {
      "name": "python3",
      "display_name": "Python 3"
    }
  },
  "cells": [
    {
      "cell_type": "markdown",
      "metadata": {
        "id": "view-in-github",
        "colab_type": "text"
      },
      "source": [
        "<a href=\"https://colab.research.google.com/github/goranagojic/paralelno-racunarstvo/blob/main/PR_termin10.ipynb\" target=\"_parent\"><img src=\"https://colab.research.google.com/assets/colab-badge.svg\" alt=\"Open In Colab\"/></a>"
      ]
    },
    {
      "cell_type": "markdown",
      "metadata": {
        "id": "2Eem6u193EwU"
      },
      "source": [
        "# Paralelno računarstvo - Vežba 10\n",
        "\n",
        "Vežba obuhvata zadatke:\n",
        "1.   Zadatak 1 - Histogram\n",
        "2.   Zadatak 2 - Tekst histogram"
      ]
    },
    {
      "cell_type": "markdown",
      "metadata": {
        "id": "gFj-N8EX38l9"
      },
      "source": [
        "## Preduslovi\n",
        "Pre nego započnete implementaciju zadataka, **obavezno** izvršite kod iz ćelije ispod. Kod će:\n",
        "- skinuti kompresovanu biblioteku `libwb` koja se koristi u zadacima i raspakovati je na putanju /usr/local/libwb.\n",
        "- skinuti set podataka za testiranje rešenja zadataka i raspakovati ga na putanje /home/cuda/histogram i /home/cuda/text_histogram za zadatke `Histogram` i `Text Histogram` redom."
      ]
    },
    {
      "cell_type": "code",
      "metadata": {
        "id": "PVEkPwGz25bY"
      },
      "source": [
        "%%bash\n",
        "\n",
        "######################### PREUZMI I PODESI libwb ##############################\n",
        "# preuzmi libwb.zip ako već nije preuzet\n",
        "[[ -f libwb.zip ]] || wget -O libwb.zip \"https://drive.google.com/u/0/uc?id=1-j31qXJJOBFKuNc4qzTjTU-Gji8HARh0&export=download\"\n",
        "\n",
        "# otpakuj\n",
        "unzip -oqqd /usr/local libwb.zip\n",
        "\n",
        "\n",
        "################### PREUZMI I PODESI set za testiranje ########################\n",
        "# preuzmi dataset.zip za zadatak HISTOGRAM ako vec nije preuzet\n",
        "[[ -f dataset_hist.zip ]] || wget -O dataset_hist.zip \"https://drive.google.com/u/0/uc?id=1z0yagOeqWzchmnrC3uLa72brYJHaoqOy&export=download\"\n",
        "\n",
        "# otpakuj u direktorijum u kojem ce se nalaziti izvrsna datoteka resenja\n",
        "mkdir -p /home/cuda/histogram\n",
        "unzip -oqqd /home/cuda/histogram dataset_hist.zip\n",
        "\n",
        "# preuzmi dataset.zip za zadatak TEKST HISTOGRAM ako vec nije preuzet\n",
        "[[ -f dataset_thist.zip ]] || wget -O dataset_thist.zip \"https://drive.google.com/u/0/uc?id=1LpGqdH0LhLSaq0V1pd_8c2xpDXRXLrWi&export=download\"\n",
        "\n",
        "# otpakuj u direktorijum u kojem ce se nalaziti izvrsna datoteka resenja\n",
        "mkdir -p /home/cuda/text_histogram\n",
        "unzip -oqqd /home/cuda/text_histogram dataset_thist.zip"
      ],
      "execution_count": null,
      "outputs": []
    },
    {
      "cell_type": "markdown",
      "metadata": {
        "id": "lJLBa51Oa_G_"
      },
      "source": [
        "Po završetku prethodne ćelije, možete pokrenuti narednu koja proverava da li `libwb` i `dataset` direktorijumi postoje na predviđenim putanjama. Ukoliko je sve u redu, obe naredbe će ispisati absolutne putanje do direktorijuma. U suprotnom će prijaviti da jedan ili oba direktorijuma nisu pronađena. U tom slučaju treba da se vratite na log prethodne ćelije i potražite gde je došlo do greške."
      ]
    },
    {
      "cell_type": "code",
      "metadata": {
        "id": "w_aHE_e9OxSf"
      },
      "source": [
        "%%bash\n",
        "\n",
        "ls -d /usr/local/libwb/\n",
        "ls -d /home/cuda/histogram/dataset/\n",
        "ls -d /home/cuda/text_histogram/dataset/"
      ],
      "execution_count": null,
      "outputs": []
    },
    {
      "cell_type": "markdown",
      "metadata": {
        "id": "Vya2EkAHtkvh"
      },
      "source": [
        "## [Opciono] Deinstalacija preduslova\n",
        "Izvršavanjem ćelije ispod brišete instaliranu biblioteku `libwb` i set podataka. Izvršite ovu ćeliju samo ako želite da resetujete instalaciju kako biste reinstalirali preduslove."
      ]
    },
    {
      "cell_type": "code",
      "metadata": {
        "id": "SWwYDR0jHDrI"
      },
      "source": [
        "%%bash\n",
        "\n",
        "# obrisi libwb biblioteku\n",
        "[[ -d /usr/local/libwb ]] && rm -r /usr/local/libwb/ && echo \"Obrisana libwb biblioteka.\"\n",
        "[[ -f libwb.zip ]] && rm libwb.zip && echo \"Obrisana libwb.zip arhiva.\"\n",
        "\n",
        "# obrisi setove podataka za testiranje\n",
        "[[ -d /home/cuda/histogram/dataset ]] && rm -r /home/cuda/histogram/dataset && \\\n",
        "    echo \"Obrisan set podataka za zadatak HISTOGRAM.\"\n",
        "[[ -d /home/cuda/text_histogram/dataset ]] && rm -r /home/cuda/text_histogram/dataset && \\\n",
        "    echo \"Obrisan set podataka za zadatak TEKST HISTOGRAM.\"\n",
        "[[ -f dataset_hist.zip ]] && rm dataset_hist.zip && echo \"Obrisana dataset.zip arhiva.\"\n",
        "[[ -f dataset_thist.zip ]] && rm dataset_thist.zip && echo \"Obrisana dataset.zip arhiva.\"\n",
        "[[ -f dataset.zip ]] && rm dataset.zip && echo \"Obrisana dataset.zip arhiva.\""
      ],
      "execution_count": null,
      "outputs": []
    },
    {
      "cell_type": "markdown",
      "metadata": {
        "id": "oQDu-FomFDp5"
      },
      "source": [
        "## Zadatak 1 - Histogram\n",
        "\n",
        "Implementirati kernel za efikasno računanje histograma za zadati niz celobrojnih ulaznih vrednosti u datom opsegu. Svaka vrednost iz niza se preslikava na jedan od podeoka histograma. Podeoci histograma ne mogu preći vrednost veću od 127 (dostižu saturaciju na vrednosti 127). Vrednosti u ulaznom nizu za ovu vežbu mogu biti u rasponu 0 do 4096. Za predstavljanje podeoka histograma koristiti neoznačene 32-bitne brojače. Smatrati da ulazni niz neće biti duži od $2^{32}$.\n",
        "\n",
        "Zadatak može biti podeljen u dva kernela: jedan koji računa histogram bez saturacije i drugi koji koriguje vrednosti podeoka. Ove dve faze takođe mogu biti implementirane u okviru jednog kernela. Poželjno je implementirati obe verzije kernela i uporediti performanse.\n",
        "\n",
        "Dopuniti zadatu postavku zadatka implementacijom nedostajućih delova\n",
        "koda. Celokupno rešenje treba da se nađe u ćeliji ispod. Implementirati:\n",
        "\n",
        "-   alokaciju memorije na uređaju,\n",
        "\n",
        "-   kopiranje podataka iz memorije domaćina u memoriju uređaja,\n",
        "\n",
        "-   inicijalizaciju dimenzija mreže i bloka,\n",
        "\n",
        "-   poziv kernela,\n",
        "\n",
        "-   kopiranje podataka sa memorije uređaja u memoriju domaćina i\n",
        "\n",
        "-   dealokaciju memorije uređaja,\n",
        "\n",
        "-   kernel za računanje histograma"
      ]
    },
    {
      "cell_type": "code",
      "metadata": {
        "id": "2X6bDzuZDKFt"
      },
      "source": [
        "%%writefile /home/cuda/histogram/histogram.cu\n",
        "\n",
        "#include <wb.h>\n",
        "\n",
        "#define NUM_BINS 4096\n",
        "\n",
        "#define CUDA_CHECK(ans)                                                   \\\n",
        "  { gpuAssert((ans), __FILE__, __LINE__); }\n",
        "inline void gpuAssert(cudaError_t code, const char *file, int line,\n",
        "                      bool abort = true) {\n",
        "  if (code != cudaSuccess) {\n",
        "    fprintf(stderr, \"GPUassert: %s %s %d\\n\", cudaGetErrorString(code),\n",
        "            file, line);\n",
        "    if (abort)\n",
        "      exit(code);\n",
        "  }\n",
        "}\n",
        "\n",
        "int main(int argc, char *argv[]) {\n",
        "  wbArg_t args;\n",
        "  int inputLength;\n",
        "  unsigned int *hostInput;\n",
        "  unsigned int *hostBins;\n",
        "  unsigned int *deviceInput;\n",
        "  unsigned int *deviceBins;\n",
        "\n",
        "  args = wbArg_read(argc, argv);\n",
        "\n",
        "  wbTime_start(Generic, \"Importing data and creating memory on host\");\n",
        "  hostInput = (unsigned int *)wbImport(wbArg_getInputFile(args, 0),\n",
        "                                       &inputLength, \"Integer\");\n",
        "  hostBins = (unsigned int *)malloc(NUM_BINS * sizeof(unsigned int));\n",
        "  wbTime_stop(Generic, \"Importing data and creating memory on host\");\n",
        "\n",
        "  wbLog(TRACE, \"The input length is \", inputLength);\n",
        "  wbLog(TRACE, \"The number of bins is \", NUM_BINS);\n",
        "\n",
        "  wbTime_start(GPU, \"Allocating GPU memory.\");\n",
        "  //@@ Allocate GPU memory here\n",
        "  CUDA_CHECK(cudaDeviceSynchronize());\n",
        "  wbTime_stop(GPU, \"Allocating GPU memory.\");\n",
        "\n",
        "  wbTime_start(GPU, \"Copying input memory to the GPU.\");\n",
        "  //@@ Copy memory to the GPU here\n",
        "  CUDA_CHECK(cudaDeviceSynchronize());\n",
        "  wbTime_stop(GPU, \"Copying input memory to the GPU.\");\n",
        "\n",
        "  // Launch kernel\n",
        "  // ----------------------------------------------------------\n",
        "  wbLog(TRACE, \"Launching kernel\");\n",
        "  wbTime_start(Compute, \"Performing CUDA computation\");\n",
        "  //@@ Perform kernel computation here\n",
        "  wbTime_stop(Compute, \"Performing CUDA computation\");\n",
        "\n",
        "  wbTime_start(Copy, \"Copying output memory to the CPU\");\n",
        "  //@@ Copy the GPU memory back to the CPU here\n",
        "  CUDA_CHECK(cudaDeviceSynchronize());\n",
        "  wbTime_stop(Copy, \"Copying output memory to the CPU\");\n",
        "\n",
        "  wbTime_start(GPU, \"Freeing GPU Memory\");\n",
        "  //@@ Free the GPU memory here\n",
        "  wbTime_stop(GPU, \"Freeing GPU Memory\");\n",
        "\n",
        "  // Verify correctness\n",
        "  // -----------------------------------------------------\n",
        "  wbSolution(args, hostBins, NUM_BINS);\n",
        "\n",
        "  free(hostBins);\n",
        "  free(hostInput);\n",
        "  \n",
        "  return 0;\n",
        "}"
      ],
      "execution_count": null,
      "outputs": []
    },
    {
      "cell_type": "markdown",
      "metadata": {
        "id": "6uYvXKXZFT32"
      },
      "source": [
        "### Kompajliranje izvornog koda\n",
        "Pokrenite komandu u ćeliji ispod kako biste kompajlirali rešenje."
      ]
    },
    {
      "cell_type": "code",
      "metadata": {
        "id": "ujWtOj9BFajn"
      },
      "source": [
        "%%bash\n",
        "\n",
        "cd /home/cuda/histogram\n",
        "nvcc histogram.cu -o histogram \\\n",
        "  -I /usr/local/libwb/ \\\n",
        "  -L /usr/local/libwb/lib \\\n",
        "  -lwb -lcuda"
      ],
      "execution_count": null,
      "outputs": []
    },
    {
      "cell_type": "markdown",
      "metadata": {
        "id": "wizdBJnPaV5i"
      },
      "source": [
        "### [Opciono] Provera da li postoji izvrsna datoteka"
      ]
    },
    {
      "cell_type": "code",
      "metadata": {
        "id": "GdAa1y79aiBz"
      },
      "source": [
        "![[ -f /home/cuda/histogram/histogram ]] && echo \"Postoji.\" || echo \"Ne postoji.\""
      ],
      "execution_count": null,
      "outputs": []
    },
    {
      "cell_type": "markdown",
      "metadata": {
        "id": "q5dNRxXVLOq4"
      },
      "source": [
        "### Pokretanje rešenja nad jednim primerom"
      ]
    },
    {
      "cell_type": "code",
      "metadata": {
        "id": "MIkaiOQcGYQa"
      },
      "source": [
        "%%bash\n",
        "\n",
        "cd /home/cuda/histogram\n",
        "\n",
        "LD_LIBRARY_PATH=\"/usr/local/libwb/lib:$LD_LIBRARY_PATH\" ./histogram \\\n",
        "      -i dataset/0/input.raw \\\n",
        "      -o output.raw \\\n",
        "      -e dataset/0/output.raw \\\n",
        "      -t integral_vector"
      ],
      "execution_count": null,
      "outputs": []
    },
    {
      "cell_type": "markdown",
      "metadata": {
        "id": "Mhd8sxc1-3iK"
      },
      "source": [
        "### Pokretanje rešenja nad svim primerima\n",
        "\n",
        "Nakon uspešnog testiranja rešenja na jednom primeru, možete pokrenuti i testiranje rešenja na svim primerima iz seta podataka."
      ]
    },
    {
      "cell_type": "code",
      "metadata": {
        "id": "ZnSoi_cB-4iN"
      },
      "source": [
        "%%bash\n",
        "\n",
        "cd /home/cuda/histogram\n",
        "\n",
        "n=$(ls -dl dataset/* | wc -l)\n",
        "\n",
        "for (( i=0; i<$n; i=i+1 ))\n",
        "do\n",
        "  echo \"Testiram primer $i.\"\n",
        "  echo \"-------------------\"\n",
        "  LD_LIBRARY_PATH=\"/usr/local/libwb/lib:$LD_LIBRARY_PATH\" ./histogram \\\n",
        "      -i dataset/$i/input.raw \\\n",
        "      -o output.raw \\\n",
        "      -e dataset/$i/output.raw \\\n",
        "      -t integral_vector\n",
        "  echo \"\"\n",
        "done"
      ],
      "execution_count": null,
      "outputs": []
    },
    {
      "cell_type": "markdown",
      "metadata": {
        "id": "GhND9_0fo1th"
      },
      "source": [
        "## Zadatak 2 - Text Histogram\n",
        "\n",
        "Implementirati kernel za računanje histograma ulaznog niza ASCII karaktera. Ukupno ima 128 ASCII karaktera, koji se mapiraju na odgovarajuće podeoke histograma (kojih takođe ima 128). Podeoci histograma su predstavljeni 32-bitnim neoznačenim vrednostima koje ne saturiraju. Pri implementaciji zadatka za svaki blok niti kreirati privatni histogram. Koristeći atomične operacije modifikovati globalni histogram u skladu sa privatnim histogramima.\n",
        "\n",
        "Dopuniti zadatu postavku zadatka implementacijom nedostajućih delova\n",
        "koda. Celokupno rešenje treba da se nađe u ćeliji ispod. Implementirati:\n",
        "\n",
        "-   alokaciju memorije na uređaju,\n",
        "-   kopiranje podataka iz memorije domaćina u memoriju uređaja,\n",
        "-   inicijalizaciju dimenzija mreže i bloka,\n",
        "-   poziv kernela,\n",
        "-   kopiranje podataka sa memorije uređaja u memoriju domaćina i\n",
        "-   dealokaciju memorije uređaja,\n",
        "-   kernel za računanje histograma"
      ]
    },
    {
      "cell_type": "code",
      "metadata": {
        "id": "UreaCTOqo1tj"
      },
      "source": [
        "%%writefile /home/cuda/text_histogram/text_histogram.cu\n",
        "\n",
        "#include <wb.h>\n",
        "\n",
        "#define NUM_BINS 128\n",
        "\n",
        "#define CUDA_CHECK(ans)                                                   \\\n",
        "  { gpuAssert((ans), __FILE__, __LINE__); }\n",
        "inline void gpuAssert(cudaError_t code, const char *file, int line,\n",
        "                      bool abort = true) {\n",
        "  if (code != cudaSuccess) {\n",
        "    fprintf(stderr, \"GPUassert: %s %s %d\\n\", cudaGetErrorString(code),\n",
        "            file, line);\n",
        "    if (abort)\n",
        "      exit(code);\n",
        "  }\n",
        "}\n",
        "\n",
        "int main(int argc, char *argv[]) {\n",
        "  wbArg_t args;\n",
        "  int inputLength;\n",
        "  char *hostInput;\n",
        "  unsigned int *hostBins;\n",
        "  char *deviceInput;\n",
        "  unsigned int *deviceBins;\n",
        "\n",
        "  args = wbArg_read(argc, argv);\n",
        "\n",
        "  wbTime_start(Generic, \"Importing data and creating memory on host\");\n",
        "  hostInput = (char *)wbImport(wbArg_getInputFile(args, 0),\n",
        "                                       &inputLength, \"Text\");\n",
        "  hostBins = (unsigned int *)malloc(NUM_BINS * sizeof(unsigned int));\n",
        "  wbTime_stop(Generic, \"Importing data and creating memory on host\");\n",
        "\n",
        "  wbLog(TRACE, \"The input length is \", inputLength);\n",
        "  wbLog(TRACE, \"The number of bins is \", NUM_BINS);\n",
        "\n",
        "  wbTime_start(GPU, \"Allocating GPU memory.\");\n",
        "  //@@ Allocate GPU memory here\n",
        "  CUDA_CHECK(cudaDeviceSynchronize());\n",
        "  wbTime_stop(GPU, \"Allocating GPU memory.\");\n",
        "\n",
        "  wbTime_start(GPU, \"Copying input memory to the GPU.\");\n",
        "  //@@ Copy memory to the GPU here\n",
        "  CUDA_CHECK(cudaDeviceSynchronize());\n",
        "  wbTime_stop(GPU, \"Copying input memory to the GPU.\");\n",
        "\n",
        "  // Launch kernel\n",
        "  // ----------------------------------------------------------\n",
        "  wbLog(TRACE, \"Launching kernel\");\n",
        "  wbTime_start(Compute, \"Performing CUDA computation\");\n",
        "  //@@ Perform kernel computation here\n",
        "  wbTime_stop(Compute, \"Performing CUDA computation\");\n",
        "\n",
        "  wbTime_start(Copy, \"Copying output memory to the CPU\");\n",
        "  //@@ Copy the GPU memory back to the CPU here\n",
        "  CUDA_CHECK(cudaDeviceSynchronize());\n",
        "  wbTime_stop(Copy, \"Copying output memory to the CPU\");\n",
        "\n",
        "  wbTime_start(GPU, \"Freeing GPU Memory\");\n",
        "  //@@ Free the GPU memory here\n",
        "  wbTime_stop(GPU, \"Freeing GPU Memory\");\n",
        "\n",
        "  // Verify correctness\n",
        "  // -----------------------------------------------------\n",
        "  wbSolution(args, hostBins, NUM_BINS);\n",
        "\n",
        "  free(hostBins);\n",
        "  free(hostInput);\n",
        "  \n",
        "  return 0;\n",
        "}"
      ],
      "execution_count": null,
      "outputs": []
    },
    {
      "cell_type": "markdown",
      "metadata": {
        "id": "5FxpyICLo1tk"
      },
      "source": [
        "### Kompajliranje izvornog koda\n",
        "Pokrenite komandu u ćeliji ispod kako biste kompajlirali rešenje."
      ]
    },
    {
      "cell_type": "code",
      "metadata": {
        "id": "YpbCJ8cRo1tl"
      },
      "source": [
        "%%bash\n",
        "\n",
        "cd /home/cuda/text_histogram\n",
        "nvcc text_histogram.cu -o text_histogram \\\n",
        "  -I /usr/local/libwb/ \\\n",
        "  -L /usr/local/libwb/lib \\\n",
        "  -lwb -lcuda"
      ],
      "execution_count": null,
      "outputs": []
    },
    {
      "cell_type": "markdown",
      "metadata": {
        "id": "Km3konPWo1tm"
      },
      "source": [
        "### [Opciono] Provera da li postoji izvrsna datoteka"
      ]
    },
    {
      "cell_type": "code",
      "metadata": {
        "id": "mkvkrgCYo1tm"
      },
      "source": [
        "![[ -f /home/cuda/text_histogram/text_histogram ]] && echo \"Postoji.\" || echo \"Ne postoji.\" # TODO izmeni"
      ],
      "execution_count": null,
      "outputs": []
    },
    {
      "cell_type": "markdown",
      "metadata": {
        "id": "hwiJLRXQo1tn"
      },
      "source": [
        "### Pokretanje rešenja nad jednim primerom"
      ]
    },
    {
      "cell_type": "code",
      "metadata": {
        "id": "IDXXFYSWo1to"
      },
      "source": [
        "%%bash\n",
        "\n",
        "cd /home/cuda/text_histogram\n",
        "LD_LIBRARY_PATH=\"/usr/local/libwb/lib:$LD_LIBRARY_PATH\" ./text_histogram \\\n",
        "      -i dataset/0/input.txt \\\n",
        "      -o output.raw \\\n",
        "      -e dataset/0/output.raw \\\n",
        "      -t integral_vector"
      ],
      "execution_count": null,
      "outputs": []
    },
    {
      "cell_type": "markdown",
      "metadata": {
        "id": "l-X-fCa-o1to"
      },
      "source": [
        "### Pokretanje rešenja nad svim primerima\n",
        "\n",
        "Nakon uspešnog testiranja rešenja na jednom primeru, možete pokrenuti i testiranje rešenja na svim primerima iz seta podataka."
      ]
    },
    {
      "cell_type": "code",
      "metadata": {
        "id": "5koiw3HJo1tp"
      },
      "source": [
        "%%bash\n",
        "\n",
        "cd /home/cuda/text_histogram\n",
        "\n",
        "n=$(ls -dl dataset/* | wc -l)\n",
        "\n",
        "for (( i=0; i<$n; i=i+1 ))\n",
        "do\n",
        "  echo \"Testiram primer $i.\"\n",
        "  echo \"-------------------\"\n",
        "  LD_LIBRARY_PATH=\"/usr/local/libwb/lib:$LD_LIBRARY_PATH\" ./text_histogram \\\n",
        "      -i dataset/0/input.txt \\\n",
        "      -o output.raw \\\n",
        "      -e dataset/0/output.raw \\\n",
        "      -t integral_vector                                                          \n",
        "  echo \"\"\n",
        "done"
      ],
      "execution_count": null,
      "outputs": []
    }
  ]
}