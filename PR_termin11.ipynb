{
  "nbformat": 4,
  "nbformat_minor": 0,
  "metadata": {
    "colab": {
      "name": "PR-termin11.ipynb",
      "private_outputs": true,
      "provenance": [],
      "collapsed_sections": [
        "gFj-N8EX38l9",
        "Vya2EkAHtkvh",
        "oQDu-FomFDp5",
        "6uYvXKXZFT32",
        "wizdBJnPaV5i",
        "q5dNRxXVLOq4",
        "YBKv22iFdXGx"
      ],
      "toc_visible": true,
      "authorship_tag": "ABX9TyPf5sPm8WritIt5RVSp6Onv",
      "include_colab_link": true
    },
    "kernelspec": {
      "name": "python3",
      "display_name": "Python 3"
    },
    "accelerator": "GPU"
  },
  "cells": [
    {
      "cell_type": "markdown",
      "metadata": {
        "id": "view-in-github",
        "colab_type": "text"
      },
      "source": [
        "<a href=\"https://colab.research.google.com/github/goranagojic/paralelno-racunarstvo/blob/main/PR_termin11.ipynb\" target=\"_parent\"><img src=\"https://colab.research.google.com/assets/colab-badge.svg\" alt=\"Open In Colab\"/></a>"
      ]
    },
    {
      "cell_type": "markdown",
      "metadata": {
        "id": "2Eem6u193EwU"
      },
      "source": [
        "# Paralelno računarstvo - Vežba 11\n",
        "\n",
        "Vežba obuhvata zadatke:\n",
        "*   Zadatak 1 - Konvolucija matrice\n",
        "\n"
      ]
    },
    {
      "cell_type": "markdown",
      "metadata": {
        "id": "gFj-N8EX38l9"
      },
      "source": [
        "## Preduslovi\n",
        "Pre nego započnete implementaciju zadataka, **obavezno** izvršite kod iz ćelije ispod. Kod će:\n",
        "- skinuti kompresovanu biblioteku `libwb` koja se koristi u zadacima i raspakovati je na putanju /usr/local/libwb.\n",
        "- skinuti set podataka za testiranje rešenja zadatka i raspakovati ga na putanju /home/cuda"
      ]
    },
    {
      "cell_type": "code",
      "metadata": {
        "id": "PVEkPwGz25bY"
      },
      "source": [
        "%%bash\n",
        "\n",
        "######################### PREUZMI I PODESI libwb ##############################\n",
        "# preuzmi libwb.zip ako već nije preuzet\n",
        "[[ -f libwb.zip ]] || wget -O libwb.zip \"https://drive.google.com/u/0/uc?id=1-j31qXJJOBFKuNc4qzTjTU-Gji8HARh0&export=download\"\n",
        "\n",
        "# otpakuj\n",
        "unzip -oqqd /usr/local libwb.zip\n",
        "\n",
        "\n",
        "################### PREUZMI I PODESI set za testiranje ########################\n",
        "# preuzmi dataset.zip ako vec nije preuzet\n",
        "[[ -f dataset.zip ]] || wget -O dataset.zip \"https://drive.google.com/u/0/uc?id=1wMYQvl2oadRCT0SaBQY4sZwM8QQaWns_&export=download\"\n",
        "\n",
        "# otpakuj u direktorijum u kojem ce se nalaziti izvrsna datoteka resenja\n",
        "mkdir -p /home/cuda/\n",
        "unzip -oqqd /home/cuda/ dataset.zip"
      ],
      "execution_count": null,
      "outputs": []
    },
    {
      "cell_type": "markdown",
      "metadata": {
        "id": "lJLBa51Oa_G_"
      },
      "source": [
        "Po završetku prethodne ćelije, možete pokrenuti narednu koja proverava da li `libwb` i `dataset` direktorijumi postoje na predviđenim putanjama. Ukoliko je sve u redu, obe naredbe će ispisati absolutne putanje do direktorijuma. U suprotnom će prijaviti da jedan ili oba direktorijuma nisu pronađena. U tom slučaju treba da se vratite na log prethodne ćelije i potražite gde je došlo do greške."
      ]
    },
    {
      "cell_type": "code",
      "metadata": {
        "id": "w_aHE_e9OxSf"
      },
      "source": [
        "%%bash\n",
        "\n",
        "ls -d /usr/local/libwb/\n",
        "ls -d /home/cuda/"
      ],
      "execution_count": null,
      "outputs": []
    },
    {
      "cell_type": "markdown",
      "metadata": {
        "id": "Vya2EkAHtkvh"
      },
      "source": [
        "## [Opciono] Deinstalacija preduslova\n",
        "Izvršavanjem ćelije ispod brišete instaliranu biblioteku `libwb` i set podataka. Izvršite ovu ćeliju samo ako želite da resetujete instalaciju kako biste reinstalirali preduslove."
      ]
    },
    {
      "cell_type": "code",
      "metadata": {
        "id": "SWwYDR0jHDrI"
      },
      "source": [
        "%%bash\n",
        "\n",
        "# obrisi libwb biblioteku\n",
        "[[ -d /usr/local/libwb ]] && rm -r /usr/local/libwb/ && echo \"Obrisana libwb biblioteka.\"\n",
        "[[ -f libwb.zip ]] && rm libwb.zip && echo \"Obrisana libwb.zip arhiva.\"\n",
        "\n",
        "# obrisi set podataka za testiranje\n",
        "[[ -d /home/cuda/dataset ]] && rm -r /home/cuda/dataset && echo \"Obrisan set podataka.\"\n",
        "[[ -f dataset.zip ]] && rm dataset.zip && echo \"Obrisana dataset.zip arhiva.\""
      ],
      "execution_count": null,
      "outputs": []
    },
    {
      "cell_type": "markdown",
      "metadata": {
        "id": "oQDu-FomFDp5"
      },
      "source": [
        "## Zadatak 1 - Konvolucija matrica\n",
        "\n",
        "Implementirati osnovni algoritam za konvoluciju ulazne RGB slike. Ulazna\n",
        "slika je dimenzija $width \\times height \\times numchannels$, gde je broj\n",
        "kanala fiksno 3 i odgovara R, G i B kanalima. Drugim rečima, svaki\n",
        "piksel slike je predstavljen sa tri vrednosti koje predstavljaju crvenu,\n",
        "zelenu i plavu komponentu boje posmatranog piksela. Slika je\n",
        "linearizovana vrstu po vrstu, a vrednosti kanala piksela su u memoriji\n",
        "zadate kao uzastopne vrednosti.\\\n",
        "Konvolucija RGB slike se svodi na računanje nove vrednosti svih kanala\n",
        "svih piksela na slici. To znači da je u indeksiranje ulazne slike\n",
        "potrebno uračunati i informaciju o kanalima, pa se određenom kanalu za\n",
        "piksel u vrsti `yIndex` i koloni `xIndex` može pristupiti kao:\n",
        "\n",
        "``` {.c}\n",
        "index = (yIndex * width + xIndex) * channels + channelIndex\n",
        "```\n",
        "\n",
        "Za crvenu komponentu piksela važi da je `channelIndex = 0`, za zelenu\n",
        "`channelIndex = 1` i za plavu `channelIndex = 2`.\\\n",
        "Konvoluciona maska je fiksno veličine $5\\times5$. Radi efikasnijeg\n",
        "iskorišćenja memorije, konvolucionu masku treba sačuvati u konstantnoj\n",
        "memoriji koja omogućava keširanje vrednosti maske. Ovo se može postići\n",
        "definisanjem parametra kernela koji odgovara konvolucionoj masci kao\n",
        "`const float * __restrict__ M`, ako pretpostavimo da je `M` naziv\n",
        "pokazivača preko kojeg se pristupa elementima konvolucione maske.\\\n",
        "Opšta formula za konvoluciju slike sa konvolucionim kernelom `M`\n",
        "dimenzija $5\\times5$, gde je sa `I` obeležena ulazna slika, a sa `P`\n",
        "izlazna konvolvirana slika je:\n",
        "\n",
        "$$P_{i,j,c} = \\sum_{x=-2}^{2} \\sum_{y=-2}^{2} I_{i+x,j+y,c} * M_{x,y}$$\n",
        "\n",
        "U formuli, $P_{i,j,c}$ je kanal $c$ piksela izlazne slike na poziciji\n",
        "$i,j$, $I_{i,j,c}$ je kanal $c$ piksela ulazne slike na poziciji $i,j$ i\n",
        "$M_{x,y}$ je vrednost maske na poziciji $x,y$. Treba obezbediti da\n",
        "vrednost kanala izlaznih piksela bude u intervalu \\[0,1\\].\n",
        "\n",
        "Instrukcije\n",
        "===========\n",
        "\n",
        "Dopuniti zadatu postavku zadatka implementacijom nedostajućih delova\n",
        "koda. Implementirati:\n",
        "\n",
        "-   alokaciju memorije na uređaju,\n",
        "-   kopiranje podataka iz memorije domaćina u memoriju uređaja,\n",
        "-   inicijalizaciju dimenzija mreže i bloka,\n",
        "-   poziv kernela,\n",
        "-   kopiranje podataka sa memorije uređaja u memoriju domaćina i\n",
        "-   dealokaciju memorije uređaja,\n",
        "-   konvolucioni kernel\n",
        "\n",
        "### Pseudo-kod rešenja\n",
        "\n",
        "``` {.pascal linenos=\"\"}\n",
        "maskWidth := 5\n",
        "maskRadius := maskWidth/2   // this is integer division, so the result is 2\n",
        "for i from 0 to height do\n",
        "    for j from 0 to width do\n",
        "        for k from 0 to channels\n",
        "            accum := 0\n",
        "            for y from -maskRadius to maskRadius do\n",
        "                for x from -maskRadius to maskRadius do\n",
        "                    xOffset := j + x\n",
        "                    yOffset := i + y\n",
        "                    if xOffset >= 0 and xOffset < width and\n",
        "                       yOffset >= 0 and yOffset < height then\n",
        "                        imagePixel := I[(yOffset * width + xOffset) * channels + k]\n",
        "                        maskValue := K[(y+maskRadius)*maskWidth+x+maskRadius]\n",
        "                        accum += imagePixel * maskValue\n",
        "                    end\n",
        "                end\n",
        "            end\n",
        "            // pixels are in the range of 0 to 1\n",
        "            P[(i * width + j)*channels + k] = clamp(accum, 0, 1)\n",
        "        end\n",
        "    end\n",
        "end\n",
        "\n",
        "// where clamp is defined as\n",
        "def clamp(x, lower, upper)\n",
        "    return min(max(x, lower), upper)\n",
        "end\n",
        "```"
      ]
    },
    {
      "cell_type": "code",
      "metadata": {
        "id": "2X6bDzuZDKFt"
      },
      "source": [
        "%%writefile /home/cuda/matrix_convolution.cu\n",
        "\n",
        "#include <wb.h>\n",
        "\n",
        "#define wbCheck(stmt)                                                     \\\n",
        "  do {                                                                    \\\n",
        "    cudaError_t err = stmt;                                               \\\n",
        "    if (err != cudaSuccess) {                                             \\\n",
        "      wbLog(ERROR, \"Failed to run stmt \", #stmt);                         \\\n",
        "      return -1;                                                          \\\n",
        "    }                                                                     \\\n",
        "  } while (0)\n",
        "\n",
        "#define Mask_width 5\n",
        "#define Mask_radius Mask_width / 2\n",
        "#define clamp(x) (min(max((x), 0.0), 1.0))\n",
        "\n",
        "//@@ INSERT CODE HERE\n",
        "\n",
        "int main(int argc, char *argv[]) {\n",
        "  wbArg_t arg;\n",
        "  int maskRows;\n",
        "  int maskColumns;\n",
        "  int imageChannels;\n",
        "  int imageWidth;\n",
        "  int imageHeight;\n",
        "  char *inputImageFile;\n",
        "  char *inputMaskFile;\n",
        "  wbImage_t inputImage;\n",
        "  wbImage_t outputImage;\n",
        "  float *hostInputImageData;\n",
        "  float *hostOutputImageData;\n",
        "  float *hostMaskData;\n",
        "  float *deviceInputImageData;\n",
        "  float *deviceOutputImageData;\n",
        "  float *deviceMaskData;\n",
        "\n",
        "  arg = wbArg_read(argc, argv); /* parse the input arguments */\n",
        "\n",
        "  inputImageFile = wbArg_getInputFile(arg, 0);\n",
        "  inputMaskFile  = wbArg_getInputFile(arg, 1);\n",
        "\n",
        "  inputImage   = wbImport(inputImageFile);\n",
        "  hostMaskData = (float *)wbImport(inputMaskFile, &maskRows, &maskColumns);\n",
        "\n",
        "  assert(maskRows == 5);    /* mask height is fixed to 5 in this mp */\n",
        "  assert(maskColumns == 5); /* mask width is fixed to 5 in this mp */\n",
        "\n",
        "  imageWidth    = wbImage_getWidth(inputImage);\n",
        "  imageHeight   = wbImage_getHeight(inputImage);\n",
        "  imageChannels = wbImage_getChannels(inputImage);\n",
        "\n",
        "  outputImage = wbImage_new(imageWidth, imageHeight, imageChannels);\n",
        "\n",
        "  hostInputImageData  = wbImage_getData(inputImage);\n",
        "  hostOutputImageData = wbImage_getData(outputImage);\n",
        "\n",
        "  wbTime_start(GPU, \"Doing GPU Computation (memory + compute)\");\n",
        "\n",
        "  wbTime_start(GPU, \"Doing GPU memory allocation\");\n",
        "  //@@ INSERT CODE HERE\n",
        "  wbTime_stop(GPU, \"Doing GPU memory allocation\");\n",
        "\n",
        "  wbTime_start(Copy, \"Copying data to the GPU\");\n",
        "  //@@ INSERT CODE HERE\n",
        "  wbTime_stop(Copy, \"Copying data to the GPU\");\n",
        "\n",
        "  wbTime_start(Compute, \"Doing the computation on the GPU\");\n",
        "  //@@ INSERT CODE HERE\n",
        "\n",
        "//  convolution<<<dimGrid, dimBlock>>>(deviceInputImageData, deviceMaskData,\n",
        "//                                     deviceOutputImageData, imageChannels,\n",
        "//                                     imageWidth, imageHeight);\n",
        "  wbTime_stop(Compute, \"Doing the computation on the GPU\");\n",
        "\n",
        "  wbTime_start(Copy, \"Copying data from the GPU\");\n",
        "  //@@ INSERT CODE HERE\n",
        "  cudaMemcpy(hostOutputImageData, deviceOutputImageData,\n",
        "             imageWidth * imageHeight * imageChannels * sizeof(float),\n",
        "             cudaMemcpyDeviceToHost);\n",
        "  wbTime_stop(Copy, \"Copying data from the GPU\");\n",
        "\n",
        "  wbTime_stop(GPU, \"Doing GPU Computation (memory + compute)\");\n",
        "\n",
        "  wbSolution(arg, outputImage);\n",
        "\n",
        "  //@@ Insert code here\n",
        "\n",
        "  free(hostMaskData);\n",
        "  wbImage_delete(outputImage);\n",
        "  wbImage_delete(inputImage);\n",
        "\n",
        "  return 0;\n",
        "}"
      ],
      "execution_count": null,
      "outputs": []
    },
    {
      "cell_type": "markdown",
      "metadata": {
        "id": "6uYvXKXZFT32"
      },
      "source": [
        "### Kompajliranje izvornog koda\n",
        "Pokrenite komandu u ćeliji ispod kako biste kompajlirali rešenje."
      ]
    },
    {
      "cell_type": "code",
      "metadata": {
        "id": "ujWtOj9BFajn"
      },
      "source": [
        "%%bash\n",
        "\n",
        "cd /home/cuda\n",
        "nvcc matrix_convolution.cu -o matrix_convolution \\\n",
        "  -I /usr/local/libwb/ \\\n",
        "  -L /usr/local/libwb/lib \\\n",
        "  -lwb -lcuda"
      ],
      "execution_count": null,
      "outputs": []
    },
    {
      "cell_type": "markdown",
      "metadata": {
        "id": "wizdBJnPaV5i"
      },
      "source": [
        "### [Opciono] Provera da li postoji izvršna datoteka"
      ]
    },
    {
      "cell_type": "code",
      "metadata": {
        "id": "GdAa1y79aiBz"
      },
      "source": [
        "![[ -f /home/cuda/matrix_convolution ]] && echo \"Postoji.\" || echo \"Ne postoji.\" "
      ],
      "execution_count": null,
      "outputs": []
    },
    {
      "cell_type": "markdown",
      "metadata": {
        "id": "q5dNRxXVLOq4"
      },
      "source": [
        "### Pokretanje rešenja nad jednim primerom"
      ]
    },
    {
      "cell_type": "code",
      "metadata": {
        "id": "MIkaiOQcGYQa"
      },
      "source": [
        "%%bash\n",
        "\n",
        "cd /home/cuda\n",
        "LD_LIBRARY_PATH=\"/usr/local/libwb/lib:$LD_LIBRARY_PATH\" ./matrix_convolution \\\n",
        "      -i dataset/0/input0.ppm,dataset/0/input1.raw \\\n",
        "      -o output.ppm -e dataset/0/output.ppm \\\n",
        "      -t image"
      ],
      "execution_count": null,
      "outputs": []
    },
    {
      "cell_type": "markdown",
      "metadata": {
        "id": "YBKv22iFdXGx"
      },
      "source": [
        "### Pokretanje rešenja nad svim primerima\n",
        "\n",
        "Nakon uspešnog testiranja rešenja na jednom primeru, možete pokrenuti i testiranje rešenja na svim primerima iz seta podataka."
      ]
    },
    {
      "cell_type": "code",
      "metadata": {
        "id": "o8d2PRIbAg_8"
      },
      "source": [
        "%%bash\n",
        "\n",
        "cd /home/cuda\n",
        "\n",
        "n=$(ls -dl dataset/* | wc -l)\n",
        "\n",
        "for (( i=0; i<$n; i=i+1 ))\n",
        "do\n",
        "  echo \"Testiram primer $i.\"\n",
        "  echo \"-------------------\"\n",
        "  LD_LIBRARY_PATH=\"/usr/local/libwb/lib:$LD_LIBRARY_PATH\" ./matrix_convolution \\\n",
        "      -i dataset/0/input0.ppm,dataset/0/input1.raw \\\n",
        "      -o output.ppm -e dataset/0/output.ppm \\\n",
        "      -t image\n",
        "  echo \"\"\n",
        "done"
      ],
      "execution_count": null,
      "outputs": []
    }
  ]
}