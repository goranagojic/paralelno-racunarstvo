{
  "nbformat": 4,
  "nbformat_minor": 0,
  "metadata": {
    "colab": {
      "name": "PR-termin2.ipynb",
      "provenance": [],
      "collapsed_sections": [],
      "authorship_tag": "ABX9TyO5ETcbub9pZdmGBZxjGttZ",
      "include_colab_link": true
    },
    "kernelspec": {
      "name": "python3",
      "display_name": "Python 3"
    }
  },
  "cells": [
    {
      "cell_type": "markdown",
      "metadata": {
        "id": "view-in-github",
        "colab_type": "text"
      },
      "source": [
        "<a href=\"https://colab.research.google.com/github/goranagojic/paralelno-racunarstvo/blob/main/PR_termin2.ipynb\" target=\"_parent\"><img src=\"https://colab.research.google.com/assets/colab-badge.svg\" alt=\"Open In Colab\"/></a>"
      ]
    },
    {
      "cell_type": "markdown",
      "metadata": {
        "id": "dgDUlwdmIPRf"
      },
      "source": [
        "# Paralelno računarstvo - Vežba 2\n",
        "\n",
        "Vežba obuhvata zadatke:\n",
        "*    Zadatak 1 - Sekvencijalno množenje matrice i vektora\n",
        "*    Zadatak 2 - Paralelizacija množenja matrice i vektora - blokovsko raspoređivanje\n",
        "*    Zadatak 3 - Paralelizacija množenja matrice i vektora - ciklično raspoređivanje\n",
        "*    Zadatak 4 - Paralelizacija množenja matrice i vektora - blok-ciklični raspored"
      ]
    },
    {
      "cell_type": "markdown",
      "metadata": {
        "id": "K05l-EnttRC5"
      },
      "source": [
        "## Preduslovi\n",
        "\n",
        "Pre nego započnete implementaciju zadatka, **obavezno** izvršite kod iz ćelije ispod. Kod će:\n",
        "\n",
        "*   napraviti direktorijum u koji će se čuvati sve izvrne i izvršne datoteke\n",
        "*   preuzeti datoteku `hpc_helpers.hpp` i sačuvati je na putanju /home/naprednicpp/"
      ]
    },
    {
      "cell_type": "code",
      "metadata": {
        "id": "WTzffLNOwyTp"
      },
      "source": [
        "%%bash\n",
        "\n",
        "# napravi radni direktorijum\n",
        "mkdir -p /home/naprednicpp\n",
        "\n",
        "# preuzmi hpc_helper zaglavlje\n",
        "[[ -f hpc_helpers.zip ]] || wget -O hpc_helpers.zip \"https://drive.google.com/u/0/uc?id=1PeEfh8h5SjEcQ5154Z6TpHIlJogQODwM&export=download\"\n",
        "unzip -oqqd /home/naprednicpp/ hpc_helpers.zip"
      ],
      "execution_count": null,
      "outputs": []
    },
    {
      "cell_type": "markdown",
      "metadata": {
        "id": "KlzQYHrzyFzV"
      },
      "source": [
        "## Zadatak 1\n",
        "\n",
        "Neka je $A$ matrica dimenzija $m \\times n$, a $x$ vektor dužine $n$. Potrebno je izračunati vektor $b$ koji je proizvod matrice $A$ i vektora $x$ tj. $b = Ax$.\n",
        "$$\n",
        "b_{i} = \\sum_{j=0}^{n-1}A_{ij}\\cdot x_{j}, \\forall i \\in \\{ 0, \\dots, m-1 \\}\n",
        "$$\n",
        "Sekvencijalno rešenje implementirati u telu funkcije `sequential_mult` u postavci zadatka (videti ispod)."
      ]
    },
    {
      "cell_type": "markdown",
      "metadata": {
        "id": "RnYCTMdwMQDX"
      },
      "source": [
        "## Zadatak 2\n",
        "\n",
        "Paralelizovati rešenje za množenje matrice i vektora iz prethodnog zadatka koristeći primitive klase `thread`. Pri implementaciji koristiti blokovski raspored niti i lambda funkcije."
      ]
    },
    {
      "cell_type": "markdown",
      "metadata": {
        "id": "8yh6cN2IMunZ"
      },
      "source": [
        "## Zadatak 3\n",
        "\n",
        "Paralelizovati rešenje za množenje matrice i vektora koristeći primitive klase `thread`. Implementirati ciklično raspoređivanje niti uz korišćenje lambda funkcija."
      ]
    },
    {
      "cell_type": "markdown",
      "metadata": {
        "id": "tJTO8JKaM-ob"
      },
      "source": [
        "## Zadatak 4\n",
        "\n",
        "Paralelizovati rešenje za množenje matrice i vektora koristeći primitive klase `thread`. Implementirati blok-ciklični raspored niti i lambda funkcije."
      ]
    },
    {
      "cell_type": "code",
      "metadata": {
        "id": "he-21Va2zJyI",
        "colab": {
          "base_uri": "https://localhost:8080/"
        },
        "outputId": "be39101c-f6b1-41c8-86d7-0faff12fa5f2"
      },
      "source": [
        "%%writefile /home/naprednicpp/mnozenjematricavektor.cpp\n",
        "\n",
        "#include \"hpc_helpers.hpp\"\n",
        "\n",
        "#include <iostream>\n",
        "#include <cstdint>\n",
        "#include <vector>\n",
        "#include <thread>\n",
        "\n",
        "template <\n",
        "typename value_t,\n",
        "typename index_t>\n",
        "void init(\n",
        "\n",
        "    std::vector<value_t>& A,\n",
        "    std::vector<value_t>& x,\n",
        "    index_t m,\n",
        "    index_t n) {\n",
        "    for (index_t row = 0; row < m; row++)\n",
        "        for (index_t col = 0; col < n; col++)\n",
        "            A[row*n+col] = row >= col ? 1 : 0;\n",
        "    for (index_t col = 0; col < n; col++)\n",
        "        x[col] = col;\n",
        "\n",
        "}\n",
        "\n",
        "\n",
        "template <\n",
        "    typename value_t,\n",
        "    typename index_t>\n",
        "void sequential_mult(\n",
        "    std::vector<value_t>& A,\n",
        "    std::vector<value_t>& x,\n",
        "    std::vector<value_t>& b,\n",
        "    index_t m,\n",
        "    index_t n) {\n",
        "        \n",
        "    // TODO ovde implementirati resenje zadatka 1\n",
        "\n",
        "}\n",
        "\n",
        "\n",
        "template <\n",
        "    typename value_t,\n",
        "    typename index_t>\n",
        "void cyclic_parallel_mult(\n",
        "    std::vector<value_t>& A, // linear memory for A\n",
        "    std::vector<value_t>& x, // to be mapped vector\n",
        "    std::vector<value_t>& b, // result vector\n",
        "    index_t m,               // number of rows\n",
        "    index_t n,               // number of cols\n",
        "    index_t num_threads=8) { // number of threads p\n",
        "    \n",
        "    // TODO ovde implementirati resenje zadatka 2\n",
        "\n",
        "}\n",
        "\n",
        "\n",
        "template <\n",
        "    typename value_t,\n",
        "    typename index_t>\n",
        "void block_parallel_mult(\n",
        "    std::vector<value_t>& A,\n",
        "    std::vector<value_t>& x,\n",
        "    std::vector<value_t>& b,\n",
        "    index_t m,\n",
        "    index_t n,\n",
        "    index_t num_threads=32) {\n",
        "\n",
        "    // TODO ovde implementirati resenje zadatka 3\n",
        "\n",
        "}\n",
        "\n",
        "\n",
        "template <\n",
        "    typename value_t,\n",
        "    typename index_t>\n",
        "void block_cyclic_parallel_mult(\n",
        "    std::vector<value_t>& A,\n",
        "    std::vector<value_t>& x,\n",
        "    std::vector<value_t>& b,\n",
        "    index_t m,\n",
        "    index_t n,\n",
        "    index_t num_threads=8,\n",
        "    index_t chunk_size=64/sizeof(value_t)) {\n",
        "\n",
        "        // TODO ovde implementirati resenje zadatka 4\n",
        "}\n",
        "\n",
        "\n",
        "int main(int argc, char* argv[]) {\n",
        "\n",
        "    const uint64_t n = 1UL << 2;\n",
        "    const uint64_t m = 1UL << 2;\n",
        "\n",
        "    TIMERSTART(overall)\n",
        "    TIMERSTART(alloc)\n",
        "    std::vector<  uint64_t> A(m*n);\n",
        "    std::vector<  uint64_t> x(n);\n",
        "    std::vector<  uint64_t> b(m);\n",
        "    TIMERSTOP(alloc)\n",
        "\n",
        "    TIMERSTART(init)\n",
        "    init(A, x, m, n);\n",
        "    TIMERSTOP(init)\n",
        "\n",
        "    TIMERSTART(mult_seq)\n",
        "    sequential_mult(A, x, b, m, n);\n",
        "    TIMERSTOP(mult_seq)\n",
        "\n",
        "    // TIMERSTART(mult_block)\n",
        "    // block_parallel_mult(A, x, b, m, n);\n",
        "    // TIMERSTOP(mult_block)\n",
        "\n",
        "    // TIMERSTART(mult_cyclic)\n",
        "    // cyclic_parallel_mult(A, x, b, m, n);\n",
        "    // TIMERSTOP(mult_cyclic)\n",
        "\n",
        "    // TIMERSTART(mult_block_cyclic)\n",
        "    // block_cyclic_parallel_mult(A, x, b, m, n);\n",
        "    // TIMERSTOP(mult_block_cyclic)\n",
        "\n",
        "    TIMERSTOP(overall)\n",
        "\n",
        "    //for (const auto& entry: b)\n",
        "    //    std::cout << entry << std::endl;\n",
        "\n",
        "    for (uint64_t index = 0; index < m; index++)\n",
        "        if (b[index] != index*(index+1)/2)\n",
        "            std::cout << \"error at position \" << index << \" \"\n",
        "                      << b[index] << std::endl;\n",
        "\n",
        "}\n"
      ],
      "execution_count": null,
      "outputs": [
        {
          "output_type": "stream",
          "text": [
            "Overwriting /home/naprednicpp/mnozenjematricavektor.cpp\n"
          ],
          "name": "stdout"
        }
      ]
    },
    {
      "cell_type": "markdown",
      "metadata": {
        "id": "tM7CblUFzqeC"
      },
      "source": [
        "### Kompajliranje izvornog koda\n",
        "\n",
        "Pokrenite komandu u ćeliji ispod kako biste kompajlirali rešenje."
      ]
    },
    {
      "cell_type": "code",
      "metadata": {
        "id": "dlZxGd-UzqeD"
      },
      "source": [
        "%%bash\n",
        "\n",
        "cd /home/naprednicpp\n",
        "g++ hpc_helpers.hpp mnozenjematricavektor.cpp -o mnozenjematricavektor -pthread"
      ],
      "execution_count": null,
      "outputs": []
    },
    {
      "cell_type": "markdown",
      "metadata": {
        "id": "0qabcCDKzqeD"
      },
      "source": [
        "### [Opciono] Provera da li postoji izvršna datoteka"
      ]
    },
    {
      "cell_type": "code",
      "metadata": {
        "id": "tNDMN6w6zqeE",
        "colab": {
          "base_uri": "https://localhost:8080/"
        },
        "outputId": "d9d3bbae-59a5-4ebc-9f47-527f37102a47"
      },
      "source": [
        "![[ -f /home/naprednicpp/sumavektora ]] && echo \"Postoji.\" || echo \"Ne postoji.\""
      ],
      "execution_count": null,
      "outputs": [
        {
          "output_type": "stream",
          "text": [
            "Ne postoji.\n"
          ],
          "name": "stdout"
        }
      ]
    },
    {
      "cell_type": "markdown",
      "metadata": {
        "id": "YdVJP7pmzqeF"
      },
      "source": [
        "### Pokretanje rešenja\n",
        "\n",
        "Pokretanje nemodifikovane postavke rešenja rezultuje ispisima:\n",
        "*    vremena izvršavanja za različite delove programa - sve funkcije za množenje matrice i vektora bi trebalo da budu izuzetno male vrednosti, jer funkcije nisu implementirane\n",
        "*    o netačnom rezultatu (*greška na poziciji ...*). Ovi ispisi će nestati nakon što ispravno implementirate funkcije za množenje matrice i vektora. Nakon uspešne implementacije povećajte vrednosti promenljivih $m$ i $n$ (npr. šiftovanjem za 14 pozicija) kako biste videli uticaj raspoređivanja na performanse izvršavanja rešenja."
      ]
    },
    {
      "cell_type": "code",
      "metadata": {
        "id": "Tr0JjTYezqeF"
      },
      "source": [
        "%%bash\n",
        "\n",
        "cd /home/naprednicpp\n",
        "./mnozenjematricavektor"
      ],
      "execution_count": null,
      "outputs": []
    }
  ]
}