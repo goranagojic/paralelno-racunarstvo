{
  "nbformat": 4,
  "nbformat_minor": 0,
  "metadata": {
    "colab": {
      "name": "PR-priprema-provera1.ipynb",
      "private_outputs": true,
      "provenance": [],
      "collapsed_sections": [
        "K05l-EnttRC5"
      ],
      "authorship_tag": "ABX9TyMZ86BtBCB0WAnvr51BGmuz",
      "include_colab_link": true
    },
    "kernelspec": {
      "name": "python3",
      "display_name": "Python 3"
    }
  },
  "cells": [
    {
      "cell_type": "markdown",
      "metadata": {
        "id": "view-in-github",
        "colab_type": "text"
      },
      "source": [
        "<a href=\"https://colab.research.google.com/github/goranagojic/paralelno-racunarstvo/blob/main/PR_priprema_provera1.ipynb\" target=\"_parent\"><img src=\"https://colab.research.google.com/assets/colab-badge.svg\" alt=\"Open In Colab\"/></a>"
      ]
    },
    {
      "cell_type": "markdown",
      "metadata": {
        "id": "C9WUT7aa2WFd"
      },
      "source": [
        "# Paralelno računarstvo - Priprema za prvu proveru\n",
        "\n",
        "Priprema za Z1.\n",
        "\n",
        "Vežba obuhvata zadatke:\n",
        "*    Zadatak 1 - Višenitno računanje sume kolona"
      ]
    },
    {
      "cell_type": "markdown",
      "metadata": {
        "id": "K05l-EnttRC5"
      },
      "source": [
        "## Preduslovi\n",
        "\n",
        "Pre nego započnete implementaciju zadatka, **obavezno** izvršite kod iz ćelije ispod. Kod će:\n",
        "\n",
        "*   napraviti direktorijum u koji će se čuvati sve izvrne i izvršne datoteke\n",
        "*   preuzeti datoteku `hpc_helpers.hpp` i sačuvati je na putanju /home/naprednicpp/"
      ]
    },
    {
      "cell_type": "code",
      "metadata": {
        "id": "WTzffLNOwyTp"
      },
      "source": [
        "%%bash\n",
        "\n",
        "# napravi radni direktorijum\n",
        "mkdir -p /home/naprednicpp\n",
        "\n",
        "# preuzmi hpc_helper zaglavlje\n",
        "[[ -f hpc_helpers.zip ]] || wget -O hpc_helpers.zip \"https://drive.google.com/u/0/uc?id=1PeEfh8h5SjEcQ5154Z6TpHIlJogQODwM&export=download\"\n",
        "unzip -oqqd /home/naprednicpp/ hpc_helpers.zip"
      ],
      "execution_count": null,
      "outputs": []
    },
    {
      "cell_type": "markdown",
      "metadata": {
        "id": "tJTO8JKaM-ob"
      },
      "source": [
        "## Zadatak 1\n",
        "\n",
        "Napisati C++ program koji popunjava matricu dimenzija $n \\times m$ proizvoljnim brojevima. Potrebno je uneti brojeve $n$ i $m$ tako da $n$ bude minimalno 1 000 000, a $m$ približno 100. Program sabira elemente svake kolone i na taj način matricu pretvara u vektor. Kako matrica ima približno 1 000 000 elemenata u jednoj koloni, potrebno je iskoristiti više niti pri sabiranju elemenata svake kolone. Takođe, iskoristiti atomične operacije pri saboranju elemenata kolone.\n",
        "\n",
        "Broj niti koje računaju sumu po kolonama se unosi na početku programa.\n",
        "\n",
        "Primer:\n",
        "$$\n",
        "\\begin{bmatrix} \n",
        "\\color{red}1 & \\color{red}2 & \\color{red}3 & \\color{red}4 & \\color{red}5 & \\color{red}6 & \\cdots \\\\\n",
        "\\color{red}7 & \\color{red}8 & \\color{red}9 & \\color{red}8 & \\color{red}7 & \\color{red}3 & \\cdots \\\\\n",
        "\\color{red}1 & \\color{red}2 & \\color{red}3 & \\color{red}4 & \\color{red}5 & \\color{red}6 & \\cdots \\\\\n",
        "\\color{blue}6 & \\color{blue}5 & \\color{blue}4 & \\color{blue}3 & \\color{blue}4 & \\color{blue}8 & \\cdots \\\\\n",
        "\\color{blue}1 & \\color{blue}2 & \\color{blue}3 & \\color{blue}4 & \\color{blue}5 & \\color{blue}6 & \\cdots \\\\\n",
        "\\color{blue}6 & \\color{blue}5 & \\color{blue}4 & \\color{blue}3 & \\color{blue}4 & \\color{blue}8 & \\cdots \\\\\n",
        "\\vdots & \\vdots & \\vdots & \\vdots & \\vdots & \\vdots & \\ddots\n",
        "\\end{bmatrix}\n",
        "$$\\\n",
        "Crveni deo računa po koloni radi $nit1$, plavi deo $nit2$, itd. Broj elemenata koje nit računa po koloni će zavisiti od dimenzija matrice i zahtevanog broja niti."
      ]
    },
    {
      "cell_type": "code",
      "metadata": {
        "id": "he-21Va2zJyI"
      },
      "source": [
        "%%writefile /home/naprednicpp/sumakolona.cpp\n",
        "\n",
        "int main(int argc, char * argv[]) {\n",
        "\n",
        "  // TODO implementirati\n",
        "\n",
        "  return 0;\n",
        "}"
      ],
      "execution_count": null,
      "outputs": []
    },
    {
      "cell_type": "markdown",
      "metadata": {
        "id": "tM7CblUFzqeC"
      },
      "source": [
        "### Kompajliranje izvornog koda\n",
        "\n",
        "Pokrenite komandu u ćeliji ispod kako biste kompajlirali rešenje."
      ]
    },
    {
      "cell_type": "code",
      "metadata": {
        "id": "dlZxGd-UzqeD"
      },
      "source": [
        "%%bash\n",
        "\n",
        "cd /home/naprednicpp\n",
        "g++ hpc_helpers.hpp sumakolona.cpp -o sumakolona -pthread -std=c++11"
      ],
      "execution_count": null,
      "outputs": []
    },
    {
      "cell_type": "markdown",
      "metadata": {
        "id": "0qabcCDKzqeD"
      },
      "source": [
        "### [Opciono] Provera da li postoji izvršna datoteka"
      ]
    },
    {
      "cell_type": "code",
      "metadata": {
        "id": "tNDMN6w6zqeE"
      },
      "source": [
        "![[ -f /home/naprednicpp/sumakolona ]] && echo \"Postoji.\" || echo \"Ne postoji.\""
      ],
      "execution_count": null,
      "outputs": []
    },
    {
      "cell_type": "markdown",
      "metadata": {
        "id": "YdVJP7pmzqeF"
      },
      "source": [
        "### Pokretanje rešenja"
      ]
    },
    {
      "cell_type": "code",
      "metadata": {
        "id": "Tr0JjTYezqeF"
      },
      "source": [
        "%%bash\n",
        "\n",
        "cd /home/naprednicpp\n",
        "./sumakolona"
      ],
      "execution_count": null,
      "outputs": []
    }
  ]
}